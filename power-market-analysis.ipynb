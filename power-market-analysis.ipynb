{
 "cells": [
  {
   "cell_type": "markdown",
   "metadata": {},
   "source": [
    "## 1. Loading data"
   ]
  },
  {
   "cell_type": "markdown",
   "metadata": {},
   "source": [
    "### 1.1. Loading libraries"
   ]
  },
  {
   "cell_type": "code",
   "execution_count": 70,
   "metadata": {},
   "outputs": [
    {
     "name": "stderr",
     "output_type": "stream",
     "text": [
      "C:\\Users\\Przem\\Anaconda3\\lib\\site-packages\\tensorboard\\compat\\tensorflow_stub\\dtypes.py:541: FutureWarning: Passing (type, 1) or '1type' as a synonym of type is deprecated; in a future version of numpy, it will be understood as (type, (1,)) / '(1,)type'.\n",
      "  _np_qint8 = np.dtype([(\"qint8\", np.int8, 1)])\n",
      "C:\\Users\\Przem\\Anaconda3\\lib\\site-packages\\tensorboard\\compat\\tensorflow_stub\\dtypes.py:542: FutureWarning: Passing (type, 1) or '1type' as a synonym of type is deprecated; in a future version of numpy, it will be understood as (type, (1,)) / '(1,)type'.\n",
      "  _np_quint8 = np.dtype([(\"quint8\", np.uint8, 1)])\n",
      "C:\\Users\\Przem\\Anaconda3\\lib\\site-packages\\tensorboard\\compat\\tensorflow_stub\\dtypes.py:543: FutureWarning: Passing (type, 1) or '1type' as a synonym of type is deprecated; in a future version of numpy, it will be understood as (type, (1,)) / '(1,)type'.\n",
      "  _np_qint16 = np.dtype([(\"qint16\", np.int16, 1)])\n",
      "C:\\Users\\Przem\\Anaconda3\\lib\\site-packages\\tensorboard\\compat\\tensorflow_stub\\dtypes.py:544: FutureWarning: Passing (type, 1) or '1type' as a synonym of type is deprecated; in a future version of numpy, it will be understood as (type, (1,)) / '(1,)type'.\n",
      "  _np_quint16 = np.dtype([(\"quint16\", np.uint16, 1)])\n",
      "C:\\Users\\Przem\\Anaconda3\\lib\\site-packages\\tensorboard\\compat\\tensorflow_stub\\dtypes.py:545: FutureWarning: Passing (type, 1) or '1type' as a synonym of type is deprecated; in a future version of numpy, it will be understood as (type, (1,)) / '(1,)type'.\n",
      "  _np_qint32 = np.dtype([(\"qint32\", np.int32, 1)])\n",
      "C:\\Users\\Przem\\Anaconda3\\lib\\site-packages\\tensorboard\\compat\\tensorflow_stub\\dtypes.py:550: FutureWarning: Passing (type, 1) or '1type' as a synonym of type is deprecated; in a future version of numpy, it will be understood as (type, (1,)) / '(1,)type'.\n",
      "  np_resource = np.dtype([(\"resource\", np.ubyte, 1)])\n",
      "C:\\Users\\Przem\\Anaconda3\\lib\\site-packages\\pytorch_lightning\\utilities\\distributed.py:25: UserWarning: Unsupported `ReduceOp` for distributed computing.\n",
      "  warnings.warn(*args, **kwargs)\n"
     ]
    }
   ],
   "source": [
    "import pandas as pd\n",
    "import numpy as np\n",
    "import matplotlib.pyplot as plt\n",
    "from sklearn.preprocessing import MinMaxScaler\n",
    "import time\n",
    "import torch\n",
    "import torch.nn as nn\n",
    "import seaborn as sns\n",
    "import math\n",
    "import calendar\n",
    "from sklearn.metrics import mean_squared_error\n",
    "import pytorch_lightning as pl\n",
    "import warnings\n",
    "warnings.filterwarnings(\"ignore\")"
   ]
  },
  {
   "cell_type": "markdown",
   "metadata": {},
   "source": [
    "## 2. Preparing data for analysis"
   ]
  },
  {
   "cell_type": "markdown",
   "metadata": {},
   "source": [
    "### 2.1. Data preprocessing"
   ]
  },
  {
   "cell_type": "code",
   "execution_count": 71,
   "metadata": {},
   "outputs": [],
   "source": [
    "df = pd.read_excel('2019-2020.xlsx', skiprows=2)"
   ]
  },
  {
   "cell_type": "code",
   "execution_count": 72,
   "metadata": {},
   "outputs": [
    {
     "data": {
      "text/html": [
       "<div>\n",
       "<style scoped>\n",
       "    .dataframe tbody tr th:only-of-type {\n",
       "        vertical-align: middle;\n",
       "    }\n",
       "\n",
       "    .dataframe tbody tr th {\n",
       "        vertical-align: top;\n",
       "    }\n",
       "\n",
       "    .dataframe thead th {\n",
       "        text-align: right;\n",
       "    }\n",
       "</style>\n",
       "<table border=\"1\" class=\"dataframe\">\n",
       "  <thead>\n",
       "    <tr style=\"text-align: right;\">\n",
       "      <th></th>\n",
       "      <th>data obrotu</th>\n",
       "      <th>data dostawy</th>\n",
       "      <th>godzina dostawy</th>\n",
       "      <th>kurs fixingu I (PLN/MWh)</th>\n",
       "      <th>wolumen fixingu I (MWh)</th>\n",
       "      <th>kurs fixingu II (PLN/MWh)</th>\n",
       "      <th>wolumen fixingu II (MWh)</th>\n",
       "      <th>kurs notowan ciaglych (PLN/MWh)</th>\n",
       "      <th>wolumen notowan ciaglych (MWh)</th>\n",
       "    </tr>\n",
       "  </thead>\n",
       "  <tbody>\n",
       "    <tr>\n",
       "      <th>0</th>\n",
       "      <td>2019-01-01</td>\n",
       "      <td>2019-01-02</td>\n",
       "      <td>1</td>\n",
       "      <td>40.00</td>\n",
       "      <td>4021.5</td>\n",
       "      <td>19.85</td>\n",
       "      <td>1372.6</td>\n",
       "      <td>20.00</td>\n",
       "      <td>34.50</td>\n",
       "    </tr>\n",
       "    <tr>\n",
       "      <th>1</th>\n",
       "      <td>2019-01-01</td>\n",
       "      <td>2019-01-02</td>\n",
       "      <td>2</td>\n",
       "      <td>31.00</td>\n",
       "      <td>3950.2</td>\n",
       "      <td>2023-09-01 00:00:00</td>\n",
       "      <td>1389.6</td>\n",
       "      <td>10.00</td>\n",
       "      <td>2020-10-29 00:00:00</td>\n",
       "    </tr>\n",
       "    <tr>\n",
       "      <th>2</th>\n",
       "      <td>2019-01-01</td>\n",
       "      <td>2019-01-02</td>\n",
       "      <td>3</td>\n",
       "      <td>31.00</td>\n",
       "      <td>3951.8</td>\n",
       "      <td>2020-01-05 00:00:00</td>\n",
       "      <td>1345.9</td>\n",
       "      <td>1959-09-01 00:00:00</td>\n",
       "      <td>39.40</td>\n",
       "    </tr>\n",
       "    <tr>\n",
       "      <th>3</th>\n",
       "      <td>2019-01-01</td>\n",
       "      <td>2019-01-02</td>\n",
       "      <td>4</td>\n",
       "      <td>31.00</td>\n",
       "      <td>3991.2</td>\n",
       "      <td>1988-09-01 00:00:00</td>\n",
       "      <td>1434.5</td>\n",
       "      <td>1959-09-01 00:00:00</td>\n",
       "      <td>39.40</td>\n",
       "    </tr>\n",
       "    <tr>\n",
       "      <th>4</th>\n",
       "      <td>2019-01-01</td>\n",
       "      <td>2019-01-02</td>\n",
       "      <td>5</td>\n",
       "      <td>31.00</td>\n",
       "      <td>4035.3</td>\n",
       "      <td>1993-09-01 00:00:00</td>\n",
       "      <td>1451.8</td>\n",
       "      <td>10.00</td>\n",
       "      <td>19.30</td>\n",
       "    </tr>\n",
       "    <tr>\n",
       "      <th>...</th>\n",
       "      <td>...</td>\n",
       "      <td>...</td>\n",
       "      <td>...</td>\n",
       "      <td>...</td>\n",
       "      <td>...</td>\n",
       "      <td>...</td>\n",
       "      <td>...</td>\n",
       "      <td>...</td>\n",
       "      <td>...</td>\n",
       "    </tr>\n",
       "    <tr>\n",
       "      <th>17371</th>\n",
       "      <td>2020-12-23</td>\n",
       "      <td>2020-12-24</td>\n",
       "      <td>20</td>\n",
       "      <td>226.30</td>\n",
       "      <td>2335.9</td>\n",
       "      <td>NaN</td>\n",
       "      <td>NaN</td>\n",
       "      <td>NaN</td>\n",
       "      <td>NaN</td>\n",
       "    </tr>\n",
       "    <tr>\n",
       "      <th>17372</th>\n",
       "      <td>2020-12-23</td>\n",
       "      <td>2020-12-24</td>\n",
       "      <td>21</td>\n",
       "      <td>220.44</td>\n",
       "      <td>2341.3</td>\n",
       "      <td>NaN</td>\n",
       "      <td>NaN</td>\n",
       "      <td>NaN</td>\n",
       "      <td>NaN</td>\n",
       "    </tr>\n",
       "    <tr>\n",
       "      <th>17373</th>\n",
       "      <td>2020-12-23</td>\n",
       "      <td>2020-12-24</td>\n",
       "      <td>22</td>\n",
       "      <td>214.67</td>\n",
       "      <td>2441.7</td>\n",
       "      <td>NaN</td>\n",
       "      <td>NaN</td>\n",
       "      <td>NaN</td>\n",
       "      <td>NaN</td>\n",
       "    </tr>\n",
       "    <tr>\n",
       "      <th>17374</th>\n",
       "      <td>2020-12-23</td>\n",
       "      <td>2020-12-24</td>\n",
       "      <td>23</td>\n",
       "      <td>197.34</td>\n",
       "      <td>2213.5</td>\n",
       "      <td>NaN</td>\n",
       "      <td>NaN</td>\n",
       "      <td>NaN</td>\n",
       "      <td>NaN</td>\n",
       "    </tr>\n",
       "    <tr>\n",
       "      <th>17375</th>\n",
       "      <td>2020-12-23</td>\n",
       "      <td>2020-12-24</td>\n",
       "      <td>24</td>\n",
       "      <td>163.00</td>\n",
       "      <td>2241.4</td>\n",
       "      <td>NaN</td>\n",
       "      <td>NaN</td>\n",
       "      <td>NaN</td>\n",
       "      <td>NaN</td>\n",
       "    </tr>\n",
       "  </tbody>\n",
       "</table>\n",
       "<p>17376 rows × 9 columns</p>\n",
       "</div>"
      ],
      "text/plain": [
       "      data obrotu data dostawy godzina dostawy  kurs fixingu I (PLN/MWh)  \\\n",
       "0      2019-01-01   2019-01-02               1                     40.00   \n",
       "1      2019-01-01   2019-01-02               2                     31.00   \n",
       "2      2019-01-01   2019-01-02               3                     31.00   \n",
       "3      2019-01-01   2019-01-02               4                     31.00   \n",
       "4      2019-01-01   2019-01-02               5                     31.00   \n",
       "...           ...          ...             ...                       ...   \n",
       "17371  2020-12-23   2020-12-24              20                    226.30   \n",
       "17372  2020-12-23   2020-12-24              21                    220.44   \n",
       "17373  2020-12-23   2020-12-24              22                    214.67   \n",
       "17374  2020-12-23   2020-12-24              23                    197.34   \n",
       "17375  2020-12-23   2020-12-24              24                    163.00   \n",
       "\n",
       "       wolumen fixingu I (MWh) kurs fixingu II (PLN/MWh)  \\\n",
       "0                       4021.5                     19.85   \n",
       "1                       3950.2       2023-09-01 00:00:00   \n",
       "2                       3951.8       2020-01-05 00:00:00   \n",
       "3                       3991.2       1988-09-01 00:00:00   \n",
       "4                       4035.3       1993-09-01 00:00:00   \n",
       "...                        ...                       ...   \n",
       "17371                   2335.9                       NaN   \n",
       "17372                   2341.3                       NaN   \n",
       "17373                   2441.7                       NaN   \n",
       "17374                   2213.5                       NaN   \n",
       "17375                   2241.4                       NaN   \n",
       "\n",
       "       wolumen fixingu II (MWh) kurs notowan ciaglych (PLN/MWh)  \\\n",
       "0                        1372.6                           20.00   \n",
       "1                        1389.6                           10.00   \n",
       "2                        1345.9             1959-09-01 00:00:00   \n",
       "3                        1434.5             1959-09-01 00:00:00   \n",
       "4                        1451.8                           10.00   \n",
       "...                         ...                             ...   \n",
       "17371                       NaN                             NaN   \n",
       "17372                       NaN                             NaN   \n",
       "17373                       NaN                             NaN   \n",
       "17374                       NaN                             NaN   \n",
       "17375                       NaN                             NaN   \n",
       "\n",
       "      wolumen notowan ciaglych (MWh)  \n",
       "0                              34.50  \n",
       "1                2020-10-29 00:00:00  \n",
       "2                              39.40  \n",
       "3                              39.40  \n",
       "4                              19.30  \n",
       "...                              ...  \n",
       "17371                            NaN  \n",
       "17372                            NaN  \n",
       "17373                            NaN  \n",
       "17374                            NaN  \n",
       "17375                            NaN  \n",
       "\n",
       "[17376 rows x 9 columns]"
      ]
     },
     "execution_count": 72,
     "metadata": {},
     "output_type": "execute_result"
    }
   ],
   "source": [
    "df"
   ]
  },
  {
   "cell_type": "code",
   "execution_count": 73,
   "metadata": {},
   "outputs": [
    {
     "data": {
      "text/html": [
       "<style  type=\"text/css\" >\n",
       "    #T_29d3e23e_640c_11eb_bdd2_84a93e013a85 th {\n",
       "          background: #008080;\n",
       "          color: white;\n",
       "          font-family: verdana;\n",
       "    }    #T_29d3e23e_640c_11eb_bdd2_84a93e013a85 td {\n",
       "          font-family: verdana;\n",
       "          color: black;\n",
       "    }    #T_29d3e23e_640c_11eb_bdd2_84a93e013a85 tr:nth-of-type(odd) {\n",
       "          background: #DCDCDC;\n",
       "    }    #T_29d3e23e_640c_11eb_bdd2_84a93e013a85 tr:nth-of-type(even) {\n",
       "          background: white;\n",
       "    }    #T_29d3e23e_640c_11eb_bdd2_84a93e013a85 tr:hover {\n",
       "          background: yellow;\n",
       "    }</style><table id=\"T_29d3e23e_640c_11eb_bdd2_84a93e013a85\" ><thead>    <tr>        <th class=\"col_heading level0 col0\" >data obrotu</th>        <th class=\"col_heading level0 col1\" >data dostawy</th>        <th class=\"col_heading level0 col2\" >godzina dostawy</th>        <th class=\"col_heading level0 col3\" >kurs fixingu I (PLN/MWh)</th>        <th class=\"col_heading level0 col4\" >wolumen fixingu I (MWh)</th>        <th class=\"col_heading level0 col5\" >kurs fixingu II (PLN/MWh)</th>        <th class=\"col_heading level0 col6\" >wolumen fixingu II (MWh)</th>        <th class=\"col_heading level0 col7\" >kurs notowan ciaglych (PLN/MWh)</th>        <th class=\"col_heading level0 col8\" >wolumen notowan ciaglych (MWh)</th>    </tr></thead><tbody>\n",
       "                <tr>\n",
       "                                <td id=\"T_29d3e23e_640c_11eb_bdd2_84a93e013a85row0_col0\" class=\"data row0 col0\" >2019-01-01 00:00:00</td>\n",
       "                        <td id=\"T_29d3e23e_640c_11eb_bdd2_84a93e013a85row0_col1\" class=\"data row0 col1\" >2019-01-02 00:00:00</td>\n",
       "                        <td id=\"T_29d3e23e_640c_11eb_bdd2_84a93e013a85row0_col2\" class=\"data row0 col2\" >1</td>\n",
       "                        <td id=\"T_29d3e23e_640c_11eb_bdd2_84a93e013a85row0_col3\" class=\"data row0 col3\" >40.000000</td>\n",
       "                        <td id=\"T_29d3e23e_640c_11eb_bdd2_84a93e013a85row0_col4\" class=\"data row0 col4\" >4021.500000</td>\n",
       "                        <td id=\"T_29d3e23e_640c_11eb_bdd2_84a93e013a85row0_col5\" class=\"data row0 col5\" >19.85</td>\n",
       "                        <td id=\"T_29d3e23e_640c_11eb_bdd2_84a93e013a85row0_col6\" class=\"data row0 col6\" >1372.600000</td>\n",
       "                        <td id=\"T_29d3e23e_640c_11eb_bdd2_84a93e013a85row0_col7\" class=\"data row0 col7\" >20.00</td>\n",
       "                        <td id=\"T_29d3e23e_640c_11eb_bdd2_84a93e013a85row0_col8\" class=\"data row0 col8\" >34.50</td>\n",
       "            </tr>\n",
       "            <tr>\n",
       "                                <td id=\"T_29d3e23e_640c_11eb_bdd2_84a93e013a85row1_col0\" class=\"data row1 col0\" >2019-01-01 00:00:00</td>\n",
       "                        <td id=\"T_29d3e23e_640c_11eb_bdd2_84a93e013a85row1_col1\" class=\"data row1 col1\" >2019-01-02 00:00:00</td>\n",
       "                        <td id=\"T_29d3e23e_640c_11eb_bdd2_84a93e013a85row1_col2\" class=\"data row1 col2\" >2</td>\n",
       "                        <td id=\"T_29d3e23e_640c_11eb_bdd2_84a93e013a85row1_col3\" class=\"data row1 col3\" >31.000000</td>\n",
       "                        <td id=\"T_29d3e23e_640c_11eb_bdd2_84a93e013a85row1_col4\" class=\"data row1 col4\" >3950.200000</td>\n",
       "                        <td id=\"T_29d3e23e_640c_11eb_bdd2_84a93e013a85row1_col5\" class=\"data row1 col5\" >2023-09-01 00:00:00</td>\n",
       "                        <td id=\"T_29d3e23e_640c_11eb_bdd2_84a93e013a85row1_col6\" class=\"data row1 col6\" >1389.600000</td>\n",
       "                        <td id=\"T_29d3e23e_640c_11eb_bdd2_84a93e013a85row1_col7\" class=\"data row1 col7\" >10.00</td>\n",
       "                        <td id=\"T_29d3e23e_640c_11eb_bdd2_84a93e013a85row1_col8\" class=\"data row1 col8\" >2020-10-29 00:00:00</td>\n",
       "            </tr>\n",
       "            <tr>\n",
       "                                <td id=\"T_29d3e23e_640c_11eb_bdd2_84a93e013a85row2_col0\" class=\"data row2 col0\" >2019-01-01 00:00:00</td>\n",
       "                        <td id=\"T_29d3e23e_640c_11eb_bdd2_84a93e013a85row2_col1\" class=\"data row2 col1\" >2019-01-02 00:00:00</td>\n",
       "                        <td id=\"T_29d3e23e_640c_11eb_bdd2_84a93e013a85row2_col2\" class=\"data row2 col2\" >3</td>\n",
       "                        <td id=\"T_29d3e23e_640c_11eb_bdd2_84a93e013a85row2_col3\" class=\"data row2 col3\" >31.000000</td>\n",
       "                        <td id=\"T_29d3e23e_640c_11eb_bdd2_84a93e013a85row2_col4\" class=\"data row2 col4\" >3951.800000</td>\n",
       "                        <td id=\"T_29d3e23e_640c_11eb_bdd2_84a93e013a85row2_col5\" class=\"data row2 col5\" >2020-01-05 00:00:00</td>\n",
       "                        <td id=\"T_29d3e23e_640c_11eb_bdd2_84a93e013a85row2_col6\" class=\"data row2 col6\" >1345.900000</td>\n",
       "                        <td id=\"T_29d3e23e_640c_11eb_bdd2_84a93e013a85row2_col7\" class=\"data row2 col7\" >1959-09-01 00:00:00</td>\n",
       "                        <td id=\"T_29d3e23e_640c_11eb_bdd2_84a93e013a85row2_col8\" class=\"data row2 col8\" >39.40</td>\n",
       "            </tr>\n",
       "            <tr>\n",
       "                                <td id=\"T_29d3e23e_640c_11eb_bdd2_84a93e013a85row3_col0\" class=\"data row3 col0\" >2019-01-01 00:00:00</td>\n",
       "                        <td id=\"T_29d3e23e_640c_11eb_bdd2_84a93e013a85row3_col1\" class=\"data row3 col1\" >2019-01-02 00:00:00</td>\n",
       "                        <td id=\"T_29d3e23e_640c_11eb_bdd2_84a93e013a85row3_col2\" class=\"data row3 col2\" >4</td>\n",
       "                        <td id=\"T_29d3e23e_640c_11eb_bdd2_84a93e013a85row3_col3\" class=\"data row3 col3\" >31.000000</td>\n",
       "                        <td id=\"T_29d3e23e_640c_11eb_bdd2_84a93e013a85row3_col4\" class=\"data row3 col4\" >3991.200000</td>\n",
       "                        <td id=\"T_29d3e23e_640c_11eb_bdd2_84a93e013a85row3_col5\" class=\"data row3 col5\" >1988-09-01 00:00:00</td>\n",
       "                        <td id=\"T_29d3e23e_640c_11eb_bdd2_84a93e013a85row3_col6\" class=\"data row3 col6\" >1434.500000</td>\n",
       "                        <td id=\"T_29d3e23e_640c_11eb_bdd2_84a93e013a85row3_col7\" class=\"data row3 col7\" >1959-09-01 00:00:00</td>\n",
       "                        <td id=\"T_29d3e23e_640c_11eb_bdd2_84a93e013a85row3_col8\" class=\"data row3 col8\" >39.40</td>\n",
       "            </tr>\n",
       "            <tr>\n",
       "                                <td id=\"T_29d3e23e_640c_11eb_bdd2_84a93e013a85row4_col0\" class=\"data row4 col0\" >2019-01-01 00:00:00</td>\n",
       "                        <td id=\"T_29d3e23e_640c_11eb_bdd2_84a93e013a85row4_col1\" class=\"data row4 col1\" >2019-01-02 00:00:00</td>\n",
       "                        <td id=\"T_29d3e23e_640c_11eb_bdd2_84a93e013a85row4_col2\" class=\"data row4 col2\" >5</td>\n",
       "                        <td id=\"T_29d3e23e_640c_11eb_bdd2_84a93e013a85row4_col3\" class=\"data row4 col3\" >31.000000</td>\n",
       "                        <td id=\"T_29d3e23e_640c_11eb_bdd2_84a93e013a85row4_col4\" class=\"data row4 col4\" >4035.300000</td>\n",
       "                        <td id=\"T_29d3e23e_640c_11eb_bdd2_84a93e013a85row4_col5\" class=\"data row4 col5\" >1993-09-01 00:00:00</td>\n",
       "                        <td id=\"T_29d3e23e_640c_11eb_bdd2_84a93e013a85row4_col6\" class=\"data row4 col6\" >1451.800000</td>\n",
       "                        <td id=\"T_29d3e23e_640c_11eb_bdd2_84a93e013a85row4_col7\" class=\"data row4 col7\" >10.00</td>\n",
       "                        <td id=\"T_29d3e23e_640c_11eb_bdd2_84a93e013a85row4_col8\" class=\"data row4 col8\" >19.30</td>\n",
       "            </tr>\n",
       "            <tr>\n",
       "                                <td id=\"T_29d3e23e_640c_11eb_bdd2_84a93e013a85row5_col0\" class=\"data row5 col0\" >2019-01-01 00:00:00</td>\n",
       "                        <td id=\"T_29d3e23e_640c_11eb_bdd2_84a93e013a85row5_col1\" class=\"data row5 col1\" >2019-01-02 00:00:00</td>\n",
       "                        <td id=\"T_29d3e23e_640c_11eb_bdd2_84a93e013a85row5_col2\" class=\"data row5 col2\" >6</td>\n",
       "                        <td id=\"T_29d3e23e_640c_11eb_bdd2_84a93e013a85row5_col3\" class=\"data row5 col3\" >45.000000</td>\n",
       "                        <td id=\"T_29d3e23e_640c_11eb_bdd2_84a93e013a85row5_col4\" class=\"data row5 col4\" >4210.700000</td>\n",
       "                        <td id=\"T_29d3e23e_640c_11eb_bdd2_84a93e013a85row5_col5\" class=\"data row5 col5\" >26.41</td>\n",
       "                        <td id=\"T_29d3e23e_640c_11eb_bdd2_84a93e013a85row5_col6\" class=\"data row5 col6\" >1478.400000</td>\n",
       "                        <td id=\"T_29d3e23e_640c_11eb_bdd2_84a93e013a85row5_col7\" class=\"data row5 col7\" >20.00</td>\n",
       "                        <td id=\"T_29d3e23e_640c_11eb_bdd2_84a93e013a85row5_col8\" class=\"data row5 col8\" >1970-07-01 00:00:00</td>\n",
       "            </tr>\n",
       "            <tr>\n",
       "                                <td id=\"T_29d3e23e_640c_11eb_bdd2_84a93e013a85row6_col0\" class=\"data row6 col0\" >2019-01-01 00:00:00</td>\n",
       "                        <td id=\"T_29d3e23e_640c_11eb_bdd2_84a93e013a85row6_col1\" class=\"data row6 col1\" >2019-01-02 00:00:00</td>\n",
       "                        <td id=\"T_29d3e23e_640c_11eb_bdd2_84a93e013a85row6_col2\" class=\"data row6 col2\" >7</td>\n",
       "                        <td id=\"T_29d3e23e_640c_11eb_bdd2_84a93e013a85row6_col3\" class=\"data row6 col3\" >108.500000</td>\n",
       "                        <td id=\"T_29d3e23e_640c_11eb_bdd2_84a93e013a85row6_col4\" class=\"data row6 col4\" >3822.300000</td>\n",
       "                        <td id=\"T_29d3e23e_640c_11eb_bdd2_84a93e013a85row6_col5\" class=\"data row6 col5\" >189.24</td>\n",
       "                        <td id=\"T_29d3e23e_640c_11eb_bdd2_84a93e013a85row6_col6\" class=\"data row6 col6\" >1017.200000</td>\n",
       "                        <td id=\"T_29d3e23e_640c_11eb_bdd2_84a93e013a85row6_col7\" class=\"data row6 col7\" >-</td>\n",
       "                        <td id=\"T_29d3e23e_640c_11eb_bdd2_84a93e013a85row6_col8\" class=\"data row6 col8\" >-</td>\n",
       "            </tr>\n",
       "            <tr>\n",
       "                                <td id=\"T_29d3e23e_640c_11eb_bdd2_84a93e013a85row7_col0\" class=\"data row7 col0\" >2019-01-01 00:00:00</td>\n",
       "                        <td id=\"T_29d3e23e_640c_11eb_bdd2_84a93e013a85row7_col1\" class=\"data row7 col1\" >2019-01-02 00:00:00</td>\n",
       "                        <td id=\"T_29d3e23e_640c_11eb_bdd2_84a93e013a85row7_col2\" class=\"data row7 col2\" >8</td>\n",
       "                        <td id=\"T_29d3e23e_640c_11eb_bdd2_84a93e013a85row7_col3\" class=\"data row7 col3\" >175.070000</td>\n",
       "                        <td id=\"T_29d3e23e_640c_11eb_bdd2_84a93e013a85row7_col4\" class=\"data row7 col4\" >5218.100000</td>\n",
       "                        <td id=\"T_29d3e23e_640c_11eb_bdd2_84a93e013a85row7_col5\" class=\"data row7 col5\" >213.27</td>\n",
       "                        <td id=\"T_29d3e23e_640c_11eb_bdd2_84a93e013a85row7_col6\" class=\"data row7 col6\" >1041.300000</td>\n",
       "                        <td id=\"T_29d3e23e_640c_11eb_bdd2_84a93e013a85row7_col7\" class=\"data row7 col7\" >-</td>\n",
       "                        <td id=\"T_29d3e23e_640c_11eb_bdd2_84a93e013a85row7_col8\" class=\"data row7 col8\" >-</td>\n",
       "            </tr>\n",
       "            <tr>\n",
       "                                <td id=\"T_29d3e23e_640c_11eb_bdd2_84a93e013a85row8_col0\" class=\"data row8 col0\" >2019-01-01 00:00:00</td>\n",
       "                        <td id=\"T_29d3e23e_640c_11eb_bdd2_84a93e013a85row8_col1\" class=\"data row8 col1\" >2019-01-02 00:00:00</td>\n",
       "                        <td id=\"T_29d3e23e_640c_11eb_bdd2_84a93e013a85row8_col2\" class=\"data row8 col2\" >9</td>\n",
       "                        <td id=\"T_29d3e23e_640c_11eb_bdd2_84a93e013a85row8_col3\" class=\"data row8 col3\" >197.940000</td>\n",
       "                        <td id=\"T_29d3e23e_640c_11eb_bdd2_84a93e013a85row8_col4\" class=\"data row8 col4\" >4519.800000</td>\n",
       "                        <td id=\"T_29d3e23e_640c_11eb_bdd2_84a93e013a85row8_col5\" class=\"data row8 col5\" >214.63</td>\n",
       "                        <td id=\"T_29d3e23e_640c_11eb_bdd2_84a93e013a85row8_col6\" class=\"data row8 col6\" >715.000000</td>\n",
       "                        <td id=\"T_29d3e23e_640c_11eb_bdd2_84a93e013a85row8_col7\" class=\"data row8 col7\" >-</td>\n",
       "                        <td id=\"T_29d3e23e_640c_11eb_bdd2_84a93e013a85row8_col8\" class=\"data row8 col8\" >-</td>\n",
       "            </tr>\n",
       "            <tr>\n",
       "                                <td id=\"T_29d3e23e_640c_11eb_bdd2_84a93e013a85row9_col0\" class=\"data row9 col0\" >2019-01-01 00:00:00</td>\n",
       "                        <td id=\"T_29d3e23e_640c_11eb_bdd2_84a93e013a85row9_col1\" class=\"data row9 col1\" >2019-01-02 00:00:00</td>\n",
       "                        <td id=\"T_29d3e23e_640c_11eb_bdd2_84a93e013a85row9_col2\" class=\"data row9 col2\" >10</td>\n",
       "                        <td id=\"T_29d3e23e_640c_11eb_bdd2_84a93e013a85row9_col3\" class=\"data row9 col3\" >201.980000</td>\n",
       "                        <td id=\"T_29d3e23e_640c_11eb_bdd2_84a93e013a85row9_col4\" class=\"data row9 col4\" >3911.200000</td>\n",
       "                        <td id=\"T_29d3e23e_640c_11eb_bdd2_84a93e013a85row9_col5\" class=\"data row9 col5\" >217.98</td>\n",
       "                        <td id=\"T_29d3e23e_640c_11eb_bdd2_84a93e013a85row9_col6\" class=\"data row9 col6\" >657.400000</td>\n",
       "                        <td id=\"T_29d3e23e_640c_11eb_bdd2_84a93e013a85row9_col7\" class=\"data row9 col7\" >218.00</td>\n",
       "                        <td id=\"T_29d3e23e_640c_11eb_bdd2_84a93e013a85row9_col8\" class=\"data row9 col8\" >9.00</td>\n",
       "            </tr>\n",
       "    </tbody></table>"
      ],
      "text/plain": [
       "<pandas.io.formats.style.Styler at 0x170f5f02e80>"
      ]
     },
     "execution_count": 73,
     "metadata": {},
     "output_type": "execute_result"
    }
   ],
   "source": [
    "df.head(10).style.set_table_styles(\n",
    "[{'selector': 'th',\n",
    "  'props': [('background', '#008080'), \n",
    "            ('color', 'white'),\n",
    "            ('font-family', 'verdana')]},\n",
    " {'selector': 'td',\n",
    "  'props': [('font-family', 'verdana'),\n",
    "            ('color', 'black')]},\n",
    "\n",
    " {'selector': 'tr:nth-of-type(odd)',\n",
    "  'props': [('background', '#DCDCDC')]}, \n",
    " \n",
    "  {'selector': 'tr:nth-of-type(even)',\n",
    "  'props': [('background', 'white')]},\n",
    " \n",
    "  {'selector': 'tr:hover',\n",
    "  'props': [('background', 'yellow')]},\n",
    "]).hide_index()"
   ]
  },
  {
   "cell_type": "code",
   "execution_count": 74,
   "metadata": {},
   "outputs": [
    {
     "data": {
      "text/plain": [
       "(17376, 9)"
      ]
     },
     "execution_count": 74,
     "metadata": {},
     "output_type": "execute_result"
    }
   ],
   "source": [
    "df.shape"
   ]
  },
  {
   "cell_type": "code",
   "execution_count": 75,
   "metadata": {},
   "outputs": [
    {
     "data": {
      "text/plain": [
       "0"
      ]
     },
     "execution_count": 75,
     "metadata": {},
     "output_type": "execute_result"
    }
   ],
   "source": [
    "df['godzina dostawy'].isnull().sum()"
   ]
  },
  {
   "cell_type": "code",
   "execution_count": 76,
   "metadata": {},
   "outputs": [
    {
     "data": {
      "text/html": [
       "<div>\n",
       "<style scoped>\n",
       "    .dataframe tbody tr th:only-of-type {\n",
       "        vertical-align: middle;\n",
       "    }\n",
       "\n",
       "    .dataframe tbody tr th {\n",
       "        vertical-align: top;\n",
       "    }\n",
       "\n",
       "    .dataframe thead th {\n",
       "        text-align: right;\n",
       "    }\n",
       "</style>\n",
       "<table border=\"1\" class=\"dataframe\">\n",
       "  <thead>\n",
       "    <tr style=\"text-align: right;\">\n",
       "      <th></th>\n",
       "      <th>data obrotu</th>\n",
       "      <th>data dostawy</th>\n",
       "      <th>godzina dostawy</th>\n",
       "      <th>kurs fixingu I (PLN/MWh)</th>\n",
       "      <th>wolumen fixingu I (MWh)</th>\n",
       "      <th>kurs fixingu II (PLN/MWh)</th>\n",
       "      <th>wolumen fixingu II (MWh)</th>\n",
       "      <th>kurs notowan ciaglych (PLN/MWh)</th>\n",
       "      <th>wolumen notowan ciaglych (MWh)</th>\n",
       "    </tr>\n",
       "  </thead>\n",
       "  <tbody>\n",
       "    <tr>\n",
       "      <th>0</th>\n",
       "      <td>2019-01-01</td>\n",
       "      <td>2019-01-02</td>\n",
       "      <td>1</td>\n",
       "      <td>40.00</td>\n",
       "      <td>4021.5</td>\n",
       "      <td>19.85</td>\n",
       "      <td>1372.6</td>\n",
       "      <td>20.00</td>\n",
       "      <td>34.50</td>\n",
       "    </tr>\n",
       "    <tr>\n",
       "      <th>1</th>\n",
       "      <td>2019-01-01</td>\n",
       "      <td>2019-01-02</td>\n",
       "      <td>2</td>\n",
       "      <td>31.00</td>\n",
       "      <td>3950.2</td>\n",
       "      <td>2023-09-01 00:00:00</td>\n",
       "      <td>1389.6</td>\n",
       "      <td>10.00</td>\n",
       "      <td>2020-10-29 00:00:00</td>\n",
       "    </tr>\n",
       "    <tr>\n",
       "      <th>2</th>\n",
       "      <td>2019-01-01</td>\n",
       "      <td>2019-01-02</td>\n",
       "      <td>3</td>\n",
       "      <td>31.00</td>\n",
       "      <td>3951.8</td>\n",
       "      <td>2020-01-05 00:00:00</td>\n",
       "      <td>1345.9</td>\n",
       "      <td>1959-09-01 00:00:00</td>\n",
       "      <td>39.40</td>\n",
       "    </tr>\n",
       "    <tr>\n",
       "      <th>3</th>\n",
       "      <td>2019-01-01</td>\n",
       "      <td>2019-01-02</td>\n",
       "      <td>4</td>\n",
       "      <td>31.00</td>\n",
       "      <td>3991.2</td>\n",
       "      <td>1988-09-01 00:00:00</td>\n",
       "      <td>1434.5</td>\n",
       "      <td>1959-09-01 00:00:00</td>\n",
       "      <td>39.40</td>\n",
       "    </tr>\n",
       "    <tr>\n",
       "      <th>4</th>\n",
       "      <td>2019-01-01</td>\n",
       "      <td>2019-01-02</td>\n",
       "      <td>5</td>\n",
       "      <td>31.00</td>\n",
       "      <td>4035.3</td>\n",
       "      <td>1993-09-01 00:00:00</td>\n",
       "      <td>1451.8</td>\n",
       "      <td>10.00</td>\n",
       "      <td>19.30</td>\n",
       "    </tr>\n",
       "    <tr>\n",
       "      <th>...</th>\n",
       "      <td>...</td>\n",
       "      <td>...</td>\n",
       "      <td>...</td>\n",
       "      <td>...</td>\n",
       "      <td>...</td>\n",
       "      <td>...</td>\n",
       "      <td>...</td>\n",
       "      <td>...</td>\n",
       "      <td>...</td>\n",
       "    </tr>\n",
       "    <tr>\n",
       "      <th>17371</th>\n",
       "      <td>2020-12-23</td>\n",
       "      <td>2020-12-24</td>\n",
       "      <td>20</td>\n",
       "      <td>226.30</td>\n",
       "      <td>2335.9</td>\n",
       "      <td>NaN</td>\n",
       "      <td>NaN</td>\n",
       "      <td>NaN</td>\n",
       "      <td>NaN</td>\n",
       "    </tr>\n",
       "    <tr>\n",
       "      <th>17372</th>\n",
       "      <td>2020-12-23</td>\n",
       "      <td>2020-12-24</td>\n",
       "      <td>21</td>\n",
       "      <td>220.44</td>\n",
       "      <td>2341.3</td>\n",
       "      <td>NaN</td>\n",
       "      <td>NaN</td>\n",
       "      <td>NaN</td>\n",
       "      <td>NaN</td>\n",
       "    </tr>\n",
       "    <tr>\n",
       "      <th>17373</th>\n",
       "      <td>2020-12-23</td>\n",
       "      <td>2020-12-24</td>\n",
       "      <td>22</td>\n",
       "      <td>214.67</td>\n",
       "      <td>2441.7</td>\n",
       "      <td>NaN</td>\n",
       "      <td>NaN</td>\n",
       "      <td>NaN</td>\n",
       "      <td>NaN</td>\n",
       "    </tr>\n",
       "    <tr>\n",
       "      <th>17374</th>\n",
       "      <td>2020-12-23</td>\n",
       "      <td>2020-12-24</td>\n",
       "      <td>23</td>\n",
       "      <td>197.34</td>\n",
       "      <td>2213.5</td>\n",
       "      <td>NaN</td>\n",
       "      <td>NaN</td>\n",
       "      <td>NaN</td>\n",
       "      <td>NaN</td>\n",
       "    </tr>\n",
       "    <tr>\n",
       "      <th>17375</th>\n",
       "      <td>2020-12-23</td>\n",
       "      <td>2020-12-24</td>\n",
       "      <td>24</td>\n",
       "      <td>163.00</td>\n",
       "      <td>2241.4</td>\n",
       "      <td>NaN</td>\n",
       "      <td>NaN</td>\n",
       "      <td>NaN</td>\n",
       "      <td>NaN</td>\n",
       "    </tr>\n",
       "  </tbody>\n",
       "</table>\n",
       "<p>17376 rows × 9 columns</p>\n",
       "</div>"
      ],
      "text/plain": [
       "      data obrotu data dostawy godzina dostawy  kurs fixingu I (PLN/MWh)  \\\n",
       "0      2019-01-01   2019-01-02               1                     40.00   \n",
       "1      2019-01-01   2019-01-02               2                     31.00   \n",
       "2      2019-01-01   2019-01-02               3                     31.00   \n",
       "3      2019-01-01   2019-01-02               4                     31.00   \n",
       "4      2019-01-01   2019-01-02               5                     31.00   \n",
       "...           ...          ...             ...                       ...   \n",
       "17371  2020-12-23   2020-12-24              20                    226.30   \n",
       "17372  2020-12-23   2020-12-24              21                    220.44   \n",
       "17373  2020-12-23   2020-12-24              22                    214.67   \n",
       "17374  2020-12-23   2020-12-24              23                    197.34   \n",
       "17375  2020-12-23   2020-12-24              24                    163.00   \n",
       "\n",
       "       wolumen fixingu I (MWh) kurs fixingu II (PLN/MWh)  \\\n",
       "0                       4021.5                     19.85   \n",
       "1                       3950.2       2023-09-01 00:00:00   \n",
       "2                       3951.8       2020-01-05 00:00:00   \n",
       "3                       3991.2       1988-09-01 00:00:00   \n",
       "4                       4035.3       1993-09-01 00:00:00   \n",
       "...                        ...                       ...   \n",
       "17371                   2335.9                       NaN   \n",
       "17372                   2341.3                       NaN   \n",
       "17373                   2441.7                       NaN   \n",
       "17374                   2213.5                       NaN   \n",
       "17375                   2241.4                       NaN   \n",
       "\n",
       "       wolumen fixingu II (MWh) kurs notowan ciaglych (PLN/MWh)  \\\n",
       "0                        1372.6                           20.00   \n",
       "1                        1389.6                           10.00   \n",
       "2                        1345.9             1959-09-01 00:00:00   \n",
       "3                        1434.5             1959-09-01 00:00:00   \n",
       "4                        1451.8                           10.00   \n",
       "...                         ...                             ...   \n",
       "17371                       NaN                             NaN   \n",
       "17372                       NaN                             NaN   \n",
       "17373                       NaN                             NaN   \n",
       "17374                       NaN                             NaN   \n",
       "17375                       NaN                             NaN   \n",
       "\n",
       "      wolumen notowan ciaglych (MWh)  \n",
       "0                              34.50  \n",
       "1                2020-10-29 00:00:00  \n",
       "2                              39.40  \n",
       "3                              39.40  \n",
       "4                              19.30  \n",
       "...                              ...  \n",
       "17371                            NaN  \n",
       "17372                            NaN  \n",
       "17373                            NaN  \n",
       "17374                            NaN  \n",
       "17375                            NaN  \n",
       "\n",
       "[17376 rows x 9 columns]"
      ]
     },
     "execution_count": 76,
     "metadata": {},
     "output_type": "execute_result"
    }
   ],
   "source": [
    "df"
   ]
  },
  {
   "cell_type": "code",
   "execution_count": 77,
   "metadata": {},
   "outputs": [],
   "source": [
    "df['godzina dostawy'] = pd.to_numeric(df['godzina dostawy'], errors='coerce')\n",
    "df['date'] = pd.to_datetime(df['data dostawy']) + pd.to_timedelta(df['godzina dostawy'], unit='h')\n",
    "\n",
    "df = pd.DataFrame(data={'date': df['date'], 'fixing I course (PLN/MWh)':df['kurs fixingu I (PLN/MWh)']})\n",
    "df['month'] = pd.DatetimeIndex(df['date']).month\n",
    "df['month_name'] = pd.to_datetime(df['month'], format='%m').dt.month_name()\n",
    "df['hour'] = df.date.dt.hour\n",
    "df['week'] = pd.to_datetime(df['date']).dt.week\n",
    "df['date_normalize'] = pd.to_datetime(df['date']).dt.strftime('%Y-%m-%d') \n",
    "df['day_of_week'] = pd.to_datetime(df['date']).dt.dayofweek\n",
    "df['day_of_month'] = pd.to_datetime(df['date_normalize']).dt.day\n",
    "df['md'] = pd.to_datetime(df['date']).dt.strftime('%m-%d') "
   ]
  },
  {
   "cell_type": "code",
   "execution_count": 78,
   "metadata": {},
   "outputs": [],
   "source": [
    "# def label_r(row):\n",
    "\n",
    "    \n",
    "#     if row['month_name'] in ('January', 'February', 'March'):\n",
    "#         return 'Winter'\n",
    "#     if row['month_name'] in ('April', 'May', 'June'):\n",
    "#         return 'Spring'\n",
    "#     if row['month_name'] in ('July', 'August', 'September'):\n",
    "#         return 'Summer'\n",
    "#     if row['month_name'] in ('October', 'November', 'December'):\n",
    "#         return 'Autumn'\n",
    "\n",
    "#     if (row['month_name']== 'March') and (row['day_of_month'] > 20):\n",
    "#         return 'Spring'\n",
    "\n",
    "#     if (row['month_name'] == 'June') and (row['day_of_month'] > 21):\n",
    "#         return 'Summer'\n",
    "#     if (row['month_name'] == 'September') and (row['day_of_month'] > 22):\n",
    "#         return 'Autumn'\n",
    "#     if (row['month_name'] == 'December') and (row['day_of_month'] > 21):\n",
    "#         return 'Winter'\n"
   ]
  },
  {
   "cell_type": "code",
   "execution_count": 79,
   "metadata": {},
   "outputs": [],
   "source": [
    "def season_of_date(date):\n",
    "    \n",
    "    \n",
    "    seasons = {'spring': pd.date_range(start='2019-03-21', end='2019-06-20').strftime('%m-%d'),\n",
    "               'summer': pd.date_range(start='2019-06-21', end='2019-09-22').strftime('%m-%d'),\n",
    "               'autumn': pd.date_range(start='2019-09-23', end='2019-12-20').strftime('%m-%d')}\n",
    "    if date in seasons['spring']:\n",
    "        return 'Spring'\n",
    "    if date in seasons['summer']:\n",
    "        return 'Summer'\n",
    "    if date in seasons['autumn']:\n",
    "        return 'Autumn'\n",
    "    else:\n",
    "        return 'Winter'"
   ]
  },
  {
   "cell_type": "code",
   "execution_count": 80,
   "metadata": {},
   "outputs": [],
   "source": [
    "df['season'] = df.md.map(season_of_date)"
   ]
  },
  {
   "cell_type": "code",
   "execution_count": 81,
   "metadata": {},
   "outputs": [],
   "source": [
    "def polish_label_r(row):\n",
    "    if row['month_name'] == 'January':\n",
    "        return 'Styczeń'\n",
    "    if row['month_name'] == 'February':\n",
    "        return 'Luty'\n",
    "    if row['month_name'] == 'March':\n",
    "        return 'Marzec'\n",
    "    if row['month_name'] == 'April':\n",
    "        return 'Kwiecień'\n",
    "    if row['month_name'] == 'May':\n",
    "        return 'Maj'\n",
    "    if row['month_name'] == 'June':\n",
    "        return 'Czerwiec'\n",
    "    if row['month_name'] == 'July':\n",
    "        return 'Lipiec'\n",
    "    if row['month_name'] == 'August':\n",
    "        return 'Sierpień'\n",
    "    if row['month_name'] == 'September':\n",
    "        return 'Wrzesień'\n",
    "    if row['month_name'] == 'October':\n",
    "        return 'Październik'\n",
    "    if row['month_name'] == 'November':\n",
    "        return 'Listopad'\n",
    "    if row['month_name'] == 'December':\n",
    "        return 'Grudzień'\n"
   ]
  },
  {
   "cell_type": "code",
   "execution_count": 82,
   "metadata": {},
   "outputs": [],
   "source": [
    "df['pl_month_name'] = df.apply(lambda row: polish_label_r(row), axis=1)"
   ]
  },
  {
   "cell_type": "code",
   "execution_count": 83,
   "metadata": {},
   "outputs": [
    {
     "data": {
      "text/html": [
       "<div>\n",
       "<style scoped>\n",
       "    .dataframe tbody tr th:only-of-type {\n",
       "        vertical-align: middle;\n",
       "    }\n",
       "\n",
       "    .dataframe tbody tr th {\n",
       "        vertical-align: top;\n",
       "    }\n",
       "\n",
       "    .dataframe thead th {\n",
       "        text-align: right;\n",
       "    }\n",
       "</style>\n",
       "<table border=\"1\" class=\"dataframe\">\n",
       "  <thead>\n",
       "    <tr style=\"text-align: right;\">\n",
       "      <th></th>\n",
       "      <th>date</th>\n",
       "      <th>fixing I course (PLN/MWh)</th>\n",
       "      <th>month</th>\n",
       "      <th>month_name</th>\n",
       "      <th>hour</th>\n",
       "      <th>week</th>\n",
       "      <th>date_normalize</th>\n",
       "      <th>day_of_week</th>\n",
       "      <th>day_of_month</th>\n",
       "      <th>md</th>\n",
       "      <th>season</th>\n",
       "      <th>pl_month_name</th>\n",
       "    </tr>\n",
       "  </thead>\n",
       "  <tbody>\n",
       "    <tr>\n",
       "      <th>0</th>\n",
       "      <td>2019-01-02 01:00:00</td>\n",
       "      <td>40.00</td>\n",
       "      <td>1.0</td>\n",
       "      <td>January</td>\n",
       "      <td>1.0</td>\n",
       "      <td>1.0</td>\n",
       "      <td>2019-01-02</td>\n",
       "      <td>2.0</td>\n",
       "      <td>2.0</td>\n",
       "      <td>01-02</td>\n",
       "      <td>Winter</td>\n",
       "      <td>Styczeń</td>\n",
       "    </tr>\n",
       "    <tr>\n",
       "      <th>1</th>\n",
       "      <td>2019-01-02 02:00:00</td>\n",
       "      <td>31.00</td>\n",
       "      <td>1.0</td>\n",
       "      <td>January</td>\n",
       "      <td>2.0</td>\n",
       "      <td>1.0</td>\n",
       "      <td>2019-01-02</td>\n",
       "      <td>2.0</td>\n",
       "      <td>2.0</td>\n",
       "      <td>01-02</td>\n",
       "      <td>Winter</td>\n",
       "      <td>Styczeń</td>\n",
       "    </tr>\n",
       "    <tr>\n",
       "      <th>2</th>\n",
       "      <td>2019-01-02 03:00:00</td>\n",
       "      <td>31.00</td>\n",
       "      <td>1.0</td>\n",
       "      <td>January</td>\n",
       "      <td>3.0</td>\n",
       "      <td>1.0</td>\n",
       "      <td>2019-01-02</td>\n",
       "      <td>2.0</td>\n",
       "      <td>2.0</td>\n",
       "      <td>01-02</td>\n",
       "      <td>Winter</td>\n",
       "      <td>Styczeń</td>\n",
       "    </tr>\n",
       "    <tr>\n",
       "      <th>3</th>\n",
       "      <td>2019-01-02 04:00:00</td>\n",
       "      <td>31.00</td>\n",
       "      <td>1.0</td>\n",
       "      <td>January</td>\n",
       "      <td>4.0</td>\n",
       "      <td>1.0</td>\n",
       "      <td>2019-01-02</td>\n",
       "      <td>2.0</td>\n",
       "      <td>2.0</td>\n",
       "      <td>01-02</td>\n",
       "      <td>Winter</td>\n",
       "      <td>Styczeń</td>\n",
       "    </tr>\n",
       "    <tr>\n",
       "      <th>4</th>\n",
       "      <td>2019-01-02 05:00:00</td>\n",
       "      <td>31.00</td>\n",
       "      <td>1.0</td>\n",
       "      <td>January</td>\n",
       "      <td>5.0</td>\n",
       "      <td>1.0</td>\n",
       "      <td>2019-01-02</td>\n",
       "      <td>2.0</td>\n",
       "      <td>2.0</td>\n",
       "      <td>01-02</td>\n",
       "      <td>Winter</td>\n",
       "      <td>Styczeń</td>\n",
       "    </tr>\n",
       "    <tr>\n",
       "      <th>...</th>\n",
       "      <td>...</td>\n",
       "      <td>...</td>\n",
       "      <td>...</td>\n",
       "      <td>...</td>\n",
       "      <td>...</td>\n",
       "      <td>...</td>\n",
       "      <td>...</td>\n",
       "      <td>...</td>\n",
       "      <td>...</td>\n",
       "      <td>...</td>\n",
       "      <td>...</td>\n",
       "      <td>...</td>\n",
       "    </tr>\n",
       "    <tr>\n",
       "      <th>17371</th>\n",
       "      <td>2020-12-24 20:00:00</td>\n",
       "      <td>226.30</td>\n",
       "      <td>12.0</td>\n",
       "      <td>December</td>\n",
       "      <td>20.0</td>\n",
       "      <td>52.0</td>\n",
       "      <td>2020-12-24</td>\n",
       "      <td>3.0</td>\n",
       "      <td>24.0</td>\n",
       "      <td>12-24</td>\n",
       "      <td>Winter</td>\n",
       "      <td>Grudzień</td>\n",
       "    </tr>\n",
       "    <tr>\n",
       "      <th>17372</th>\n",
       "      <td>2020-12-24 21:00:00</td>\n",
       "      <td>220.44</td>\n",
       "      <td>12.0</td>\n",
       "      <td>December</td>\n",
       "      <td>21.0</td>\n",
       "      <td>52.0</td>\n",
       "      <td>2020-12-24</td>\n",
       "      <td>3.0</td>\n",
       "      <td>24.0</td>\n",
       "      <td>12-24</td>\n",
       "      <td>Winter</td>\n",
       "      <td>Grudzień</td>\n",
       "    </tr>\n",
       "    <tr>\n",
       "      <th>17373</th>\n",
       "      <td>2020-12-24 22:00:00</td>\n",
       "      <td>214.67</td>\n",
       "      <td>12.0</td>\n",
       "      <td>December</td>\n",
       "      <td>22.0</td>\n",
       "      <td>52.0</td>\n",
       "      <td>2020-12-24</td>\n",
       "      <td>3.0</td>\n",
       "      <td>24.0</td>\n",
       "      <td>12-24</td>\n",
       "      <td>Winter</td>\n",
       "      <td>Grudzień</td>\n",
       "    </tr>\n",
       "    <tr>\n",
       "      <th>17374</th>\n",
       "      <td>2020-12-24 23:00:00</td>\n",
       "      <td>197.34</td>\n",
       "      <td>12.0</td>\n",
       "      <td>December</td>\n",
       "      <td>23.0</td>\n",
       "      <td>52.0</td>\n",
       "      <td>2020-12-24</td>\n",
       "      <td>3.0</td>\n",
       "      <td>24.0</td>\n",
       "      <td>12-24</td>\n",
       "      <td>Winter</td>\n",
       "      <td>Grudzień</td>\n",
       "    </tr>\n",
       "    <tr>\n",
       "      <th>17375</th>\n",
       "      <td>2020-12-25 00:00:00</td>\n",
       "      <td>163.00</td>\n",
       "      <td>12.0</td>\n",
       "      <td>December</td>\n",
       "      <td>0.0</td>\n",
       "      <td>52.0</td>\n",
       "      <td>2020-12-25</td>\n",
       "      <td>4.0</td>\n",
       "      <td>25.0</td>\n",
       "      <td>12-25</td>\n",
       "      <td>Winter</td>\n",
       "      <td>Grudzień</td>\n",
       "    </tr>\n",
       "  </tbody>\n",
       "</table>\n",
       "<p>17376 rows × 12 columns</p>\n",
       "</div>"
      ],
      "text/plain": [
       "                     date  fixing I course (PLN/MWh)  month month_name  hour  \\\n",
       "0     2019-01-02 01:00:00                      40.00    1.0    January   1.0   \n",
       "1     2019-01-02 02:00:00                      31.00    1.0    January   2.0   \n",
       "2     2019-01-02 03:00:00                      31.00    1.0    January   3.0   \n",
       "3     2019-01-02 04:00:00                      31.00    1.0    January   4.0   \n",
       "4     2019-01-02 05:00:00                      31.00    1.0    January   5.0   \n",
       "...                   ...                        ...    ...        ...   ...   \n",
       "17371 2020-12-24 20:00:00                     226.30   12.0   December  20.0   \n",
       "17372 2020-12-24 21:00:00                     220.44   12.0   December  21.0   \n",
       "17373 2020-12-24 22:00:00                     214.67   12.0   December  22.0   \n",
       "17374 2020-12-24 23:00:00                     197.34   12.0   December  23.0   \n",
       "17375 2020-12-25 00:00:00                     163.00   12.0   December   0.0   \n",
       "\n",
       "       week date_normalize  day_of_week  day_of_month     md  season  \\\n",
       "0       1.0     2019-01-02          2.0           2.0  01-02  Winter   \n",
       "1       1.0     2019-01-02          2.0           2.0  01-02  Winter   \n",
       "2       1.0     2019-01-02          2.0           2.0  01-02  Winter   \n",
       "3       1.0     2019-01-02          2.0           2.0  01-02  Winter   \n",
       "4       1.0     2019-01-02          2.0           2.0  01-02  Winter   \n",
       "...     ...            ...          ...           ...    ...     ...   \n",
       "17371  52.0     2020-12-24          3.0          24.0  12-24  Winter   \n",
       "17372  52.0     2020-12-24          3.0          24.0  12-24  Winter   \n",
       "17373  52.0     2020-12-24          3.0          24.0  12-24  Winter   \n",
       "17374  52.0     2020-12-24          3.0          24.0  12-24  Winter   \n",
       "17375  52.0     2020-12-25          4.0          25.0  12-25  Winter   \n",
       "\n",
       "      pl_month_name  \n",
       "0           Styczeń  \n",
       "1           Styczeń  \n",
       "2           Styczeń  \n",
       "3           Styczeń  \n",
       "4           Styczeń  \n",
       "...             ...  \n",
       "17371      Grudzień  \n",
       "17372      Grudzień  \n",
       "17373      Grudzień  \n",
       "17374      Grudzień  \n",
       "17375      Grudzień  \n",
       "\n",
       "[17376 rows x 12 columns]"
      ]
     },
     "execution_count": 83,
     "metadata": {},
     "output_type": "execute_result"
    }
   ],
   "source": [
    "df"
   ]
  },
  {
   "cell_type": "code",
   "execution_count": 84,
   "metadata": {},
   "outputs": [],
   "source": [
    "df2019 = df[df['date']<'2020-01-01 00:00:00'].reset_index(drop=True)\n",
    "df2020 = df[df['date']>='2020-01-01 00:00:00'].reset_index(drop=True)\n"
   ]
  },
  {
   "cell_type": "code",
   "execution_count": 85,
   "metadata": {},
   "outputs": [],
   "source": [
    "df2019_monthly = df2019.groupby(['month_name']).agg({'fixing I course (PLN/MWh)':['mean', 'std']}).reset_index()\n",
    "df2020_monthly = df2020.groupby(['month_name']).agg({'fixing I course (PLN/MWh)':['mean', 'std']}).reset_index()\n",
    "\n",
    "df2019_monthly = df2019_monthly.rename(columns={\"fixing I course (PLN/MWh)\": \"fixing I course 2019\"}) \n",
    "df2020_monthly = df2020_monthly.rename(columns={\"fixing I course (PLN/MWh)\": \"fixing I course 2020\"}) \n",
    "\n",
    "df_fx_monthly = pd.merge(df2019_monthly, df2020_monthly, how='inner', on=['month_name']) "
   ]
  },
  {
   "cell_type": "code",
   "execution_count": 86,
   "metadata": {},
   "outputs": [],
   "source": [
    "cats = [\"January\", \"February\", \"March\", \"April\", \"May\", \n",
    "        \"June\", \"July\", \"August\", \"September\", \"October\", \"November\", \"December\"]\n",
    "df_fx_monthly['month_name'] = pd.Categorical(df_fx_monthly['month_name'], categories=cats, ordered=True)\n",
    "df_fx_monthly = df_fx_monthly.sort_values('month_name').reset_index(drop=True)"
   ]
  },
  {
   "cell_type": "code",
   "execution_count": 87,
   "metadata": {},
   "outputs": [
    {
     "data": {
      "text/html": [
       "<div>\n",
       "<style scoped>\n",
       "    .dataframe tbody tr th:only-of-type {\n",
       "        vertical-align: middle;\n",
       "    }\n",
       "\n",
       "    .dataframe tbody tr th {\n",
       "        vertical-align: top;\n",
       "    }\n",
       "\n",
       "    .dataframe thead tr th {\n",
       "        text-align: left;\n",
       "    }\n",
       "</style>\n",
       "<table border=\"1\" class=\"dataframe\">\n",
       "  <thead>\n",
       "    <tr>\n",
       "      <th></th>\n",
       "      <th>month_name</th>\n",
       "      <th colspan=\"2\" halign=\"left\">fixing I course 2019</th>\n",
       "      <th colspan=\"2\" halign=\"left\">fixing I course 2020</th>\n",
       "    </tr>\n",
       "    <tr>\n",
       "      <th></th>\n",
       "      <th></th>\n",
       "      <th>mean</th>\n",
       "      <th>std</th>\n",
       "      <th>mean</th>\n",
       "      <th>std</th>\n",
       "    </tr>\n",
       "  </thead>\n",
       "  <tbody>\n",
       "    <tr>\n",
       "      <th>0</th>\n",
       "      <td>January</td>\n",
       "      <td>246.159666</td>\n",
       "      <td>61.076298</td>\n",
       "      <td>191.011062</td>\n",
       "      <td>43.146024</td>\n",
       "    </tr>\n",
       "    <tr>\n",
       "      <th>1</th>\n",
       "      <td>February</td>\n",
       "      <td>214.887188</td>\n",
       "      <td>41.679537</td>\n",
       "      <td>176.725517</td>\n",
       "      <td>52.982464</td>\n",
       "    </tr>\n",
       "    <tr>\n",
       "      <th>2</th>\n",
       "      <td>March</td>\n",
       "      <td>199.216326</td>\n",
       "      <td>39.305834</td>\n",
       "      <td>165.831844</td>\n",
       "      <td>46.175310</td>\n",
       "    </tr>\n",
       "    <tr>\n",
       "      <th>3</th>\n",
       "      <td>April</td>\n",
       "      <td>227.157708</td>\n",
       "      <td>41.537521</td>\n",
       "      <td>151.707708</td>\n",
       "      <td>29.625892</td>\n",
       "    </tr>\n",
       "    <tr>\n",
       "      <th>4</th>\n",
       "      <td>May</td>\n",
       "      <td>240.303602</td>\n",
       "      <td>41.354861</td>\n",
       "      <td>172.192137</td>\n",
       "      <td>31.405487</td>\n",
       "    </tr>\n",
       "    <tr>\n",
       "      <th>5</th>\n",
       "      <td>June</td>\n",
       "      <td>250.604653</td>\n",
       "      <td>54.178740</td>\n",
       "      <td>217.278208</td>\n",
       "      <td>33.618817</td>\n",
       "    </tr>\n",
       "    <tr>\n",
       "      <th>6</th>\n",
       "      <td>July</td>\n",
       "      <td>239.451022</td>\n",
       "      <td>43.920551</td>\n",
       "      <td>222.505618</td>\n",
       "      <td>24.483365</td>\n",
       "    </tr>\n",
       "    <tr>\n",
       "      <th>7</th>\n",
       "      <td>August</td>\n",
       "      <td>267.395685</td>\n",
       "      <td>35.212064</td>\n",
       "      <td>231.319597</td>\n",
       "      <td>36.808373</td>\n",
       "    </tr>\n",
       "    <tr>\n",
       "      <th>8</th>\n",
       "      <td>September</td>\n",
       "      <td>243.292347</td>\n",
       "      <td>38.327626</td>\n",
       "      <td>242.856528</td>\n",
       "      <td>42.755387</td>\n",
       "    </tr>\n",
       "    <tr>\n",
       "      <th>9</th>\n",
       "      <td>October</td>\n",
       "      <td>229.913199</td>\n",
       "      <td>40.728084</td>\n",
       "      <td>240.093992</td>\n",
       "      <td>45.131155</td>\n",
       "    </tr>\n",
       "    <tr>\n",
       "      <th>10</th>\n",
       "      <td>November</td>\n",
       "      <td>215.854097</td>\n",
       "      <td>38.477430</td>\n",
       "      <td>243.809625</td>\n",
       "      <td>51.683986</td>\n",
       "    </tr>\n",
       "    <tr>\n",
       "      <th>11</th>\n",
       "      <td>December</td>\n",
       "      <td>189.271398</td>\n",
       "      <td>47.748601</td>\n",
       "      <td>270.309834</td>\n",
       "      <td>69.333475</td>\n",
       "    </tr>\n",
       "  </tbody>\n",
       "</table>\n",
       "</div>"
      ],
      "text/plain": [
       "   month_name fixing I course 2019            fixing I course 2020           \n",
       "                              mean        std                 mean        std\n",
       "0     January           246.159666  61.076298           191.011062  43.146024\n",
       "1    February           214.887188  41.679537           176.725517  52.982464\n",
       "2       March           199.216326  39.305834           165.831844  46.175310\n",
       "3       April           227.157708  41.537521           151.707708  29.625892\n",
       "4         May           240.303602  41.354861           172.192137  31.405487\n",
       "5        June           250.604653  54.178740           217.278208  33.618817\n",
       "6        July           239.451022  43.920551           222.505618  24.483365\n",
       "7      August           267.395685  35.212064           231.319597  36.808373\n",
       "8   September           243.292347  38.327626           242.856528  42.755387\n",
       "9     October           229.913199  40.728084           240.093992  45.131155\n",
       "10   November           215.854097  38.477430           243.809625  51.683986\n",
       "11   December           189.271398  47.748601           270.309834  69.333475"
      ]
     },
     "execution_count": 87,
     "metadata": {},
     "output_type": "execute_result"
    }
   ],
   "source": [
    "df_fx_monthly"
   ]
  },
  {
   "cell_type": "markdown",
   "metadata": {},
   "source": [
    "### 2.2. Checking outliers "
   ]
  },
  {
   "cell_type": "code",
   "execution_count": 88,
   "metadata": {},
   "outputs": [
    {
     "data": {
      "image/png": "[encoded data removed]",
      "text/plain": [
       "<Figure size 1008x576 with 1 Axes>"
      ]
     },
     "metadata": {
      "needs_background": "light"
     },
     "output_type": "display_data"
    }
   ],
   "source": [
    "# box-plot to check outliers in individual hours for 2019\n",
    "outpoints_hourly_2019 = df2019.pivot_table(index='date_normalize', \n",
    "                     columns=df2019['hour'], \n",
    "                     values='fixing I course (PLN/MWh)', \n",
    "                     aggfunc='mean').boxplot(figsize=(14,8)).set(title = \"Checking outliers\", xlabel = \"Hour of day\", ylabel = \"fixing I course (PLN/MWh)\")"
   ]
  },
  {
   "cell_type": "code",
   "execution_count": 89,
   "metadata": {},
   "outputs": [
    {
     "data": {
      "image/png": "[encoded data removed]",
      "text/plain": [
       "<Figure size 1008x576 with 1 Axes>"
      ]
     },
     "metadata": {
      "needs_background": "light"
     },
     "output_type": "display_data"
    }
   ],
   "source": [
    "# box-plot to check outliers in individual hours for 2020\n",
    "outpoints_hourly_2020 = df2020.pivot_table(index='date_normalize', \n",
    "                     columns=df2020['hour'], \n",
    "                     values='fixing I course (PLN/MWh)', \n",
    "                     aggfunc='mean').boxplot(figsize=(14,8)).set(title = \"Checking outliers\", xlabel = \"Hour of day\", ylabel = \"fixing I course (PLN/MWh)\")"
   ]
  },
  {
   "cell_type": "code",
   "execution_count": 90,
   "metadata": {},
   "outputs": [],
   "source": [
    "df2019.to_excel(\"data_2019.xlsx\")  \n",
    "df2020.to_excel(\"data_2020.xlsx\")  "
   ]
  },
  {
   "cell_type": "markdown",
   "metadata": {},
   "source": [
    "## 3. Exploratory data analysis"
   ]
  },
  {
   "cell_type": "code",
   "execution_count": 91,
   "metadata": {},
   "outputs": [],
   "source": [
    "df2019_monthly = df2019.groupby(['month_name']).agg({'fixing I course (PLN/MWh)':['mean', 'std']}).reset_index()\n",
    "df2020_monthly = df2020.groupby(['month_name']).agg({'fixing I course (PLN/MWh)':['mean', 'std']}).reset_index()"
   ]
  },
  {
   "cell_type": "code",
   "execution_count": 92,
   "metadata": {},
   "outputs": [],
   "source": [
    "df2019_monthly = df2019_monthly.rename(columns={\"fixing I course (PLN/MWh)\": \"fixing I course 2019\"}) \n",
    "df2020_monthly = df2020_monthly.rename(columns={\"fixing I course (PLN/MWh)\": \"fixing I course 2020\"}) "
   ]
  },
  {
   "cell_type": "code",
   "execution_count": 93,
   "metadata": {},
   "outputs": [],
   "source": [
    "df_fx_monthly = pd.merge(df2019_monthly, df2020_monthly, how='inner', on=['month_name']) "
   ]
  },
  {
   "cell_type": "code",
   "execution_count": 94,
   "metadata": {},
   "outputs": [],
   "source": [
    "cats = [\"January\", \"February\", \"March\", \"April\", \"May\", \"June\", \n",
    "        \"July\", \"August\", \"September\", \"October\", \"November\", \"December\"]\n",
    "df_fx_monthly['month_name'] = pd.Categorical(df_fx_monthly['month_name'], categories=cats, ordered=True)\n",
    "df_fx_monthly = df_fx_monthly.sort_values('month_name').reset_index(drop=True)"
   ]
  },
  {
   "cell_type": "code",
   "execution_count": 95,
   "metadata": {},
   "outputs": [],
   "source": [
    "df_fx_monthly.columns = df_fx_monthly.columns.get_level_values(0)"
   ]
  },
  {
   "cell_type": "code",
   "execution_count": 96,
   "metadata": {},
   "outputs": [],
   "source": [
    "df_fx_monthly.columns.values[1] = \"fixing I course 2019_mean\"\n",
    "df_fx_monthly.columns.values[2] = \"fixing I course 2019_std\"\n",
    "df_fx_monthly.columns.values[3] = \"fixing I course 2020_mean\"\n",
    "df_fx_monthly.columns.values[4] = \"fixing I course 2020_std\""
   ]
  },
  {
   "cell_type": "code",
   "execution_count": 97,
   "metadata": {},
   "outputs": [],
   "source": [
    "df_fx_monthly['pl_month_name'] = df_fx_monthly.apply(lambda row: polish_label_r(row), axis=1)"
   ]
  },
  {
   "cell_type": "code",
   "execution_count": 98,
   "metadata": {},
   "outputs": [
    {
     "data": {
      "image/png": "[encoded data removed]",
      "text/plain": [
       "<Figure size 864x504 with 1 Axes>"
      ]
     },
     "metadata": {
      "needs_background": "light"
     },
     "output_type": "display_data"
    }
   ],
   "source": [
    "ind = np.arange(len(df_fx_monthly['fixing I course 2019_mean']))  # the x locations for the groups\n",
    "width = 0.35  # the width of the bars\n",
    "\n",
    "fig, ax = plt.subplots(\n",
    "figsize=(12,7))\n",
    "rects1 = ax.bar(ind - width/2, df_fx_monthly['fixing I course 2019_mean'] , width, yerr=df_fx_monthly['fixing I course 2019_std'],\n",
    "                label='2019', capsize=3)\n",
    "rects2 = ax.bar(ind + width/2, df_fx_monthly['fixing I course 2020_mean'], width, yerr=df_fx_monthly['fixing I course 2020_std'],\n",
    "                label='2020', capsize=3)\n",
    "\n",
    "# Add some text for labels, title and custom x-axis tick labels, etc.\n",
    "ax.set_ylabel('Kurs fixing I (PLN/MWh)')\n",
    "ax.set_title('Scores by group and gender')\n",
    "ax.set_xticks(ind)\n",
    "ax.set_xticklabels(df_fx_monthly['pl_month_name'], rotation=60)\n",
    "ax.grid(color='grey', linestyle='-', linewidth=0.15, alpha=0.5, axis = 'y')\n",
    "ax.legend()\n",
    "\n",
    "\n",
    "fig.tight_layout()\n",
    "\n",
    "plt.show()"
   ]
  },
  {
   "cell_type": "markdown",
   "metadata": {},
   "source": [
    "### 3.1. Data visualization using Plotly library"
   ]
  },
  {
   "cell_type": "code",
   "execution_count": 184,
   "metadata": {},
   "outputs": [
    {
     "data": {
      "text/html": [
       "<div>\n",
       "<style scoped>\n",
       "    .dataframe tbody tr th:only-of-type {\n",
       "        vertical-align: middle;\n",
       "    }\n",
       "\n",
       "    .dataframe tbody tr th {\n",
       "        vertical-align: top;\n",
       "    }\n",
       "\n",
       "    .dataframe thead th {\n",
       "        text-align: right;\n",
       "    }\n",
       "</style>\n",
       "<table border=\"1\" class=\"dataframe\">\n",
       "  <thead>\n",
       "    <tr style=\"text-align: right;\">\n",
       "      <th></th>\n",
       "      <th>date</th>\n",
       "      <th>fixing I course (PLN/MWh)</th>\n",
       "      <th>month</th>\n",
       "      <th>month_name</th>\n",
       "      <th>hour</th>\n",
       "      <th>week</th>\n",
       "      <th>date_normalize</th>\n",
       "      <th>day_of_week</th>\n",
       "      <th>day_of_month</th>\n",
       "      <th>md</th>\n",
       "      <th>season</th>\n",
       "      <th>pl_month_name</th>\n",
       "    </tr>\n",
       "  </thead>\n",
       "  <tbody>\n",
       "    <tr>\n",
       "      <th>0</th>\n",
       "      <td>2020-01-01 00:00:00</td>\n",
       "      <td>144.85</td>\n",
       "      <td>1.0</td>\n",
       "      <td>January</td>\n",
       "      <td>0.0</td>\n",
       "      <td>1.0</td>\n",
       "      <td>2020-01-01</td>\n",
       "      <td>2.0</td>\n",
       "      <td>1.0</td>\n",
       "      <td>01-01</td>\n",
       "      <td>Winter</td>\n",
       "      <td>Styczeń</td>\n",
       "    </tr>\n",
       "    <tr>\n",
       "      <th>1</th>\n",
       "      <td>2020-01-01 01:00:00</td>\n",
       "      <td>134.40</td>\n",
       "      <td>1.0</td>\n",
       "      <td>January</td>\n",
       "      <td>1.0</td>\n",
       "      <td>1.0</td>\n",
       "      <td>2020-01-01</td>\n",
       "      <td>2.0</td>\n",
       "      <td>1.0</td>\n",
       "      <td>01-01</td>\n",
       "      <td>Winter</td>\n",
       "      <td>Styczeń</td>\n",
       "    </tr>\n",
       "    <tr>\n",
       "      <th>2</th>\n",
       "      <td>2020-01-01 02:00:00</td>\n",
       "      <td>127.80</td>\n",
       "      <td>1.0</td>\n",
       "      <td>January</td>\n",
       "      <td>2.0</td>\n",
       "      <td>1.0</td>\n",
       "      <td>2020-01-01</td>\n",
       "      <td>2.0</td>\n",
       "      <td>1.0</td>\n",
       "      <td>01-01</td>\n",
       "      <td>Winter</td>\n",
       "      <td>Styczeń</td>\n",
       "    </tr>\n",
       "    <tr>\n",
       "      <th>3</th>\n",
       "      <td>2020-01-01 03:00:00</td>\n",
       "      <td>118.43</td>\n",
       "      <td>1.0</td>\n",
       "      <td>January</td>\n",
       "      <td>3.0</td>\n",
       "      <td>1.0</td>\n",
       "      <td>2020-01-01</td>\n",
       "      <td>2.0</td>\n",
       "      <td>1.0</td>\n",
       "      <td>01-01</td>\n",
       "      <td>Winter</td>\n",
       "      <td>Styczeń</td>\n",
       "    </tr>\n",
       "    <tr>\n",
       "      <th>4</th>\n",
       "      <td>2020-01-01 04:00:00</td>\n",
       "      <td>109.85</td>\n",
       "      <td>1.0</td>\n",
       "      <td>January</td>\n",
       "      <td>4.0</td>\n",
       "      <td>1.0</td>\n",
       "      <td>2020-01-01</td>\n",
       "      <td>2.0</td>\n",
       "      <td>1.0</td>\n",
       "      <td>01-01</td>\n",
       "      <td>Winter</td>\n",
       "      <td>Styczeń</td>\n",
       "    </tr>\n",
       "    <tr>\n",
       "      <th>...</th>\n",
       "      <td>...</td>\n",
       "      <td>...</td>\n",
       "      <td>...</td>\n",
       "      <td>...</td>\n",
       "      <td>...</td>\n",
       "      <td>...</td>\n",
       "      <td>...</td>\n",
       "      <td>...</td>\n",
       "      <td>...</td>\n",
       "      <td>...</td>\n",
       "      <td>...</td>\n",
       "      <td>...</td>\n",
       "    </tr>\n",
       "    <tr>\n",
       "      <th>8635</th>\n",
       "      <td>2020-12-24 20:00:00</td>\n",
       "      <td>226.30</td>\n",
       "      <td>12.0</td>\n",
       "      <td>December</td>\n",
       "      <td>20.0</td>\n",
       "      <td>52.0</td>\n",
       "      <td>2020-12-24</td>\n",
       "      <td>3.0</td>\n",
       "      <td>24.0</td>\n",
       "      <td>12-24</td>\n",
       "      <td>Winter</td>\n",
       "      <td>Grudzień</td>\n",
       "    </tr>\n",
       "    <tr>\n",
       "      <th>8636</th>\n",
       "      <td>2020-12-24 21:00:00</td>\n",
       "      <td>220.44</td>\n",
       "      <td>12.0</td>\n",
       "      <td>December</td>\n",
       "      <td>21.0</td>\n",
       "      <td>52.0</td>\n",
       "      <td>2020-12-24</td>\n",
       "      <td>3.0</td>\n",
       "      <td>24.0</td>\n",
       "      <td>12-24</td>\n",
       "      <td>Winter</td>\n",
       "      <td>Grudzień</td>\n",
       "    </tr>\n",
       "    <tr>\n",
       "      <th>8637</th>\n",
       "      <td>2020-12-24 22:00:00</td>\n",
       "      <td>214.67</td>\n",
       "      <td>12.0</td>\n",
       "      <td>December</td>\n",
       "      <td>22.0</td>\n",
       "      <td>52.0</td>\n",
       "      <td>2020-12-24</td>\n",
       "      <td>3.0</td>\n",
       "      <td>24.0</td>\n",
       "      <td>12-24</td>\n",
       "      <td>Winter</td>\n",
       "      <td>Grudzień</td>\n",
       "    </tr>\n",
       "    <tr>\n",
       "      <th>8638</th>\n",
       "      <td>2020-12-24 23:00:00</td>\n",
       "      <td>197.34</td>\n",
       "      <td>12.0</td>\n",
       "      <td>December</td>\n",
       "      <td>23.0</td>\n",
       "      <td>52.0</td>\n",
       "      <td>2020-12-24</td>\n",
       "      <td>3.0</td>\n",
       "      <td>24.0</td>\n",
       "      <td>12-24</td>\n",
       "      <td>Winter</td>\n",
       "      <td>Grudzień</td>\n",
       "    </tr>\n",
       "    <tr>\n",
       "      <th>8639</th>\n",
       "      <td>2020-12-25 00:00:00</td>\n",
       "      <td>163.00</td>\n",
       "      <td>12.0</td>\n",
       "      <td>December</td>\n",
       "      <td>0.0</td>\n",
       "      <td>52.0</td>\n",
       "      <td>2020-12-25</td>\n",
       "      <td>4.0</td>\n",
       "      <td>25.0</td>\n",
       "      <td>12-25</td>\n",
       "      <td>Winter</td>\n",
       "      <td>Grudzień</td>\n",
       "    </tr>\n",
       "  </tbody>\n",
       "</table>\n",
       "<p>8640 rows × 12 columns</p>\n",
       "</div>"
      ],
      "text/plain": [
       "                    date  fixing I course (PLN/MWh)  month month_name  hour  \\\n",
       "0    2020-01-01 00:00:00                     144.85    1.0    January   0.0   \n",
       "1    2020-01-01 01:00:00                     134.40    1.0    January   1.0   \n",
       "2    2020-01-01 02:00:00                     127.80    1.0    January   2.0   \n",
       "3    2020-01-01 03:00:00                     118.43    1.0    January   3.0   \n",
       "4    2020-01-01 04:00:00                     109.85    1.0    January   4.0   \n",
       "...                  ...                        ...    ...        ...   ...   \n",
       "8635 2020-12-24 20:00:00                     226.30   12.0   December  20.0   \n",
       "8636 2020-12-24 21:00:00                     220.44   12.0   December  21.0   \n",
       "8637 2020-12-24 22:00:00                     214.67   12.0   December  22.0   \n",
       "8638 2020-12-24 23:00:00                     197.34   12.0   December  23.0   \n",
       "8639 2020-12-25 00:00:00                     163.00   12.0   December   0.0   \n",
       "\n",
       "      week date_normalize  day_of_week  day_of_month     md  season  \\\n",
       "0      1.0     2020-01-01          2.0           1.0  01-01  Winter   \n",
       "1      1.0     2020-01-01          2.0           1.0  01-01  Winter   \n",
       "2      1.0     2020-01-01          2.0           1.0  01-01  Winter   \n",
       "3      1.0     2020-01-01          2.0           1.0  01-01  Winter   \n",
       "4      1.0     2020-01-01          2.0           1.0  01-01  Winter   \n",
       "...    ...            ...          ...           ...    ...     ...   \n",
       "8635  52.0     2020-12-24          3.0          24.0  12-24  Winter   \n",
       "8636  52.0     2020-12-24          3.0          24.0  12-24  Winter   \n",
       "8637  52.0     2020-12-24          3.0          24.0  12-24  Winter   \n",
       "8638  52.0     2020-12-24          3.0          24.0  12-24  Winter   \n",
       "8639  52.0     2020-12-25          4.0          25.0  12-25  Winter   \n",
       "\n",
       "     pl_month_name  \n",
       "0          Styczeń  \n",
       "1          Styczeń  \n",
       "2          Styczeń  \n",
       "3          Styczeń  \n",
       "4          Styczeń  \n",
       "...            ...  \n",
       "8635      Grudzień  \n",
       "8636      Grudzień  \n",
       "8637      Grudzień  \n",
       "8638      Grudzień  \n",
       "8639      Grudzień  \n",
       "\n",
       "[8640 rows x 12 columns]"
      ]
     },
     "execution_count": 184,
     "metadata": {},
     "output_type": "execute_result"
    }
   ],
   "source": [
    "df2020"
   ]
  },
  {
   "cell_type": "code",
   "execution_count": 188,
   "metadata": {},
   "outputs": [],
   "source": [
    "df_fx_hourly = df2020.groupby(['hour']).agg({'fixing I course (PLN/MWh)':np.mean})\n",
    "df_fx_hourly = df_fx_hourly.reset_index() "
   ]
  },
  {
   "cell_type": "code",
   "execution_count": 192,
   "metadata": {},
   "outputs": [],
   "source": [
    "df_fx_hourly['h-m']=df2020['date'].astype(str).str[11:16]"
   ]
  },
  {
   "cell_type": "code",
   "execution_count": 205,
   "metadata": {},
   "outputs": [],
   "source": [
    "df_fx_hourly['fixing I course (PLN/MWh)'][0] = df_fx_hourly['fixing I course (PLN/MWh)'][1]"
   ]
  },
  {
   "cell_type": "code",
   "execution_count": 206,
   "metadata": {},
   "outputs": [],
   "source": [
    "# simple_list=[[0, 0]]\n",
    "# simple_list.append([24, 0])\n",
    "# df=pd.DataFrame(simple_list,columns=['hour','fixing I course (PLN/MWh)'])\n",
    "# df_hourly= df_fx_hourly.append(df)\n",
    "# df_hourly = df_hourly.sort_values(by=['hour', 'fixing I course (PLN/MWh)' ])"
   ]
  },
  {
   "cell_type": "code",
   "execution_count": 214,
   "metadata": {},
   "outputs": [
    {
     "data": {
      "image/png": "[encoded data removed]",
      "text/plain": [
       "<Figure size 864x504 with 1 Axes>"
      ]
     },
     "metadata": {
      "needs_background": "light"
     },
     "output_type": "display_data"
    }
   ],
   "source": [
    "fig = plt.subplots(figsize=(12,7))\n",
    "\n",
    "plt.plot(df_fx_hourly['h-m'], df_fx_hourly['fixing I course (PLN/MWh)'], ls='steps',\n",
    "        linewidth=2.0)\n",
    "plt.fill_between(df_fx_hourly['h-m'],df_fx_hourly['fixing I course (PLN/MWh)'], step=\"pre\", alpha=0.2)\n",
    "plt.title('Rozkład godzinowy fixingu na gieldzie')\n",
    "plt.grid(color='grey', linestyle='-', linewidth=0.15, alpha=0.5, axis = 'y')\n",
    "plt.xticks(df_fx_hourly['h-m'], rotation=60)\n",
    "plt.margins(0.)\n",
    "plt.ylim(150,250)\n",
    "plt.grid()\n",
    "plt.show()"
   ]
  },
  {
   "cell_type": "code",
   "execution_count": null,
   "metadata": {},
   "outputs": [],
   "source": []
  },
  {
   "cell_type": "code",
   "execution_count": null,
   "metadata": {},
   "outputs": [],
   "source": []
  },
  {
   "cell_type": "code",
   "execution_count": 134,
   "metadata": {},
   "outputs": [
    {
     "data": {
      "image/png": "[encoded data removed]",
      "text/plain": [
       "<Figure size 432x288 with 1 Axes>"
      ]
     },
     "metadata": {
      "needs_background": "light"
     },
     "output_type": "display_data"
    }
   ],
   "source": [
    "import matplotlib.pyplot as plt\n",
    "import numpy as np\n",
    "\n",
    "fig = plt.figure()\n",
    "\n",
    "x = [1,2,3,4,5,6,7,8,9,10]\n",
    "height = [8,12,8,5,4,3,2,1,0,0]\n",
    "width = 2.0\n",
    "\n",
    "plt.bar(x, height, width, color='b' )\n",
    "width = 0.05 # modifier la largeur des bâtons \n",
    "plt.xlim(0,11) # Modifier les limites sur x\n",
    "plt.ylim(0,14) # Modifier les limites sur y\n",
    "plt.scatter([i+width/2.0 for i in x],height,color='k',s=40) # ajouter un cercle au sommet du bâton\n",
    "plt.show()\n"
   ]
  },
  {
   "cell_type": "code",
   "execution_count": null,
   "metadata": {},
   "outputs": [],
   "source": []
  },
  {
   "cell_type": "code",
   "execution_count": 232,
   "metadata": {},
   "outputs": [],
   "source": [
    "\n",
    "df_fx_hourly['h-m']=df2020['date'].astype(str).str[11:16]"
   ]
  },
  {
   "cell_type": "code",
   "execution_count": 108,
   "metadata": {},
   "outputs": [
    {
     "data": {
      "image/png": "[encoded data removed]",
      "text/plain": [
       "<Figure size 720x504 with 1 Axes>"
      ]
     },
     "metadata": {
      "needs_background": "light"
     },
     "output_type": "display_data"
    }
   ],
   "source": [
    "plt.figure(figsize=(10,7))\n",
    "sns.set(font_scale=1.4, style=\"whitegrid\")\n",
    "sns.distplot(df_fx_hourly['hour'], kde = False, bins = 9, color = 'blue').set(title = 'Histogram of the length of bike rentals', xlabel = 'Length of bike rentals [min]', ylabel = 'Number of bike rentals')\n",
    "plt.show()"
   ]
  },
  {
   "cell_type": "code",
   "execution_count": null,
   "metadata": {},
   "outputs": [],
   "source": []
  },
  {
   "cell_type": "code",
   "execution_count": null,
   "metadata": {},
   "outputs": [],
   "source": []
  },
  {
   "cell_type": "code",
   "execution_count": 233,
   "metadata": {},
   "outputs": [],
   "source": [
    "# df_fx_hourly.loc[df_fx_hourly['hour']==0, 'hour'] = 24\n",
    "#df_fx_hourly = df_fx_hourly.sort_values(by=['hour'], na_position = 'first', ascending=True).reset_index(drop = True)"
   ]
  },
  {
   "cell_type": "code",
   "execution_count": 246,
   "metadata": {},
   "outputs": [],
   "source": [
    "df2019_daily = df2019.groupby(['date_normalize']).agg({'fixing I course (PLN/MWh)':np.mean}).reset_index() \n",
    "df2019_daily['day_of_year'] = pd.to_datetime(df2019_daily['date_normalize']).dt.dayofyear\n",
    "\n",
    "df2020_daily = df2020.groupby(['date_normalize']).agg({'fixing I course (PLN/MWh)':np.mean}).reset_index() \n",
    "df2020_daily['day_of_year'] = pd.to_datetime(df2020_daily['date_normalize']).dt.dayofyear"
   ]
  },
  {
   "cell_type": "code",
   "execution_count": 247,
   "metadata": {},
   "outputs": [
    {
     "data": {
      "text/html": [
       "<div>\n",
       "<style scoped>\n",
       "    .dataframe tbody tr th:only-of-type {\n",
       "        vertical-align: middle;\n",
       "    }\n",
       "\n",
       "    .dataframe tbody tr th {\n",
       "        vertical-align: top;\n",
       "    }\n",
       "\n",
       "    .dataframe thead th {\n",
       "        text-align: right;\n",
       "    }\n",
       "</style>\n",
       "<table border=\"1\" class=\"dataframe\">\n",
       "  <thead>\n",
       "    <tr style=\"text-align: right;\">\n",
       "      <th></th>\n",
       "      <th>fixing I course (PLN/MWh)</th>\n",
       "      <th>day_of_year</th>\n",
       "    </tr>\n",
       "  </thead>\n",
       "  <tbody>\n",
       "    <tr>\n",
       "      <th>count</th>\n",
       "      <td>364.000000</td>\n",
       "      <td>364.000000</td>\n",
       "    </tr>\n",
       "    <tr>\n",
       "      <th>mean</th>\n",
       "      <td>230.317911</td>\n",
       "      <td>183.500000</td>\n",
       "    </tr>\n",
       "    <tr>\n",
       "      <th>std</th>\n",
       "      <td>36.339319</td>\n",
       "      <td>105.221988</td>\n",
       "    </tr>\n",
       "    <tr>\n",
       "      <th>min</th>\n",
       "      <td>118.285833</td>\n",
       "      <td>2.000000</td>\n",
       "    </tr>\n",
       "    <tr>\n",
       "      <th>25%</th>\n",
       "      <td>209.293750</td>\n",
       "      <td>92.750000</td>\n",
       "    </tr>\n",
       "    <tr>\n",
       "      <th>50%</th>\n",
       "      <td>232.432500</td>\n",
       "      <td>183.500000</td>\n",
       "    </tr>\n",
       "    <tr>\n",
       "      <th>75%</th>\n",
       "      <td>255.559687</td>\n",
       "      <td>274.250000</td>\n",
       "    </tr>\n",
       "    <tr>\n",
       "      <th>max</th>\n",
       "      <td>336.123333</td>\n",
       "      <td>365.000000</td>\n",
       "    </tr>\n",
       "  </tbody>\n",
       "</table>\n",
       "</div>"
      ],
      "text/plain": [
       "       fixing I course (PLN/MWh)  day_of_year\n",
       "count                 364.000000   364.000000\n",
       "mean                  230.317911   183.500000\n",
       "std                    36.339319   105.221988\n",
       "min                   118.285833     2.000000\n",
       "25%                   209.293750    92.750000\n",
       "50%                   232.432500   183.500000\n",
       "75%                   255.559687   274.250000\n",
       "max                   336.123333   365.000000"
      ]
     },
     "execution_count": 247,
     "metadata": {},
     "output_type": "execute_result"
    }
   ],
   "source": [
    "df2019_daily.describe()"
   ]
  },
  {
   "cell_type": "code",
   "execution_count": 248,
   "metadata": {},
   "outputs": [],
   "source": [
    "c = df2019.groupby(['date_normalize']).agg({'fixing I course (PLN/MWh)': ['min', 'max']}).reset_index()\n",
    "c['diff'] = c['fixing I course (PLN/MWh)']['max'] - c['fixing I course (PLN/MWh)']['min']"
   ]
  },
  {
   "cell_type": "code",
   "execution_count": 251,
   "metadata": {},
   "outputs": [
    {
     "data": {
      "text/plain": [
       "count    364.000000\n",
       "mean      93.608049\n",
       "std       33.697546\n",
       "min       31.580000\n",
       "25%       71.065000\n",
       "50%       89.770000\n",
       "75%      110.250000\n",
       "max      248.720000\n",
       "Name: diff, dtype: float64"
      ]
     },
     "execution_count": 251,
     "metadata": {},
     "output_type": "execute_result"
    }
   ],
   "source": [
    "c['diff'].describe()"
   ]
  },
  {
   "cell_type": "code",
   "execution_count": 249,
   "metadata": {},
   "outputs": [
    {
     "data": {
      "text/plain": [
       "93.60804945054957"
      ]
     },
     "execution_count": 249,
     "metadata": {},
     "output_type": "execute_result"
    }
   ],
   "source": [
    "c['diff'].mean()"
   ]
  },
  {
   "cell_type": "code",
   "execution_count": null,
   "metadata": {},
   "outputs": [],
   "source": [
    "df_daily['min'] = df2019.groupby('date_normalize')['fixing I course (PLN/MWh)'].min()\n",
    "df_daily['max'] = df2019.groupby('date_normalize')['fixing I course (PLN/MWh)'].max()"
   ]
  },
  {
   "cell_type": "code",
   "execution_count": 283,
   "metadata": {},
   "outputs": [],
   "source": []
  },
  {
   "cell_type": "code",
   "execution_count": 293,
   "metadata": {},
   "outputs": [],
   "source": []
  },
  {
   "cell_type": "code",
   "execution_count": 297,
   "metadata": {},
   "outputs": [
    {
     "data": {
      "text/plain": [
       "93.60804945054957"
      ]
     },
     "execution_count": 297,
     "metadata": {},
     "output_type": "execute_result"
    }
   ],
   "source": []
  },
  {
   "cell_type": "code",
   "execution_count": 278,
   "metadata": {},
   "outputs": [],
   "source": []
  },
  {
   "cell_type": "code",
   "execution_count": null,
   "metadata": {},
   "outputs": [],
   "source": []
  },
  {
   "cell_type": "code",
   "execution_count": 263,
   "metadata": {},
   "outputs": [],
   "source": [
    "df2019_daily= df20aa19_daily.groupby(['date_normalize']).agg({'min fixing I':np.min}).reset_index() \n"
   ]
  },
  {
   "cell_type": "code",
   "execution_count": null,
   "metadata": {},
   "outputs": [],
   "source": []
  },
  {
   "cell_type": "code",
   "execution_count": null,
   "metadata": {},
   "outputs": [],
   "source": []
  },
  {
   "cell_type": "code",
   "execution_count": 70,
   "metadata": {},
   "outputs": [],
   "source": [
    "df_daily = pd.merge(df2019_daily, df2020_daily, how='inner', on=['day_of_year']) "
   ]
  },
  {
   "cell_type": "code",
   "execution_count": 71,
   "metadata": {},
   "outputs": [],
   "source": [
    "df_daily = df_daily.drop(df_daily.columns[[2,3]], axis = 1)"
   ]
  },
  {
   "cell_type": "code",
   "execution_count": 72,
   "metadata": {},
   "outputs": [
    {
     "data": {
      "text/html": [
       "<div>\n",
       "<style scoped>\n",
       "    .dataframe tbody tr th:only-of-type {\n",
       "        vertical-align: middle;\n",
       "    }\n",
       "\n",
       "    .dataframe tbody tr th {\n",
       "        vertical-align: top;\n",
       "    }\n",
       "\n",
       "    .dataframe thead th {\n",
       "        text-align: right;\n",
       "    }\n",
       "</style>\n",
       "<table border=\"1\" class=\"dataframe\">\n",
       "  <thead>\n",
       "    <tr style=\"text-align: right;\">\n",
       "      <th></th>\n",
       "      <th>date_normalize_x</th>\n",
       "      <th>fixing I course (PLN/MWh)_x</th>\n",
       "      <th>fixing I course (PLN/MWh)_y</th>\n",
       "    </tr>\n",
       "  </thead>\n",
       "  <tbody>\n",
       "    <tr>\n",
       "      <th>0</th>\n",
       "      <td>2019-01-02</td>\n",
       "      <td>162.571304</td>\n",
       "      <td>166.067917</td>\n",
       "    </tr>\n",
       "    <tr>\n",
       "      <th>1</th>\n",
       "      <td>2019-01-03</td>\n",
       "      <td>223.377083</td>\n",
       "      <td>161.280417</td>\n",
       "    </tr>\n",
       "    <tr>\n",
       "      <th>2</th>\n",
       "      <td>2019-01-04</td>\n",
       "      <td>242.027083</td>\n",
       "      <td>144.318333</td>\n",
       "    </tr>\n",
       "    <tr>\n",
       "      <th>3</th>\n",
       "      <td>2019-01-05</td>\n",
       "      <td>219.932917</td>\n",
       "      <td>150.326250</td>\n",
       "    </tr>\n",
       "    <tr>\n",
       "      <th>4</th>\n",
       "      <td>2019-01-06</td>\n",
       "      <td>213.270833</td>\n",
       "      <td>170.456250</td>\n",
       "    </tr>\n",
       "    <tr>\n",
       "      <th>...</th>\n",
       "      <td>...</td>\n",
       "      <td>...</td>\n",
       "      <td>...</td>\n",
       "    </tr>\n",
       "    <tr>\n",
       "      <th>331</th>\n",
       "      <td>2019-11-29</td>\n",
       "      <td>204.921667</td>\n",
       "      <td>260.324167</td>\n",
       "    </tr>\n",
       "    <tr>\n",
       "      <th>332</th>\n",
       "      <td>2019-11-30</td>\n",
       "      <td>227.470417</td>\n",
       "      <td>224.586667</td>\n",
       "    </tr>\n",
       "    <tr>\n",
       "      <th>333</th>\n",
       "      <td>2019-12-01</td>\n",
       "      <td>197.640000</td>\n",
       "      <td>293.305833</td>\n",
       "    </tr>\n",
       "    <tr>\n",
       "      <th>334</th>\n",
       "      <td>2019-12-02</td>\n",
       "      <td>227.584167</td>\n",
       "      <td>290.679167</td>\n",
       "    </tr>\n",
       "    <tr>\n",
       "      <th>335</th>\n",
       "      <td>2019-12-03</td>\n",
       "      <td>228.026667</td>\n",
       "      <td>234.420000</td>\n",
       "    </tr>\n",
       "  </tbody>\n",
       "</table>\n",
       "<p>336 rows × 3 columns</p>\n",
       "</div>"
      ],
      "text/plain": [
       "    date_normalize_x  fixing I course (PLN/MWh)_x  fixing I course (PLN/MWh)_y\n",
       "0         2019-01-02                   162.571304                   166.067917\n",
       "1         2019-01-03                   223.377083                   161.280417\n",
       "2         2019-01-04                   242.027083                   144.318333\n",
       "3         2019-01-05                   219.932917                   150.326250\n",
       "4         2019-01-06                   213.270833                   170.456250\n",
       "..               ...                          ...                          ...\n",
       "331       2019-11-29                   204.921667                   260.324167\n",
       "332       2019-11-30                   227.470417                   224.586667\n",
       "333       2019-12-01                   197.640000                   293.305833\n",
       "334       2019-12-02                   227.584167                   290.679167\n",
       "335       2019-12-03                   228.026667                   234.420000\n",
       "\n",
       "[336 rows x 3 columns]"
      ]
     },
     "execution_count": 72,
     "metadata": {},
     "output_type": "execute_result"
    }
   ],
   "source": [
    "df_daily"
   ]
  },
  {
   "cell_type": "code",
   "execution_count": 175,
   "metadata": {},
   "outputs": [
    {
     "data": {
      "application/vnd.plotly.v1+json": {
       "config": {
        "plotlyServerURL": "https://plot.ly"
       },
       "data": [
        {
         "hovertemplate": "variable=fixing I course (PLN/MWh)_x<br>date_normalize_x=%{x}<br>value=%{y}<extra></extra>",
         "legendgroup": "fixing I course (PLN/MWh)_x",
         "line": {
          "color": "#636efa",
          "dash": "solid"
         },
         "mode": "lines",
         "name": "fixing I course (PLN/MWh)_x",
         "orientation": "v",
         "showlegend": true,
         "type": "scatter",
         "x": [
          "2019-01-02",
          "2019-01-03",
          "2019-01-04",
          "2019-01-05",
          "2019-01-06",
          "2019-01-07",
          "2019-01-08",
          "2019-01-09",
          "2019-01-10",
          "2019-01-11",
          "2019-01-12",
          "2019-01-13",
          "2019-01-14",
          "2019-01-15",
          "2019-01-16",
          "2019-01-17",
          "2019-01-18",
          "2019-01-19",
          "2019-01-20",
          "2019-01-21",
          "2019-01-22",
          "2019-01-23",
          "2019-01-24",
          "2019-01-25",
          "2019-01-26",
          "2019-01-27",
          "2019-01-28",
          "2019-01-29",
          "2019-01-30",
          "2019-01-31",
          "2019-02-01",
          "2019-02-02",
          "2019-02-03",
          "2019-02-04",
          "2019-02-05",
          "2019-02-06",
          "2019-02-07",
          "2019-02-08",
          "2019-02-09",
          "2019-02-10",
          "2019-02-11",
          "2019-02-12",
          "2019-02-13",
          "2019-02-14",
          "2019-02-15",
          "2019-02-16",
          "2019-02-17",
          "2019-02-18",
          "2019-02-19",
          "2019-02-20",
          "2019-02-21",
          "2019-02-22",
          "2019-02-23",
          "2019-02-24",
          "2019-02-25",
          "2019-02-26",
          "2019-02-27",
          "2019-02-28",
          "2019-03-01",
          "2019-03-02",
          "2019-03-03",
          "2019-03-04",
          "2019-03-05",
          "2019-03-06",
          "2019-03-07",
          "2019-03-08",
          "2019-03-09",
          "2019-03-10",
          "2019-03-11",
          "2019-03-12",
          "2019-03-13",
          "2019-03-14",
          "2019-03-15",
          "2019-03-16",
          "2019-03-17",
          "2019-03-18",
          "2019-03-19",
          "2019-03-20",
          "2019-03-21",
          "2019-03-22",
          "2019-03-23",
          "2019-03-24",
          "2019-03-25",
          "2019-03-26",
          "2019-03-27",
          "2019-03-28",
          "2019-03-29",
          "2019-03-30",
          "2019-03-31",
          "2019-04-01",
          "2019-04-02",
          "2019-04-03",
          "2019-04-04",
          "2019-04-05",
          "2019-04-06",
          "2019-04-07",
          "2019-04-08",
          "2019-04-09",
          "2019-04-10",
          "2019-04-11",
          "2019-04-12",
          "2019-04-13",
          "2019-04-14",
          "2019-04-15",
          "2019-04-16",
          "2019-04-17",
          "2019-04-18",
          "2019-04-19",
          "2019-04-20",
          "2019-04-21",
          "2019-04-22",
          "2019-04-23",
          "2019-04-24",
          "2019-04-25",
          "2019-04-26",
          "2019-04-27",
          "2019-04-28",
          "2019-04-29",
          "2019-04-30",
          "2019-05-01",
          "2019-05-02",
          "2019-05-03",
          "2019-05-04",
          "2019-05-05",
          "2019-05-06",
          "2019-05-07",
          "2019-05-08",
          "2019-05-09",
          "2019-05-10",
          "2019-05-11",
          "2019-05-12",
          "2019-05-13",
          "2019-05-14",
          "2019-05-15",
          "2019-05-16",
          "2019-05-17",
          "2019-05-18",
          "2019-05-19",
          "2019-05-20",
          "2019-05-21",
          "2019-05-22",
          "2019-05-23",
          "2019-05-24",
          "2019-05-25",
          "2019-05-26",
          "2019-05-27",
          "2019-05-28",
          "2019-05-29",
          "2019-05-30",
          "2019-05-31",
          "2019-06-01",
          "2019-06-02",
          "2019-06-03",
          "2019-06-04",
          "2019-06-05",
          "2019-06-06",
          "2019-06-07",
          "2019-06-08",
          "2019-06-09",
          "2019-06-10",
          "2019-06-11",
          "2019-06-12",
          "2019-06-13",
          "2019-06-14",
          "2019-06-15",
          "2019-06-16",
          "2019-06-17",
          "2019-06-18",
          "2019-06-19",
          "2019-06-20",
          "2019-06-21",
          "2019-06-22",
          "2019-06-23",
          "2019-06-24",
          "2019-06-25",
          "2019-06-26",
          "2019-06-27",
          "2019-06-28",
          "2019-06-29",
          "2019-06-30",
          "2019-07-01",
          "2019-07-02",
          "2019-07-03",
          "2019-07-04",
          "2019-07-05",
          "2019-07-06",
          "2019-07-07",
          "2019-07-08",
          "2019-07-09",
          "2019-07-10",
          "2019-07-11",
          "2019-07-12",
          "2019-07-13",
          "2019-07-14",
          "2019-07-15",
          "2019-07-16",
          "2019-07-17",
          "2019-07-18",
          "2019-07-19",
          "2019-07-20",
          "2019-07-21",
          "2019-07-22",
          "2019-07-23",
          "2019-07-24",
          "2019-07-25",
          "2019-07-26",
          "2019-07-27",
          "2019-07-28",
          "2019-07-29",
          "2019-07-30",
          "2019-07-31",
          "2019-08-01",
          "2019-08-02",
          "2019-08-03",
          "2019-08-04",
          "2019-08-05",
          "2019-08-06",
          "2019-08-07",
          "2019-08-08",
          "2019-08-09",
          "2019-08-10",
          "2019-08-11",
          "2019-08-12",
          "2019-08-13",
          "2019-08-14",
          "2019-08-15",
          "2019-08-16",
          "2019-08-17",
          "2019-08-18",
          "2019-08-19",
          "2019-08-20",
          "2019-08-21",
          "2019-08-22",
          "2019-08-23",
          "2019-08-24",
          "2019-08-25",
          "2019-08-26",
          "2019-08-27",
          "2019-08-28",
          "2019-08-29",
          "2019-08-30",
          "2019-08-31",
          "2019-09-01",
          "2019-09-02",
          "2019-09-03",
          "2019-09-04",
          "2019-09-05",
          "2019-09-06",
          "2019-09-07",
          "2019-09-08",
          "2019-09-09",
          "2019-09-10",
          "2019-09-11",
          "2019-09-12",
          "2019-09-13",
          "2019-09-14",
          "2019-09-15",
          "2019-09-16",
          "2019-09-17",
          "2019-09-18",
          "2019-09-19",
          "2019-09-20",
          "2019-09-21",
          "2019-09-22",
          "2019-09-23",
          "2019-09-24",
          "2019-09-25",
          "2019-09-26",
          "2019-09-27",
          "2019-09-28",
          "2019-09-29",
          "2019-09-30",
          "2019-10-01",
          "2019-10-02",
          "2019-10-03",
          "2019-10-04",
          "2019-10-05",
          "2019-10-06",
          "2019-10-07",
          "2019-10-08",
          "2019-10-09",
          "2019-10-10",
          "2019-10-11",
          "2019-10-12",
          "2019-10-13",
          "2019-10-14",
          "2019-10-15",
          "2019-10-16",
          "2019-10-17",
          "2019-10-18",
          "2019-10-19",
          "2019-10-20",
          "2019-10-21",
          "2019-10-22",
          "2019-10-23",
          "2019-10-24",
          "2019-10-25",
          "2019-10-26",
          "2019-10-27",
          "2019-10-28",
          "2019-10-29",
          "2019-10-30",
          "2019-10-31",
          "2019-11-01",
          "2019-11-02",
          "2019-11-03",
          "2019-11-04",
          "2019-11-05",
          "2019-11-06",
          "2019-11-07",
          "2019-11-08",
          "2019-11-09",
          "2019-11-10",
          "2019-11-11",
          "2019-11-12",
          "2019-11-13",
          "2019-11-14",
          "2019-11-15",
          "2019-11-16",
          "2019-11-17",
          "2019-11-18",
          "2019-11-19",
          "2019-11-20",
          "2019-11-21",
          "2019-11-22",
          "2019-11-23",
          "2019-11-24",
          "2019-11-25",
          "2019-11-26",
          "2019-11-27",
          "2019-11-28",
          "2019-11-29",
          "2019-11-30",
          "2019-12-01",
          "2019-12-02",
          "2019-12-03"
         ],
         "xaxis": "x",
         "y": [
          162.57130434782607,
          223.3770833333333,
          242.02708333333328,
          219.93291666666667,
          213.27083333333337,
          258.365,
          234.1458333333333,
          258.42916666666673,
          288.7483333333334,
          246.14374999999995,
          217.46375,
          172.66375000000002,
          190.72500000000002,
          229.45375,
          233.58500000000004,
          218.67500000000007,
          255.72625000000002,
          251.23791666666668,
          237.1579166666667,
          302.21791666666667,
          289.8141666666666,
          303.2608333333333,
          336.12333333333333,
          311.00875,
          244.33458333333337,
          186.75958333333332,
          259.4945833333333,
          264.4058333333333,
          264.63708333333335,
          265.5508333333333,
          255.05166666666665,
          226.53166666666664,
          208.48125000000002,
          242.90166666666673,
          241.7441666666667,
          244.88083333333327,
          227.0995833333333,
          224.94916666666668,
          186.27124999999998,
          146.14208333333332,
          195.43499999999997,
          219.22624999999996,
          212.25041666666667,
          232.97833333333332,
          238.59124999999997,
          208.36333333333326,
          182.47041666666664,
          239.14541666666665,
          213.36999999999998,
          199.90958333333336,
          214.0029166666666,
          228.8779166666667,
          212.8233333333333,
          170.69416666666666,
          222.05499999999998,
          213.85875,
          214.71874999999997,
          194.01708333333332,
          230.09000000000003,
          215.07624999999996,
          165.68333333333337,
          195.06833333333338,
          190.91750000000002,
          222.53041666666672,
          203.17333333333332,
          186.95583333333332,
          173.82583333333335,
          140.14333333333332,
          207.88916666666668,
          227.1329166666667,
          202.04500000000004,
          187.75541666666672,
          195.96291666666664,
          166.35958333333335,
          150.2975,
          182.82375,
          219.6258333333333,
          224.29833333333332,
          225.44333333333327,
          244.20791666666665,
          210.9175,
          173.35083333333333,
          215.64041666666665,
          200.15333333333334,
          215.4125,
          230.13,
          210.39958333333334,
          204.14416666666662,
          156.4708695652174,
          234.58916666666667,
          194.5391666666667,
          188.6208333333333,
          203.23208333333332,
          221.07541666666668,
          202.53666666666663,
          196.1425,
          245.63625000000002,
          245.62875000000008,
          252.7341666666667,
          250.82458333333338,
          249.4816666666666,
          226.25666666666658,
          187.65791666666664,
          228.21124999999998,
          247.59249999999997,
          268.4741666666667,
          275.1358333333333,
          255.71749999999997,
          224.30333333333337,
          183.6070833333333,
          174.7520833333333,
          182.06500000000003,
          200.76833333333332,
          246.97583333333333,
          267.13166666666666,
          249.25041666666664,
          209.56458333333333,
          242.65500000000006,
          259.5708333333333,
          215.49458333333328,
          173.45875,
          189.13125000000002,
          246.495,
          207.7454166666666,
          255.89833333333334,
          255.49333333333337,
          252.11125,
          250.84583333333333,
          261.68958333333336,
          238.92583333333332,
          198.68083333333334,
          241.96541666666667,
          237.85875000000001,
          236.3133333333333,
          242.73999999999992,
          272.7875,
          249.42083333333335,
          206.73749999999998,
          248.80416666666667,
          279.09125,
          273.3958333333333,
          250.42625,
          268.14375,
          231.06208333333333,
          194.62916666666663,
          233.28791666666666,
          255.77249999999995,
          253.65375000000003,
          266.64666666666665,
          260.7049999999999,
          237.07124999999994,
          212.1075,
          247.00375,
          273.63208333333336,
          255.50708333333333,
          240.67124999999996,
          274.6333333333333,
          233.43208333333328,
          197.4841666666667,
          222.89458333333332,
          253.9858333333333,
          272.1216666666666,
          294.7183333333333,
          312.4437500000001,
          236.9770833333333,
          184.7983333333333,
          284.4004166666667,
          311.45833333333337,
          292.9704166666666,
          226.38208333333333,
          279.79416666666674,
          240.06083333333333,
          187.32583333333332,
          259.2758333333333,
          272.89708333333334,
          286.69125,
          232.2795833333333,
          261.14583333333337,
          238.38875,
          195.58708333333334,
          238.29208333333335,
          229.97875,
          232.36374999999995,
          232.10833333333332,
          213.44916666666668,
          219.39166666666668,
          129.90666666666667,
          217.83958333333337,
          220.42625,
          233.10458333333338,
          253.68208333333334,
          264.8666666666666,
          232.81583333333333,
          181.58583333333334,
          248.6425,
          247.41083333333333,
          235.69916666666666,
          260.9975,
          265.4308333333333,
          254.64125000000004,
          193.1741666666666,
          235.94458333333338,
          256.03541666666666,
          272.31083333333333,
          278.405,
          266.27541666666673,
          236.08708333333334,
          200.92166666666665,
          282.11875000000003,
          300.2625,
          288.81291666666664,
          287.44458333333336,
          271.9895833333333,
          265.49375,
          231.13041666666663,
          285.00375,
          284.24541666666664,
          287.89875,
          277.41541666666666,
          278.14916666666664,
          251.85791666666668,
          223.27333333333334,
          275.57916666666665,
          280.14125,
          278.9429166666667,
          238.09583333333322,
          257.1808333333333,
          250.76250000000005,
          212.09958333333336,
          274.75166666666667,
          283.3191666666667,
          278.49916666666667,
          295.1466666666667,
          279.2075,
          251.36958333333328,
          214.47875,
          268.3425,
          277.15375,
          278.1245833333333,
          291.84999999999997,
          305.2445833333333,
          255.07416666666666,
          215.77041666666665,
          263.9133333333333,
          266.2291666666667,
          266.0779166666667,
          259.5833333333333,
          265.2741666666667,
          258.10125,
          220.4433333333333,
          239.19291666666663,
          228.62125000000003,
          236.13458333333335,
          239.40916666666666,
          230.63833333333335,
          230.5620833333334,
          155.96291666666664,
          215.15875000000003,
          222.66041666666663,
          232.50583333333336,
          260.87916666666666,
          267.9437499999999,
          240.09041666666664,
          214.62791666666666,
          261.2295833333333,
          273.7604166666667,
          272.5545833333333,
          289.91125,
          280.67791666666665,
          258.59458333333333,
          205.42375000000004,
          226.8379166666667,
          233.80875000000003,
          243.34416666666672,
          246.34124999999997,
          258.35291666666666,
          220.14458333333334,
          186.53416666666666,
          243.0325,
          228.91500000000005,
          239.56125,
          236.33624999999998,
          214.2029166666667,
          173.66416666666672,
          182.87,
          213.9608333333333,
          232.71916666666672,
          224.80083333333332,
          234.07166666666663,
          235.6341666666667,
          225.7991666666667,
          185.17041666666668,
          245.00166666666664,
          254.04916666666665,
          260.5995833333333,
          245.24041666666662,
          242.95125,
          213.11499999999998,
          171.3045833333333,
          254.13875,
          263.71125,
          270.05083333333334,
          247.88249999999994,
          164.99625,
          162.76916666666668,
          189.91291666666666,
          235.1,
          241.76458333333338,
          257.9066666666667,
          245.1629166666667,
          232.50125000000003,
          210.81250000000003,
          194.34124999999997,
          197.35833333333335,
          217.56875000000002,
          235.38291666666666,
          233.21833333333333,
          212.59125000000003,
          211.81291666666664,
          188.69458333333333,
          217.1591666666666,
          220.52125,
          241.27833333333334,
          219.69125,
          212.20208333333326,
          190.60958333333338,
          175.07375,
          229.205,
          231.1866666666667,
          250.67916666666667,
          223.73,
          204.92166666666665,
          227.4704166666667,
          197.64000000000001,
          227.58416666666665,
          228.02666666666664
         ],
         "yaxis": "y"
        },
        {
         "hovertemplate": "variable=fixing I course (PLN/MWh)_y<br>date_normalize_x=%{x}<br>value=%{y}<extra></extra>",
         "legendgroup": "fixing I course (PLN/MWh)_y",
         "line": {
          "color": "#EF553B",
          "dash": "solid"
         },
         "mode": "lines",
         "name": "fixing I course (PLN/MWh)_y",
         "orientation": "v",
         "showlegend": true,
         "type": "scatter",
         "x": [
          "2019-01-02",
          "2019-01-03",
          "2019-01-04",
          "2019-01-05",
          "2019-01-06",
          "2019-01-07",
          "2019-01-08",
          "2019-01-09",
          "2019-01-10",
          "2019-01-11",
          "2019-01-12",
          "2019-01-13",
          "2019-01-14",
          "2019-01-15",
          "2019-01-16",
          "2019-01-17",
          "2019-01-18",
          "2019-01-19",
          "2019-01-20",
          "2019-01-21",
          "2019-01-22",
          "2019-01-23",
          "2019-01-24",
          "2019-01-25",
          "2019-01-26",
          "2019-01-27",
          "2019-01-28",
          "2019-01-29",
          "2019-01-30",
          "2019-01-31",
          "2019-02-01",
          "2019-02-02",
          "2019-02-03",
          "2019-02-04",
          "2019-02-05",
          "2019-02-06",
          "2019-02-07",
          "2019-02-08",
          "2019-02-09",
          "2019-02-10",
          "2019-02-11",
          "2019-02-12",
          "2019-02-13",
          "2019-02-14",
          "2019-02-15",
          "2019-02-16",
          "2019-02-17",
          "2019-02-18",
          "2019-02-19",
          "2019-02-20",
          "2019-02-21",
          "2019-02-22",
          "2019-02-23",
          "2019-02-24",
          "2019-02-25",
          "2019-02-26",
          "2019-02-27",
          "2019-02-28",
          "2019-03-01",
          "2019-03-02",
          "2019-03-03",
          "2019-03-04",
          "2019-03-05",
          "2019-03-06",
          "2019-03-07",
          "2019-03-08",
          "2019-03-09",
          "2019-03-10",
          "2019-03-11",
          "2019-03-12",
          "2019-03-13",
          "2019-03-14",
          "2019-03-15",
          "2019-03-16",
          "2019-03-17",
          "2019-03-18",
          "2019-03-19",
          "2019-03-20",
          "2019-03-21",
          "2019-03-22",
          "2019-03-23",
          "2019-03-24",
          "2019-03-25",
          "2019-03-26",
          "2019-03-27",
          "2019-03-28",
          "2019-03-29",
          "2019-03-30",
          "2019-03-31",
          "2019-04-01",
          "2019-04-02",
          "2019-04-03",
          "2019-04-04",
          "2019-04-05",
          "2019-04-06",
          "2019-04-07",
          "2019-04-08",
          "2019-04-09",
          "2019-04-10",
          "2019-04-11",
          "2019-04-12",
          "2019-04-13",
          "2019-04-14",
          "2019-04-15",
          "2019-04-16",
          "2019-04-17",
          "2019-04-18",
          "2019-04-19",
          "2019-04-20",
          "2019-04-21",
          "2019-04-22",
          "2019-04-23",
          "2019-04-24",
          "2019-04-25",
          "2019-04-26",
          "2019-04-27",
          "2019-04-28",
          "2019-04-29",
          "2019-04-30",
          "2019-05-01",
          "2019-05-02",
          "2019-05-03",
          "2019-05-04",
          "2019-05-05",
          "2019-05-06",
          "2019-05-07",
          "2019-05-08",
          "2019-05-09",
          "2019-05-10",
          "2019-05-11",
          "2019-05-12",
          "2019-05-13",
          "2019-05-14",
          "2019-05-15",
          "2019-05-16",
          "2019-05-17",
          "2019-05-18",
          "2019-05-19",
          "2019-05-20",
          "2019-05-21",
          "2019-05-22",
          "2019-05-23",
          "2019-05-24",
          "2019-05-25",
          "2019-05-26",
          "2019-05-27",
          "2019-05-28",
          "2019-05-29",
          "2019-05-30",
          "2019-05-31",
          "2019-06-01",
          "2019-06-02",
          "2019-06-03",
          "2019-06-04",
          "2019-06-05",
          "2019-06-06",
          "2019-06-07",
          "2019-06-08",
          "2019-06-09",
          "2019-06-10",
          "2019-06-11",
          "2019-06-12",
          "2019-06-13",
          "2019-06-14",
          "2019-06-15",
          "2019-06-16",
          "2019-06-17",
          "2019-06-18",
          "2019-06-19",
          "2019-06-20",
          "2019-06-21",
          "2019-06-22",
          "2019-06-23",
          "2019-06-24",
          "2019-06-25",
          "2019-06-26",
          "2019-06-27",
          "2019-06-28",
          "2019-06-29",
          "2019-06-30",
          "2019-07-01",
          "2019-07-02",
          "2019-07-03",
          "2019-07-04",
          "2019-07-05",
          "2019-07-06",
          "2019-07-07",
          "2019-07-08",
          "2019-07-09",
          "2019-07-10",
          "2019-07-11",
          "2019-07-12",
          "2019-07-13",
          "2019-07-14",
          "2019-07-15",
          "2019-07-16",
          "2019-07-17",
          "2019-07-18",
          "2019-07-19",
          "2019-07-20",
          "2019-07-21",
          "2019-07-22",
          "2019-07-23",
          "2019-07-24",
          "2019-07-25",
          "2019-07-26",
          "2019-07-27",
          "2019-07-28",
          "2019-07-29",
          "2019-07-30",
          "2019-07-31",
          "2019-08-01",
          "2019-08-02",
          "2019-08-03",
          "2019-08-04",
          "2019-08-05",
          "2019-08-06",
          "2019-08-07",
          "2019-08-08",
          "2019-08-09",
          "2019-08-10",
          "2019-08-11",
          "2019-08-12",
          "2019-08-13",
          "2019-08-14",
          "2019-08-15",
          "2019-08-16",
          "2019-08-17",
          "2019-08-18",
          "2019-08-19",
          "2019-08-20",
          "2019-08-21",
          "2019-08-22",
          "2019-08-23",
          "2019-08-24",
          "2019-08-25",
          "2019-08-26",
          "2019-08-27",
          "2019-08-28",
          "2019-08-29",
          "2019-08-30",
          "2019-08-31",
          "2019-09-01",
          "2019-09-02",
          "2019-09-03",
          "2019-09-04",
          "2019-09-05",
          "2019-09-06",
          "2019-09-07",
          "2019-09-08",
          "2019-09-09",
          "2019-09-10",
          "2019-09-11",
          "2019-09-12",
          "2019-09-13",
          "2019-09-14",
          "2019-09-15",
          "2019-09-16",
          "2019-09-17",
          "2019-09-18",
          "2019-09-19",
          "2019-09-20",
          "2019-09-21",
          "2019-09-22",
          "2019-09-23",
          "2019-09-24",
          "2019-09-25",
          "2019-09-26",
          "2019-09-27",
          "2019-09-28",
          "2019-09-29",
          "2019-09-30",
          "2019-10-01",
          "2019-10-02",
          "2019-10-03",
          "2019-10-04",
          "2019-10-05",
          "2019-10-06",
          "2019-10-07",
          "2019-10-08",
          "2019-10-09",
          "2019-10-10",
          "2019-10-11",
          "2019-10-12",
          "2019-10-13",
          "2019-10-14",
          "2019-10-15",
          "2019-10-16",
          "2019-10-17",
          "2019-10-18",
          "2019-10-19",
          "2019-10-20",
          "2019-10-21",
          "2019-10-22",
          "2019-10-23",
          "2019-10-24",
          "2019-10-25",
          "2019-10-26",
          "2019-10-27",
          "2019-10-28",
          "2019-10-29",
          "2019-10-30",
          "2019-10-31",
          "2019-11-01",
          "2019-11-02",
          "2019-11-03",
          "2019-11-04",
          "2019-11-05",
          "2019-11-06",
          "2019-11-07",
          "2019-11-08",
          "2019-11-09",
          "2019-11-10",
          "2019-11-11",
          "2019-11-12",
          "2019-11-13",
          "2019-11-14",
          "2019-11-15",
          "2019-11-16",
          "2019-11-17",
          "2019-11-18",
          "2019-11-19",
          "2019-11-20",
          "2019-11-21",
          "2019-11-22",
          "2019-11-23",
          "2019-11-24",
          "2019-11-25",
          "2019-11-26",
          "2019-11-27",
          "2019-11-28",
          "2019-11-29",
          "2019-11-30",
          "2019-12-01",
          "2019-12-02",
          "2019-12-03"
         ],
         "xaxis": "x",
         "y": [
          166.0679166666667,
          161.2804166666667,
          144.31833333333333,
          150.32625000000002,
          170.45625,
          207.52958333333333,
          195.79833333333332,
          210.92333333333332,
          198.14166666666668,
          210.42125,
          127.37000000000002,
          204.62458333333336,
          209.26166666666666,
          178.26708333333332,
          212.21083333333334,
          207.3216666666667,
          200.84875,
          183.82541666666668,
          226.6670833333333,
          191.72333333333327,
          195.4754166666667,
          223.09374999999997,
          213.06125,
          194.55083333333334,
          174.9725,
          222.32708333333335,
          210.18374999999995,
          195.90208333333337,
          201.6266666666667,
          190.21041666666665,
          182.2854166666667,
          121.01124999999998,
          214.62708333333333,
          206.33416666666668,
          197.00625000000002,
          176.97458333333336,
          218.9366666666667,
          210.10875000000001,
          124.84166666666663,
          170.0516666666667,
          189.80291666666673,
          176.27999999999997,
          208.81250000000003,
          242.04916666666668,
          188.76833333333332,
          96.05375,
          151.26541666666665,
          164.30958333333334,
          180.05875,
          204.81916666666666,
          157.91166666666666,
          128.85916666666662,
          123.02708333333335,
          177.79416666666665,
          182.47958333333338,
          198.65833333333333,
          203.44250000000002,
          194.13333333333335,
          134.3370833333333,
          125.33583333333333,
          215.92125,
          210.99458333333334,
          210.5475,
          223.09791666666663,
          182.78499999999997,
          185.57833333333335,
          166.11875,
          230.9395833333333,
          220.76208333333332,
          182.94375,
          158.64291666666668,
          137.63208333333333,
          173.14749999999995,
          105.73041666666667,
          160.81416666666667,
          190.87541666666667,
          175.77958333333333,
          185.6570833333333,
          172.9075,
          120.67458333333332,
          101.57708333333333,
          148.47083333333336,
          149.94375,
          150.51416666666668,
          150.64208333333335,
          155.1791666666667,
          158.15083333333334,
          81.38,
          145.57750000000001,
          158.94708333333332,
          138.04541666666665,
          131.39499999999998,
          116.96624999999999,
          147.40083333333334,
          127.37624999999998,
          151.76791666666665,
          162.48041666666666,
          173.36791666666662,
          160.23208333333332,
          165.06375,
          173.5120833333334,
          115.14333333333332,
          95.95833333333333,
          144.74791666666667,
          139.13583333333332,
          134.48333333333332,
          158.01999999999995,
          162.66041666666663,
          123.82708333333333,
          151.06541666666666,
          161.68166666666667,
          167.57583333333335,
          176.5245833333333,
          162.80458333333334,
          160.2804166666667,
          162.23166666666668,
          190.1341666666666,
          171.89374999999998,
          168.51375,
          156.94125,
          136.82708333333332,
          164.08333333333331,
          144.19750000000002,
          189.05416666666667,
          179.3516666666667,
          158.85791666666665,
          176.0370833333333,
          179.80916666666667,
          178.3508333333333,
          157.3929166666667,
          170.2254166666667,
          171.9183333333333,
          184.03291666666664,
          187.84375,
          187.37583333333336,
          158.2408333333333,
          81.60333333333334,
          157.60708333333335,
          180.96541666666667,
          195.69291666666666,
          196.48000000000002,
          191.45083333333332,
          175.48458333333335,
          154.96874999999997,
          193.83291666666665,
          197.54375000000005,
          200.83499999999995,
          201.24791666666667,
          187.46583333333334,
          168.36583333333337,
          130.81333333333333,
          191.59124999999997,
          206.01458333333338,
          199.29125,
          203.95666666666668,
          195.62958333333336,
          173.33000000000004,
          176.58708333333334,
          222.87041666666664,
          218.39666666666665,
          215.28916666666666,
          196.96624999999997,
          208.42708333333337,
          202.97874999999996,
          173.92624999999998,
          222.2320833333333,
          231.07000000000002,
          223.595,
          223.63749999999993,
          240.17999999999998,
          225.50291666666672,
          197.84125000000003,
          232.1283333333333,
          259.7058333333334,
          244.53166666666667,
          246.2129166666667,
          255.2295833333333,
          234.47208333333336,
          206.12000000000003,
          256.1020833333334,
          234.53,
          232.02416666666662,
          236.4879166666667,
          244.78916666666672,
          218.60458333333335,
          184.9620833333333,
          215.71166666666667,
          220.84208333333336,
          228.6866666666667,
          242.34375,
          230.1883333333333,
          215.1533333333334,
          194.50083333333336,
          228.0545833333333,
          237.1291666666667,
          234.44791666666663,
          226.20208333333332,
          229.3941666666667,
          226.43125,
          191.89166666666668,
          234.19583333333335,
          225.61041666666665,
          217.9708333333333,
          227.1941666666667,
          238.4958333333334,
          223.165,
          184.16291666666663,
          245.02916666666673,
          219.48000000000002,
          214.81875,
          216.24666666666675,
          213.45916666666662,
          221.17125000000001,
          190.34749999999997,
          237.59041666666667,
          218.80958333333334,
          224.78625,
          237.7279166666667,
          236.27958333333333,
          241.68708333333333,
          219.24666666666667,
          246.61333333333332,
          245.8541666666667,
          246.29791666666665,
          237.51250000000005,
          228.13666666666666,
          186.5525,
          188.8145833333333,
          242.03874999999996,
          249.6554166666666,
          262.39666666666665,
          257.0083333333334,
          256.6504166666667,
          237.63125,
          187.7416666666666,
          229.9354166666667,
          240.98791666666668,
          223.82625000000007,
          230.1058333333333,
          247.99333333333334,
          232.68041666666667,
          205.10041666666666,
          259.7275,
          267.42041666666665,
          253.34875000000008,
          236.9395833333333,
          237.1979166666667,
          228.91083333333336,
          205.36875,
          241.93583333333336,
          223.2125,
          226.53375000000003,
          238.45541666666665,
          249.42625,
          228.04875,
          195.01999999999995,
          244.76166666666668,
          279.0945833333333,
          270.43666666666667,
          242.85208333333335,
          264.6991666666667,
          239.93166666666664,
          203.92083333333332,
          283.17083333333335,
          271.34583333333336,
          248.72583333333333,
          257.42333333333335,
          246.76458333333332,
          210.5520833333333,
          186.03750000000002,
          276.53375,
          277.87250000000006,
          249.75416666666663,
          264.78916666666663,
          269.74999999999994,
          193.66625,
          175.4708333333333,
          256.6095833333333,
          232.39458333333332,
          289.175,
          261.34208333333333,
          248.03499999999997,
          230.6575,
          215.58291666666665,
          248.20125,
          251.28166666666667,
          204.13041666666666,
          256.04374999999993,
          273.74500000000006,
          246.0695833333333,
          187.19625000000005,
          256.1720833333333,
          261.9183333333333,
          236.4054166666666,
          214.6875,
          252.77833333333334,
          242.405,
          202.57583333333335,
          247.10750000000004,
          248.70583333333335,
          244.9070833333333,
          233.40166666666667,
          251.43708333333336,
          246.27125,
          180.01624999999999,
          215.21791666666664,
          269.37041666666664,
          261.08375000000007,
          249.04625,
          270.53458333333333,
          254.54875000000004,
          231.5020833333334,
          265.2720833333333,
          271.1504166666667,
          233.23875,
          277.34416666666664,
          266.6875,
          249.63458333333332,
          211.39458333333334,
          237.9054166666666,
          254.69375,
          241.76333333333335,
          207.5595833333333,
          222.52999999999997,
          221.99375,
          153.1825,
          212.22041666666667,
          242.69583333333335,
          274.8308333333333,
          273.53125000000006,
          287.12333333333333,
          260.3241666666667,
          224.58666666666662,
          293.3058333333334,
          290.6791666666667,
          234.42
         ],
         "yaxis": "y"
        }
       ],
       "layout": {
        "bargap": 0.15,
        "bargroupgap": 0.1,
        "barmode": "group",
        "legend": {
         "bgcolor": "rgba(255, 255, 255, 0)",
         "bordercolor": "rgba(255, 255, 255, 0)",
         "title": {
          "text": ""
         },
         "tracegroupgap": 0,
         "x": 0,
         "y": 1
        },
        "plot_bgcolor": "white",
        "template": {
         "data": {
          "bar": [
           {
            "error_x": {
             "color": "#2a3f5f"
            },
            "error_y": {
             "color": "#2a3f5f"
            },
            "marker": {
             "line": {
              "color": "#E5ECF6",
              "width": 0.5
             }
            },
            "type": "bar"
           }
          ],
          "barpolar": [
           {
            "marker": {
             "line": {
              "color": "#E5ECF6",
              "width": 0.5
             }
            },
            "type": "barpolar"
           }
          ],
          "carpet": [
           {
            "aaxis": {
             "endlinecolor": "#2a3f5f",
             "gridcolor": "white",
             "linecolor": "white",
             "minorgridcolor": "white",
             "startlinecolor": "#2a3f5f"
            },
            "baxis": {
             "endlinecolor": "#2a3f5f",
             "gridcolor": "white",
             "linecolor": "white",
             "minorgridcolor": "white",
             "startlinecolor": "#2a3f5f"
            },
            "type": "carpet"
           }
          ],
          "choropleth": [
           {
            "colorbar": {
             "outlinewidth": 0,
             "ticks": ""
            },
            "type": "choropleth"
           }
          ],
          "contour": [
           {
            "colorbar": {
             "outlinewidth": 0,
             "ticks": ""
            },
            "colorscale": [
             [
              0,
              "#0d0887"
             ],
             [
              0.1111111111111111,
              "#46039f"
             ],
             [
              0.2222222222222222,
              "#7201a8"
             ],
             [
              0.3333333333333333,
              "#9c179e"
             ],
             [
              0.4444444444444444,
              "#bd3786"
             ],
             [
              0.5555555555555556,
              "#d8576b"
             ],
             [
              0.6666666666666666,
              "#ed7953"
             ],
             [
              0.7777777777777778,
              "#fb9f3a"
             ],
             [
              0.8888888888888888,
              "#fdca26"
             ],
             [
              1,
              "#f0f921"
             ]
            ],
            "type": "contour"
           }
          ],
          "contourcarpet": [
           {
            "colorbar": {
             "outlinewidth": 0,
             "ticks": ""
            },
            "type": "contourcarpet"
           }
          ],
          "heatmap": [
           {
            "colorbar": {
             "outlinewidth": 0,
             "ticks": ""
            },
            "colorscale": [
             [
              0,
              "#0d0887"
             ],
             [
              0.1111111111111111,
              "#46039f"
             ],
             [
              0.2222222222222222,
              "#7201a8"
             ],
             [
              0.3333333333333333,
              "#9c179e"
             ],
             [
              0.4444444444444444,
              "#bd3786"
             ],
             [
              0.5555555555555556,
              "#d8576b"
             ],
             [
              0.6666666666666666,
              "#ed7953"
             ],
             [
              0.7777777777777778,
              "#fb9f3a"
             ],
             [
              0.8888888888888888,
              "#fdca26"
             ],
             [
              1,
              "#f0f921"
             ]
            ],
            "type": "heatmap"
           }
          ],
          "heatmapgl": [
           {
            "colorbar": {
             "outlinewidth": 0,
             "ticks": ""
            },
            "colorscale": [
             [
              0,
              "#0d0887"
             ],
             [
              0.1111111111111111,
              "#46039f"
             ],
             [
              0.2222222222222222,
              "#7201a8"
             ],
             [
              0.3333333333333333,
              "#9c179e"
             ],
             [
              0.4444444444444444,
              "#bd3786"
             ],
             [
              0.5555555555555556,
              "#d8576b"
             ],
             [
              0.6666666666666666,
              "#ed7953"
             ],
             [
              0.7777777777777778,
              "#fb9f3a"
             ],
             [
              0.8888888888888888,
              "#fdca26"
             ],
             [
              1,
              "#f0f921"
             ]
            ],
            "type": "heatmapgl"
           }
          ],
          "histogram": [
           {
            "marker": {
             "colorbar": {
              "outlinewidth": 0,
              "ticks": ""
             }
            },
            "type": "histogram"
           }
          ],
          "histogram2d": [
           {
            "colorbar": {
             "outlinewidth": 0,
             "ticks": ""
            },
            "colorscale": [
             [
              0,
              "#0d0887"
             ],
             [
              0.1111111111111111,
              "#46039f"
             ],
             [
              0.2222222222222222,
              "#7201a8"
             ],
             [
              0.3333333333333333,
              "#9c179e"
             ],
             [
              0.4444444444444444,
              "#bd3786"
             ],
             [
              0.5555555555555556,
              "#d8576b"
             ],
             [
              0.6666666666666666,
              "#ed7953"
             ],
             [
              0.7777777777777778,
              "#fb9f3a"
             ],
             [
              0.8888888888888888,
              "#fdca26"
             ],
             [
              1,
              "#f0f921"
             ]
            ],
            "type": "histogram2d"
           }
          ],
          "histogram2dcontour": [
           {
            "colorbar": {
             "outlinewidth": 0,
             "ticks": ""
            },
            "colorscale": [
             [
              0,
              "#0d0887"
             ],
             [
              0.1111111111111111,
              "#46039f"
             ],
             [
              0.2222222222222222,
              "#7201a8"
             ],
             [
              0.3333333333333333,
              "#9c179e"
             ],
             [
              0.4444444444444444,
              "#bd3786"
             ],
             [
              0.5555555555555556,
              "#d8576b"
             ],
             [
              0.6666666666666666,
              "#ed7953"
             ],
             [
              0.7777777777777778,
              "#fb9f3a"
             ],
             [
              0.8888888888888888,
              "#fdca26"
             ],
             [
              1,
              "#f0f921"
             ]
            ],
            "type": "histogram2dcontour"
           }
          ],
          "mesh3d": [
           {
            "colorbar": {
             "outlinewidth": 0,
             "ticks": ""
            },
            "type": "mesh3d"
           }
          ],
          "parcoords": [
           {
            "line": {
             "colorbar": {
              "outlinewidth": 0,
              "ticks": ""
             }
            },
            "type": "parcoords"
           }
          ],
          "pie": [
           {
            "automargin": true,
            "type": "pie"
           }
          ],
          "scatter": [
           {
            "marker": {
             "colorbar": {
              "outlinewidth": 0,
              "ticks": ""
             }
            },
            "type": "scatter"
           }
          ],
          "scatter3d": [
           {
            "line": {
             "colorbar": {
              "outlinewidth": 0,
              "ticks": ""
             }
            },
            "marker": {
             "colorbar": {
              "outlinewidth": 0,
              "ticks": ""
             }
            },
            "type": "scatter3d"
           }
          ],
          "scattercarpet": [
           {
            "marker": {
             "colorbar": {
              "outlinewidth": 0,
              "ticks": ""
             }
            },
            "type": "scattercarpet"
           }
          ],
          "scattergeo": [
           {
            "marker": {
             "colorbar": {
              "outlinewidth": 0,
              "ticks": ""
             }
            },
            "type": "scattergeo"
           }
          ],
          "scattergl": [
           {
            "marker": {
             "colorbar": {
              "outlinewidth": 0,
              "ticks": ""
             }
            },
            "type": "scattergl"
           }
          ],
          "scattermapbox": [
           {
            "marker": {
             "colorbar": {
              "outlinewidth": 0,
              "ticks": ""
             }
            },
            "type": "scattermapbox"
           }
          ],
          "scatterpolar": [
           {
            "marker": {
             "colorbar": {
              "outlinewidth": 0,
              "ticks": ""
             }
            },
            "type": "scatterpolar"
           }
          ],
          "scatterpolargl": [
           {
            "marker": {
             "colorbar": {
              "outlinewidth": 0,
              "ticks": ""
             }
            },
            "type": "scatterpolargl"
           }
          ],
          "scatterternary": [
           {
            "marker": {
             "colorbar": {
              "outlinewidth": 0,
              "ticks": ""
             }
            },
            "type": "scatterternary"
           }
          ],
          "surface": [
           {
            "colorbar": {
             "outlinewidth": 0,
             "ticks": ""
            },
            "colorscale": [
             [
              0,
              "#0d0887"
             ],
             [
              0.1111111111111111,
              "#46039f"
             ],
             [
              0.2222222222222222,
              "#7201a8"
             ],
             [
              0.3333333333333333,
              "#9c179e"
             ],
             [
              0.4444444444444444,
              "#bd3786"
             ],
             [
              0.5555555555555556,
              "#d8576b"
             ],
             [
              0.6666666666666666,
              "#ed7953"
             ],
             [
              0.7777777777777778,
              "#fb9f3a"
             ],
             [
              0.8888888888888888,
              "#fdca26"
             ],
             [
              1,
              "#f0f921"
             ]
            ],
            "type": "surface"
           }
          ],
          "table": [
           {
            "cells": {
             "fill": {
              "color": "#EBF0F8"
             },
             "line": {
              "color": "white"
             }
            },
            "header": {
             "fill": {
              "color": "#C8D4E3"
             },
             "line": {
              "color": "white"
             }
            },
            "type": "table"
           }
          ]
         },
         "layout": {
          "annotationdefaults": {
           "arrowcolor": "#2a3f5f",
           "arrowhead": 0,
           "arrowwidth": 1
          },
          "coloraxis": {
           "colorbar": {
            "outlinewidth": 0,
            "ticks": ""
           }
          },
          "colorscale": {
           "diverging": [
            [
             0,
             "#8e0152"
            ],
            [
             0.1,
             "#c51b7d"
            ],
            [
             0.2,
             "#de77ae"
            ],
            [
             0.3,
             "#f1b6da"
            ],
            [
             0.4,
             "#fde0ef"
            ],
            [
             0.5,
             "#f7f7f7"
            ],
            [
             0.6,
             "#e6f5d0"
            ],
            [
             0.7,
             "#b8e186"
            ],
            [
             0.8,
             "#7fbc41"
            ],
            [
             0.9,
             "#4d9221"
            ],
            [
             1,
             "#276419"
            ]
           ],
           "sequential": [
            [
             0,
             "#0d0887"
            ],
            [
             0.1111111111111111,
             "#46039f"
            ],
            [
             0.2222222222222222,
             "#7201a8"
            ],
            [
             0.3333333333333333,
             "#9c179e"
            ],
            [
             0.4444444444444444,
             "#bd3786"
            ],
            [
             0.5555555555555556,
             "#d8576b"
            ],
            [
             0.6666666666666666,
             "#ed7953"
            ],
            [
             0.7777777777777778,
             "#fb9f3a"
            ],
            [
             0.8888888888888888,
             "#fdca26"
            ],
            [
             1,
             "#f0f921"
            ]
           ],
           "sequentialminus": [
            [
             0,
             "#0d0887"
            ],
            [
             0.1111111111111111,
             "#46039f"
            ],
            [
             0.2222222222222222,
             "#7201a8"
            ],
            [
             0.3333333333333333,
             "#9c179e"
            ],
            [
             0.4444444444444444,
             "#bd3786"
            ],
            [
             0.5555555555555556,
             "#d8576b"
            ],
            [
             0.6666666666666666,
             "#ed7953"
            ],
            [
             0.7777777777777778,
             "#fb9f3a"
            ],
            [
             0.8888888888888888,
             "#fdca26"
            ],
            [
             1,
             "#f0f921"
            ]
           ]
          },
          "colorway": [
           "#636efa",
           "#EF553B",
           "#00cc96",
           "#ab63fa",
           "#FFA15A",
           "#19d3f3",
           "#FF6692",
           "#B6E880",
           "#FF97FF",
           "#FECB52"
          ],
          "font": {
           "color": "#2a3f5f"
          },
          "geo": {
           "bgcolor": "white",
           "lakecolor": "white",
           "landcolor": "#E5ECF6",
           "showlakes": true,
           "showland": true,
           "subunitcolor": "white"
          },
          "hoverlabel": {
           "align": "left"
          },
          "hovermode": "closest",
          "mapbox": {
           "style": "light"
          },
          "paper_bgcolor": "white",
          "plot_bgcolor": "#E5ECF6",
          "polar": {
           "angularaxis": {
            "gridcolor": "white",
            "linecolor": "white",
            "ticks": ""
           },
           "bgcolor": "#E5ECF6",
           "radialaxis": {
            "gridcolor": "white",
            "linecolor": "white",
            "ticks": ""
           }
          },
          "scene": {
           "xaxis": {
            "backgroundcolor": "#E5ECF6",
            "gridcolor": "white",
            "gridwidth": 2,
            "linecolor": "white",
            "showbackground": true,
            "ticks": "",
            "zerolinecolor": "white"
           },
           "yaxis": {
            "backgroundcolor": "#E5ECF6",
            "gridcolor": "white",
            "gridwidth": 2,
            "linecolor": "white",
            "showbackground": true,
            "ticks": "",
            "zerolinecolor": "white"
           },
           "zaxis": {
            "backgroundcolor": "#E5ECF6",
            "gridcolor": "white",
            "gridwidth": 2,
            "linecolor": "white",
            "showbackground": true,
            "ticks": "",
            "zerolinecolor": "white"
           }
          },
          "shapedefaults": {
           "line": {
            "color": "#2a3f5f"
           }
          },
          "ternary": {
           "aaxis": {
            "gridcolor": "white",
            "linecolor": "white",
            "ticks": ""
           },
           "baxis": {
            "gridcolor": "white",
            "linecolor": "white",
            "ticks": ""
           },
           "bgcolor": "#E5ECF6",
           "caxis": {
            "gridcolor": "white",
            "linecolor": "white",
            "ticks": ""
           }
          },
          "title": {
           "x": 0.05
          },
          "xaxis": {
           "automargin": true,
           "gridcolor": "white",
           "linecolor": "white",
           "ticks": "",
           "title": {
            "standoff": 15
           },
           "zerolinecolor": "white",
           "zerolinewidth": 2
          },
          "yaxis": {
           "automargin": true,
           "gridcolor": "white",
           "linecolor": "white",
           "ticks": "",
           "title": {
            "standoff": 15
           },
           "zerolinecolor": "white",
           "zerolinewidth": 2
          }
         }
        },
        "title": {
         "text": "custom tick labels"
        },
        "xaxis": {
         "anchor": "y",
         "domain": [
          0,
          1
         ],
         "dtick": "M1",
         "linecolor": "black",
         "linewidth": 1,
         "mirror": true,
         "showline": true,
         "tickangle": 45,
         "tickfont": {
          "size": 10
         },
         "tickformat": "%b\n",
         "ticks": "outside",
         "tickwidth": 0.8,
         "title": {
          "text": "Month"
         }
        },
        "yaxis": {
         "anchor": "x",
         "domain": [
          0,
          1
         ],
         "gridcolor": "rgba(238, 238, 238, 1)",
         "linecolor": "black",
         "linewidth": 1,
         "mirror": true,
         "range": [
          0,
          400
         ],
         "showline": true,
         "tickfont": {
          "size": 10
         },
         "ticklen": 5,
         "ticks": "outside",
         "tickwidth": 0.8,
         "title": {
          "font": {
           "size": 14
          },
          "text": "Kurs I fixng PLN/MWh"
         }
        }
       }
      },
      "text/html": [
       "<div>\n",
       "        \n",
       "        \n",
       "            <div id=\"7ff698f8-7b29-4411-b528-ef42fbeb32f5\" class=\"plotly-graph-div\" style=\"height:525px; width:100%;\"></div>\n",
       "            <script type=\"text/javascript\">\n",
       "                require([\"plotly\"], function(Plotly) {\n",
       "                    window.PLOTLYENV=window.PLOTLYENV || {};\n",
       "                    \n",
       "                if (document.getElementById(\"7ff698f8-7b29-4411-b528-ef42fbeb32f5\")) {\n",
       "                    Plotly.newPlot(\n",
       "                        '7ff698f8-7b29-4411-b528-ef42fbeb32f5',\n",
       "                        [{\"hovertemplate\": \"variable=fixing I course (PLN/MWh)_x<br>date_normalize_x=%{x}<br>value=%{y}<extra></extra>\", \"legendgroup\": \"fixing I course (PLN/MWh)_x\", \"line\": {\"color\": \"#636efa\", \"dash\": \"solid\"}, \"mode\": \"lines\", \"name\": \"fixing I course (PLN/MWh)_x\", \"orientation\": \"v\", \"showlegend\": true, \"type\": \"scatter\", \"x\": [\"2019-01-02\", \"2019-01-03\", \"2019-01-04\", \"2019-01-05\", \"2019-01-06\", \"2019-01-07\", \"2019-01-08\", \"2019-01-09\", \"2019-01-10\", \"2019-01-11\", \"2019-01-12\", \"2019-01-13\", \"2019-01-14\", \"2019-01-15\", \"2019-01-16\", \"2019-01-17\", \"2019-01-18\", \"2019-01-19\", \"2019-01-20\", \"2019-01-21\", \"2019-01-22\", \"2019-01-23\", \"2019-01-24\", \"2019-01-25\", \"2019-01-26\", \"2019-01-27\", \"2019-01-28\", \"2019-01-29\", \"2019-01-30\", \"2019-01-31\", \"2019-02-01\", \"2019-02-02\", \"2019-02-03\", \"2019-02-04\", \"2019-02-05\", \"2019-02-06\", \"2019-02-07\", \"2019-02-08\", \"2019-02-09\", \"2019-02-10\", \"2019-02-11\", \"2019-02-12\", \"2019-02-13\", \"2019-02-14\", \"2019-02-15\", \"2019-02-16\", \"2019-02-17\", \"2019-02-18\", \"2019-02-19\", \"2019-02-20\", \"2019-02-21\", \"2019-02-22\", \"2019-02-23\", \"2019-02-24\", \"2019-02-25\", \"2019-02-26\", \"2019-02-27\", \"2019-02-28\", \"2019-03-01\", \"2019-03-02\", \"2019-03-03\", \"2019-03-04\", \"2019-03-05\", \"2019-03-06\", \"2019-03-07\", \"2019-03-08\", \"2019-03-09\", \"2019-03-10\", \"2019-03-11\", \"2019-03-12\", \"2019-03-13\", \"2019-03-14\", \"2019-03-15\", \"2019-03-16\", \"2019-03-17\", \"2019-03-18\", \"2019-03-19\", \"2019-03-20\", \"2019-03-21\", \"2019-03-22\", \"2019-03-23\", \"2019-03-24\", \"2019-03-25\", \"2019-03-26\", \"2019-03-27\", \"2019-03-28\", \"2019-03-29\", \"2019-03-30\", \"2019-03-31\", \"2019-04-01\", \"2019-04-02\", \"2019-04-03\", \"2019-04-04\", \"2019-04-05\", \"2019-04-06\", \"2019-04-07\", \"2019-04-08\", \"2019-04-09\", \"2019-04-10\", \"2019-04-11\", \"2019-04-12\", \"2019-04-13\", \"2019-04-14\", \"2019-04-15\", \"2019-04-16\", \"2019-04-17\", \"2019-04-18\", \"2019-04-19\", \"2019-04-20\", \"2019-04-21\", \"2019-04-22\", \"2019-04-23\", \"2019-04-24\", \"2019-04-25\", \"2019-04-26\", \"2019-04-27\", \"2019-04-28\", \"2019-04-29\", \"2019-04-30\", \"2019-05-01\", \"2019-05-02\", \"2019-05-03\", \"2019-05-04\", \"2019-05-05\", \"2019-05-06\", \"2019-05-07\", \"2019-05-08\", \"2019-05-09\", \"2019-05-10\", \"2019-05-11\", \"2019-05-12\", \"2019-05-13\", \"2019-05-14\", \"2019-05-15\", \"2019-05-16\", \"2019-05-17\", \"2019-05-18\", \"2019-05-19\", \"2019-05-20\", \"2019-05-21\", \"2019-05-22\", \"2019-05-23\", \"2019-05-24\", \"2019-05-25\", \"2019-05-26\", \"2019-05-27\", \"2019-05-28\", \"2019-05-29\", \"2019-05-30\", \"2019-05-31\", \"2019-06-01\", \"2019-06-02\", \"2019-06-03\", \"2019-06-04\", \"2019-06-05\", \"2019-06-06\", \"2019-06-07\", \"2019-06-08\", \"2019-06-09\", \"2019-06-10\", \"2019-06-11\", \"2019-06-12\", \"2019-06-13\", \"2019-06-14\", \"2019-06-15\", \"2019-06-16\", \"2019-06-17\", \"2019-06-18\", \"2019-06-19\", \"2019-06-20\", \"2019-06-21\", \"2019-06-22\", \"2019-06-23\", \"2019-06-24\", \"2019-06-25\", \"2019-06-26\", \"2019-06-27\", \"2019-06-28\", \"2019-06-29\", \"2019-06-30\", \"2019-07-01\", \"2019-07-02\", \"2019-07-03\", \"2019-07-04\", \"2019-07-05\", \"2019-07-06\", \"2019-07-07\", \"2019-07-08\", \"2019-07-09\", \"2019-07-10\", \"2019-07-11\", \"2019-07-12\", \"2019-07-13\", \"2019-07-14\", \"2019-07-15\", \"2019-07-16\", \"2019-07-17\", \"2019-07-18\", \"2019-07-19\", \"2019-07-20\", \"2019-07-21\", \"2019-07-22\", \"2019-07-23\", \"2019-07-24\", \"2019-07-25\", \"2019-07-26\", \"2019-07-27\", \"2019-07-28\", \"2019-07-29\", \"2019-07-30\", \"2019-07-31\", \"2019-08-01\", \"2019-08-02\", \"2019-08-03\", \"2019-08-04\", \"2019-08-05\", \"2019-08-06\", \"2019-08-07\", \"2019-08-08\", \"2019-08-09\", \"2019-08-10\", \"2019-08-11\", \"2019-08-12\", \"2019-08-13\", \"2019-08-14\", \"2019-08-15\", \"2019-08-16\", \"2019-08-17\", \"2019-08-18\", \"2019-08-19\", \"2019-08-20\", \"2019-08-21\", \"2019-08-22\", \"2019-08-23\", \"2019-08-24\", \"2019-08-25\", \"2019-08-26\", \"2019-08-27\", \"2019-08-28\", \"2019-08-29\", \"2019-08-30\", \"2019-08-31\", \"2019-09-01\", \"2019-09-02\", \"2019-09-03\", \"2019-09-04\", \"2019-09-05\", \"2019-09-06\", \"2019-09-07\", \"2019-09-08\", \"2019-09-09\", \"2019-09-10\", \"2019-09-11\", \"2019-09-12\", \"2019-09-13\", \"2019-09-14\", \"2019-09-15\", \"2019-09-16\", \"2019-09-17\", \"2019-09-18\", \"2019-09-19\", \"2019-09-20\", \"2019-09-21\", \"2019-09-22\", \"2019-09-23\", \"2019-09-24\", \"2019-09-25\", \"2019-09-26\", \"2019-09-27\", \"2019-09-28\", \"2019-09-29\", \"2019-09-30\", \"2019-10-01\", \"2019-10-02\", \"2019-10-03\", \"2019-10-04\", \"2019-10-05\", \"2019-10-06\", \"2019-10-07\", \"2019-10-08\", \"2019-10-09\", \"2019-10-10\", \"2019-10-11\", \"2019-10-12\", \"2019-10-13\", \"2019-10-14\", \"2019-10-15\", \"2019-10-16\", \"2019-10-17\", \"2019-10-18\", \"2019-10-19\", \"2019-10-20\", \"2019-10-21\", \"2019-10-22\", \"2019-10-23\", \"2019-10-24\", \"2019-10-25\", \"2019-10-26\", \"2019-10-27\", \"2019-10-28\", \"2019-10-29\", \"2019-10-30\", \"2019-10-31\", \"2019-11-01\", \"2019-11-02\", \"2019-11-03\", \"2019-11-04\", \"2019-11-05\", \"2019-11-06\", \"2019-11-07\", \"2019-11-08\", \"2019-11-09\", \"2019-11-10\", \"2019-11-11\", \"2019-11-12\", \"2019-11-13\", \"2019-11-14\", \"2019-11-15\", \"2019-11-16\", \"2019-11-17\", \"2019-11-18\", \"2019-11-19\", \"2019-11-20\", \"2019-11-21\", \"2019-11-22\", \"2019-11-23\", \"2019-11-24\", \"2019-11-25\", \"2019-11-26\", \"2019-11-27\", \"2019-11-28\", \"2019-11-29\", \"2019-11-30\", \"2019-12-01\", \"2019-12-02\", \"2019-12-03\"], \"xaxis\": \"x\", \"y\": [162.57130434782607, 223.3770833333333, 242.02708333333328, 219.93291666666667, 213.27083333333337, 258.365, 234.1458333333333, 258.42916666666673, 288.7483333333334, 246.14374999999995, 217.46375, 172.66375000000002, 190.72500000000002, 229.45375, 233.58500000000004, 218.67500000000007, 255.72625000000002, 251.23791666666668, 237.1579166666667, 302.21791666666667, 289.8141666666666, 303.2608333333333, 336.12333333333333, 311.00875, 244.33458333333337, 186.75958333333332, 259.4945833333333, 264.4058333333333, 264.63708333333335, 265.5508333333333, 255.05166666666665, 226.53166666666664, 208.48125000000002, 242.90166666666673, 241.7441666666667, 244.88083333333327, 227.0995833333333, 224.94916666666668, 186.27124999999998, 146.14208333333332, 195.43499999999997, 219.22624999999996, 212.25041666666667, 232.97833333333332, 238.59124999999997, 208.36333333333326, 182.47041666666664, 239.14541666666665, 213.36999999999998, 199.90958333333336, 214.0029166666666, 228.8779166666667, 212.8233333333333, 170.69416666666666, 222.05499999999998, 213.85875, 214.71874999999997, 194.01708333333332, 230.09000000000003, 215.07624999999996, 165.68333333333337, 195.06833333333338, 190.91750000000002, 222.53041666666672, 203.17333333333332, 186.95583333333332, 173.82583333333335, 140.14333333333332, 207.88916666666668, 227.1329166666667, 202.04500000000004, 187.75541666666672, 195.96291666666664, 166.35958333333335, 150.2975, 182.82375, 219.6258333333333, 224.29833333333332, 225.44333333333327, 244.20791666666665, 210.9175, 173.35083333333333, 215.64041666666665, 200.15333333333334, 215.4125, 230.13, 210.39958333333334, 204.14416666666662, 156.4708695652174, 234.58916666666667, 194.5391666666667, 188.6208333333333, 203.23208333333332, 221.07541666666668, 202.53666666666663, 196.1425, 245.63625000000002, 245.62875000000008, 252.7341666666667, 250.82458333333338, 249.4816666666666, 226.25666666666658, 187.65791666666664, 228.21124999999998, 247.59249999999997, 268.4741666666667, 275.1358333333333, 255.71749999999997, 224.30333333333337, 183.6070833333333, 174.7520833333333, 182.06500000000003, 200.76833333333332, 246.97583333333333, 267.13166666666666, 249.25041666666664, 209.56458333333333, 242.65500000000006, 259.5708333333333, 215.49458333333328, 173.45875, 189.13125000000002, 246.495, 207.7454166666666, 255.89833333333334, 255.49333333333337, 252.11125, 250.84583333333333, 261.68958333333336, 238.92583333333332, 198.68083333333334, 241.96541666666667, 237.85875000000001, 236.3133333333333, 242.73999999999992, 272.7875, 249.42083333333335, 206.73749999999998, 248.80416666666667, 279.09125, 273.3958333333333, 250.42625, 268.14375, 231.06208333333333, 194.62916666666663, 233.28791666666666, 255.77249999999995, 253.65375000000003, 266.64666666666665, 260.7049999999999, 237.07124999999994, 212.1075, 247.00375, 273.63208333333336, 255.50708333333333, 240.67124999999996, 274.6333333333333, 233.43208333333328, 197.4841666666667, 222.89458333333332, 253.9858333333333, 272.1216666666666, 294.7183333333333, 312.4437500000001, 236.9770833333333, 184.7983333333333, 284.4004166666667, 311.45833333333337, 292.9704166666666, 226.38208333333333, 279.79416666666674, 240.06083333333333, 187.32583333333332, 259.2758333333333, 272.89708333333334, 286.69125, 232.2795833333333, 261.14583333333337, 238.38875, 195.58708333333334, 238.29208333333335, 229.97875, 232.36374999999995, 232.10833333333332, 213.44916666666668, 219.39166666666668, 129.90666666666667, 217.83958333333337, 220.42625, 233.10458333333338, 253.68208333333334, 264.8666666666666, 232.81583333333333, 181.58583333333334, 248.6425, 247.41083333333333, 235.69916666666666, 260.9975, 265.4308333333333, 254.64125000000004, 193.1741666666666, 235.94458333333338, 256.03541666666666, 272.31083333333333, 278.405, 266.27541666666673, 236.08708333333334, 200.92166666666665, 282.11875000000003, 300.2625, 288.81291666666664, 287.44458333333336, 271.9895833333333, 265.49375, 231.13041666666663, 285.00375, 284.24541666666664, 287.89875, 277.41541666666666, 278.14916666666664, 251.85791666666668, 223.27333333333334, 275.57916666666665, 280.14125, 278.9429166666667, 238.09583333333322, 257.1808333333333, 250.76250000000005, 212.09958333333336, 274.75166666666667, 283.3191666666667, 278.49916666666667, 295.1466666666667, 279.2075, 251.36958333333328, 214.47875, 268.3425, 277.15375, 278.1245833333333, 291.84999999999997, 305.2445833333333, 255.07416666666666, 215.77041666666665, 263.9133333333333, 266.2291666666667, 266.0779166666667, 259.5833333333333, 265.2741666666667, 258.10125, 220.4433333333333, 239.19291666666663, 228.62125000000003, 236.13458333333335, 239.40916666666666, 230.63833333333335, 230.5620833333334, 155.96291666666664, 215.15875000000003, 222.66041666666663, 232.50583333333336, 260.87916666666666, 267.9437499999999, 240.09041666666664, 214.62791666666666, 261.2295833333333, 273.7604166666667, 272.5545833333333, 289.91125, 280.67791666666665, 258.59458333333333, 205.42375000000004, 226.8379166666667, 233.80875000000003, 243.34416666666672, 246.34124999999997, 258.35291666666666, 220.14458333333334, 186.53416666666666, 243.0325, 228.91500000000005, 239.56125, 236.33624999999998, 214.2029166666667, 173.66416666666672, 182.87, 213.9608333333333, 232.71916666666672, 224.80083333333332, 234.07166666666663, 235.6341666666667, 225.7991666666667, 185.17041666666668, 245.00166666666664, 254.04916666666665, 260.5995833333333, 245.24041666666662, 242.95125, 213.11499999999998, 171.3045833333333, 254.13875, 263.71125, 270.05083333333334, 247.88249999999994, 164.99625, 162.76916666666668, 189.91291666666666, 235.1, 241.76458333333338, 257.9066666666667, 245.1629166666667, 232.50125000000003, 210.81250000000003, 194.34124999999997, 197.35833333333335, 217.56875000000002, 235.38291666666666, 233.21833333333333, 212.59125000000003, 211.81291666666664, 188.69458333333333, 217.1591666666666, 220.52125, 241.27833333333334, 219.69125, 212.20208333333326, 190.60958333333338, 175.07375, 229.205, 231.1866666666667, 250.67916666666667, 223.73, 204.92166666666665, 227.4704166666667, 197.64000000000001, 227.58416666666665, 228.02666666666664], \"yaxis\": \"y\"}, {\"hovertemplate\": \"variable=fixing I course (PLN/MWh)_y<br>date_normalize_x=%{x}<br>value=%{y}<extra></extra>\", \"legendgroup\": \"fixing I course (PLN/MWh)_y\", \"line\": {\"color\": \"#EF553B\", \"dash\": \"solid\"}, \"mode\": \"lines\", \"name\": \"fixing I course (PLN/MWh)_y\", \"orientation\": \"v\", \"showlegend\": true, \"type\": \"scatter\", \"x\": [\"2019-01-02\", \"2019-01-03\", \"2019-01-04\", \"2019-01-05\", \"2019-01-06\", \"2019-01-07\", \"2019-01-08\", \"2019-01-09\", \"2019-01-10\", \"2019-01-11\", \"2019-01-12\", \"2019-01-13\", \"2019-01-14\", \"2019-01-15\", \"2019-01-16\", \"2019-01-17\", \"2019-01-18\", \"2019-01-19\", \"2019-01-20\", \"2019-01-21\", \"2019-01-22\", \"2019-01-23\", \"2019-01-24\", \"2019-01-25\", \"2019-01-26\", \"2019-01-27\", \"2019-01-28\", \"2019-01-29\", \"2019-01-30\", \"2019-01-31\", \"2019-02-01\", \"2019-02-02\", \"2019-02-03\", \"2019-02-04\", \"2019-02-05\", \"2019-02-06\", \"2019-02-07\", \"2019-02-08\", \"2019-02-09\", \"2019-02-10\", \"2019-02-11\", \"2019-02-12\", \"2019-02-13\", \"2019-02-14\", \"2019-02-15\", \"2019-02-16\", \"2019-02-17\", \"2019-02-18\", \"2019-02-19\", \"2019-02-20\", \"2019-02-21\", \"2019-02-22\", \"2019-02-23\", \"2019-02-24\", \"2019-02-25\", \"2019-02-26\", \"2019-02-27\", \"2019-02-28\", \"2019-03-01\", \"2019-03-02\", \"2019-03-03\", \"2019-03-04\", \"2019-03-05\", \"2019-03-06\", \"2019-03-07\", \"2019-03-08\", \"2019-03-09\", \"2019-03-10\", \"2019-03-11\", \"2019-03-12\", \"2019-03-13\", \"2019-03-14\", \"2019-03-15\", \"2019-03-16\", \"2019-03-17\", \"2019-03-18\", \"2019-03-19\", \"2019-03-20\", \"2019-03-21\", \"2019-03-22\", \"2019-03-23\", \"2019-03-24\", \"2019-03-25\", \"2019-03-26\", \"2019-03-27\", \"2019-03-28\", \"2019-03-29\", \"2019-03-30\", \"2019-03-31\", \"2019-04-01\", \"2019-04-02\", \"2019-04-03\", \"2019-04-04\", \"2019-04-05\", \"2019-04-06\", \"2019-04-07\", \"2019-04-08\", \"2019-04-09\", \"2019-04-10\", \"2019-04-11\", \"2019-04-12\", \"2019-04-13\", \"2019-04-14\", \"2019-04-15\", \"2019-04-16\", \"2019-04-17\", \"2019-04-18\", \"2019-04-19\", \"2019-04-20\", \"2019-04-21\", \"2019-04-22\", \"2019-04-23\", \"2019-04-24\", \"2019-04-25\", \"2019-04-26\", \"2019-04-27\", \"2019-04-28\", \"2019-04-29\", \"2019-04-30\", \"2019-05-01\", \"2019-05-02\", \"2019-05-03\", \"2019-05-04\", \"2019-05-05\", \"2019-05-06\", \"2019-05-07\", \"2019-05-08\", \"2019-05-09\", \"2019-05-10\", \"2019-05-11\", \"2019-05-12\", \"2019-05-13\", \"2019-05-14\", \"2019-05-15\", \"2019-05-16\", \"2019-05-17\", \"2019-05-18\", \"2019-05-19\", \"2019-05-20\", \"2019-05-21\", \"2019-05-22\", \"2019-05-23\", \"2019-05-24\", \"2019-05-25\", \"2019-05-26\", \"2019-05-27\", \"2019-05-28\", \"2019-05-29\", \"2019-05-30\", \"2019-05-31\", \"2019-06-01\", \"2019-06-02\", \"2019-06-03\", \"2019-06-04\", \"2019-06-05\", \"2019-06-06\", \"2019-06-07\", \"2019-06-08\", \"2019-06-09\", \"2019-06-10\", \"2019-06-11\", \"2019-06-12\", \"2019-06-13\", \"2019-06-14\", \"2019-06-15\", \"2019-06-16\", \"2019-06-17\", \"2019-06-18\", \"2019-06-19\", \"2019-06-20\", \"2019-06-21\", \"2019-06-22\", \"2019-06-23\", \"2019-06-24\", \"2019-06-25\", \"2019-06-26\", \"2019-06-27\", \"2019-06-28\", \"2019-06-29\", \"2019-06-30\", \"2019-07-01\", \"2019-07-02\", \"2019-07-03\", \"2019-07-04\", \"2019-07-05\", \"2019-07-06\", \"2019-07-07\", \"2019-07-08\", \"2019-07-09\", \"2019-07-10\", \"2019-07-11\", \"2019-07-12\", \"2019-07-13\", \"2019-07-14\", \"2019-07-15\", \"2019-07-16\", \"2019-07-17\", \"2019-07-18\", \"2019-07-19\", \"2019-07-20\", \"2019-07-21\", \"2019-07-22\", \"2019-07-23\", \"2019-07-24\", \"2019-07-25\", \"2019-07-26\", \"2019-07-27\", \"2019-07-28\", \"2019-07-29\", \"2019-07-30\", \"2019-07-31\", \"2019-08-01\", \"2019-08-02\", \"2019-08-03\", \"2019-08-04\", \"2019-08-05\", \"2019-08-06\", \"2019-08-07\", \"2019-08-08\", \"2019-08-09\", \"2019-08-10\", \"2019-08-11\", \"2019-08-12\", \"2019-08-13\", \"2019-08-14\", \"2019-08-15\", \"2019-08-16\", \"2019-08-17\", \"2019-08-18\", \"2019-08-19\", \"2019-08-20\", \"2019-08-21\", \"2019-08-22\", \"2019-08-23\", \"2019-08-24\", \"2019-08-25\", \"2019-08-26\", \"2019-08-27\", \"2019-08-28\", \"2019-08-29\", \"2019-08-30\", \"2019-08-31\", \"2019-09-01\", \"2019-09-02\", \"2019-09-03\", \"2019-09-04\", \"2019-09-05\", \"2019-09-06\", \"2019-09-07\", \"2019-09-08\", \"2019-09-09\", \"2019-09-10\", \"2019-09-11\", \"2019-09-12\", \"2019-09-13\", \"2019-09-14\", \"2019-09-15\", \"2019-09-16\", \"2019-09-17\", \"2019-09-18\", \"2019-09-19\", \"2019-09-20\", \"2019-09-21\", \"2019-09-22\", \"2019-09-23\", \"2019-09-24\", \"2019-09-25\", \"2019-09-26\", \"2019-09-27\", \"2019-09-28\", \"2019-09-29\", \"2019-09-30\", \"2019-10-01\", \"2019-10-02\", \"2019-10-03\", \"2019-10-04\", \"2019-10-05\", \"2019-10-06\", \"2019-10-07\", \"2019-10-08\", \"2019-10-09\", \"2019-10-10\", \"2019-10-11\", \"2019-10-12\", \"2019-10-13\", \"2019-10-14\", \"2019-10-15\", \"2019-10-16\", \"2019-10-17\", \"2019-10-18\", \"2019-10-19\", \"2019-10-20\", \"2019-10-21\", \"2019-10-22\", \"2019-10-23\", \"2019-10-24\", \"2019-10-25\", \"2019-10-26\", \"2019-10-27\", \"2019-10-28\", \"2019-10-29\", \"2019-10-30\", \"2019-10-31\", \"2019-11-01\", \"2019-11-02\", \"2019-11-03\", \"2019-11-04\", \"2019-11-05\", \"2019-11-06\", \"2019-11-07\", \"2019-11-08\", \"2019-11-09\", \"2019-11-10\", \"2019-11-11\", \"2019-11-12\", \"2019-11-13\", \"2019-11-14\", \"2019-11-15\", \"2019-11-16\", \"2019-11-17\", \"2019-11-18\", \"2019-11-19\", \"2019-11-20\", \"2019-11-21\", \"2019-11-22\", \"2019-11-23\", \"2019-11-24\", \"2019-11-25\", \"2019-11-26\", \"2019-11-27\", \"2019-11-28\", \"2019-11-29\", \"2019-11-30\", \"2019-12-01\", \"2019-12-02\", \"2019-12-03\"], \"xaxis\": \"x\", \"y\": [166.0679166666667, 161.2804166666667, 144.31833333333333, 150.32625000000002, 170.45625, 207.52958333333333, 195.79833333333332, 210.92333333333332, 198.14166666666668, 210.42125, 127.37000000000002, 204.62458333333336, 209.26166666666666, 178.26708333333332, 212.21083333333334, 207.3216666666667, 200.84875, 183.82541666666668, 226.6670833333333, 191.72333333333327, 195.4754166666667, 223.09374999999997, 213.06125, 194.55083333333334, 174.9725, 222.32708333333335, 210.18374999999995, 195.90208333333337, 201.6266666666667, 190.21041666666665, 182.2854166666667, 121.01124999999998, 214.62708333333333, 206.33416666666668, 197.00625000000002, 176.97458333333336, 218.9366666666667, 210.10875000000001, 124.84166666666663, 170.0516666666667, 189.80291666666673, 176.27999999999997, 208.81250000000003, 242.04916666666668, 188.76833333333332, 96.05375, 151.26541666666665, 164.30958333333334, 180.05875, 204.81916666666666, 157.91166666666666, 128.85916666666662, 123.02708333333335, 177.79416666666665, 182.47958333333338, 198.65833333333333, 203.44250000000002, 194.13333333333335, 134.3370833333333, 125.33583333333333, 215.92125, 210.99458333333334, 210.5475, 223.09791666666663, 182.78499999999997, 185.57833333333335, 166.11875, 230.9395833333333, 220.76208333333332, 182.94375, 158.64291666666668, 137.63208333333333, 173.14749999999995, 105.73041666666667, 160.81416666666667, 190.87541666666667, 175.77958333333333, 185.6570833333333, 172.9075, 120.67458333333332, 101.57708333333333, 148.47083333333336, 149.94375, 150.51416666666668, 150.64208333333335, 155.1791666666667, 158.15083333333334, 81.38, 145.57750000000001, 158.94708333333332, 138.04541666666665, 131.39499999999998, 116.96624999999999, 147.40083333333334, 127.37624999999998, 151.76791666666665, 162.48041666666666, 173.36791666666662, 160.23208333333332, 165.06375, 173.5120833333334, 115.14333333333332, 95.95833333333333, 144.74791666666667, 139.13583333333332, 134.48333333333332, 158.01999999999995, 162.66041666666663, 123.82708333333333, 151.06541666666666, 161.68166666666667, 167.57583333333335, 176.5245833333333, 162.80458333333334, 160.2804166666667, 162.23166666666668, 190.1341666666666, 171.89374999999998, 168.51375, 156.94125, 136.82708333333332, 164.08333333333331, 144.19750000000002, 189.05416666666667, 179.3516666666667, 158.85791666666665, 176.0370833333333, 179.80916666666667, 178.3508333333333, 157.3929166666667, 170.2254166666667, 171.9183333333333, 184.03291666666664, 187.84375, 187.37583333333336, 158.2408333333333, 81.60333333333334, 157.60708333333335, 180.96541666666667, 195.69291666666666, 196.48000000000002, 191.45083333333332, 175.48458333333335, 154.96874999999997, 193.83291666666665, 197.54375000000005, 200.83499999999995, 201.24791666666667, 187.46583333333334, 168.36583333333337, 130.81333333333333, 191.59124999999997, 206.01458333333338, 199.29125, 203.95666666666668, 195.62958333333336, 173.33000000000004, 176.58708333333334, 222.87041666666664, 218.39666666666665, 215.28916666666666, 196.96624999999997, 208.42708333333337, 202.97874999999996, 173.92624999999998, 222.2320833333333, 231.07000000000002, 223.595, 223.63749999999993, 240.17999999999998, 225.50291666666672, 197.84125000000003, 232.1283333333333, 259.7058333333334, 244.53166666666667, 246.2129166666667, 255.2295833333333, 234.47208333333336, 206.12000000000003, 256.1020833333334, 234.53, 232.02416666666662, 236.4879166666667, 244.78916666666672, 218.60458333333335, 184.9620833333333, 215.71166666666667, 220.84208333333336, 228.6866666666667, 242.34375, 230.1883333333333, 215.1533333333334, 194.50083333333336, 228.0545833333333, 237.1291666666667, 234.44791666666663, 226.20208333333332, 229.3941666666667, 226.43125, 191.89166666666668, 234.19583333333335, 225.61041666666665, 217.9708333333333, 227.1941666666667, 238.4958333333334, 223.165, 184.16291666666663, 245.02916666666673, 219.48000000000002, 214.81875, 216.24666666666675, 213.45916666666662, 221.17125000000001, 190.34749999999997, 237.59041666666667, 218.80958333333334, 224.78625, 237.7279166666667, 236.27958333333333, 241.68708333333333, 219.24666666666667, 246.61333333333332, 245.8541666666667, 246.29791666666665, 237.51250000000005, 228.13666666666666, 186.5525, 188.8145833333333, 242.03874999999996, 249.6554166666666, 262.39666666666665, 257.0083333333334, 256.6504166666667, 237.63125, 187.7416666666666, 229.9354166666667, 240.98791666666668, 223.82625000000007, 230.1058333333333, 247.99333333333334, 232.68041666666667, 205.10041666666666, 259.7275, 267.42041666666665, 253.34875000000008, 236.9395833333333, 237.1979166666667, 228.91083333333336, 205.36875, 241.93583333333336, 223.2125, 226.53375000000003, 238.45541666666665, 249.42625, 228.04875, 195.01999999999995, 244.76166666666668, 279.0945833333333, 270.43666666666667, 242.85208333333335, 264.6991666666667, 239.93166666666664, 203.92083333333332, 283.17083333333335, 271.34583333333336, 248.72583333333333, 257.42333333333335, 246.76458333333332, 210.5520833333333, 186.03750000000002, 276.53375, 277.87250000000006, 249.75416666666663, 264.78916666666663, 269.74999999999994, 193.66625, 175.4708333333333, 256.6095833333333, 232.39458333333332, 289.175, 261.34208333333333, 248.03499999999997, 230.6575, 215.58291666666665, 248.20125, 251.28166666666667, 204.13041666666666, 256.04374999999993, 273.74500000000006, 246.0695833333333, 187.19625000000005, 256.1720833333333, 261.9183333333333, 236.4054166666666, 214.6875, 252.77833333333334, 242.405, 202.57583333333335, 247.10750000000004, 248.70583333333335, 244.9070833333333, 233.40166666666667, 251.43708333333336, 246.27125, 180.01624999999999, 215.21791666666664, 269.37041666666664, 261.08375000000007, 249.04625, 270.53458333333333, 254.54875000000004, 231.5020833333334, 265.2720833333333, 271.1504166666667, 233.23875, 277.34416666666664, 266.6875, 249.63458333333332, 211.39458333333334, 237.9054166666666, 254.69375, 241.76333333333335, 207.5595833333333, 222.52999999999997, 221.99375, 153.1825, 212.22041666666667, 242.69583333333335, 274.8308333333333, 273.53125000000006, 287.12333333333333, 260.3241666666667, 224.58666666666662, 293.3058333333334, 290.6791666666667, 234.42], \"yaxis\": \"y\"}],\n",
       "                        {\"bargap\": 0.15, \"bargroupgap\": 0.1, \"barmode\": \"group\", \"legend\": {\"bgcolor\": \"rgba(255, 255, 255, 0)\", \"bordercolor\": \"rgba(255, 255, 255, 0)\", \"title\": {\"text\": \"\"}, \"tracegroupgap\": 0, \"x\": 0, \"y\": 1.0}, \"plot_bgcolor\": \"white\", \"template\": {\"data\": {\"bar\": [{\"error_x\": {\"color\": \"#2a3f5f\"}, \"error_y\": {\"color\": \"#2a3f5f\"}, \"marker\": {\"line\": {\"color\": \"#E5ECF6\", \"width\": 0.5}}, \"type\": \"bar\"}], \"barpolar\": [{\"marker\": {\"line\": {\"color\": \"#E5ECF6\", \"width\": 0.5}}, \"type\": \"barpolar\"}], \"carpet\": [{\"aaxis\": {\"endlinecolor\": \"#2a3f5f\", \"gridcolor\": \"white\", \"linecolor\": \"white\", \"minorgridcolor\": \"white\", \"startlinecolor\": \"#2a3f5f\"}, \"baxis\": {\"endlinecolor\": \"#2a3f5f\", \"gridcolor\": \"white\", \"linecolor\": \"white\", \"minorgridcolor\": \"white\", \"startlinecolor\": \"#2a3f5f\"}, \"type\": \"carpet\"}], \"choropleth\": [{\"colorbar\": {\"outlinewidth\": 0, \"ticks\": \"\"}, \"type\": \"choropleth\"}], \"contour\": [{\"colorbar\": {\"outlinewidth\": 0, \"ticks\": \"\"}, \"colorscale\": [[0.0, \"#0d0887\"], [0.1111111111111111, \"#46039f\"], [0.2222222222222222, \"#7201a8\"], [0.3333333333333333, \"#9c179e\"], [0.4444444444444444, \"#bd3786\"], [0.5555555555555556, \"#d8576b\"], [0.6666666666666666, \"#ed7953\"], [0.7777777777777778, \"#fb9f3a\"], [0.8888888888888888, \"#fdca26\"], [1.0, \"#f0f921\"]], \"type\": \"contour\"}], \"contourcarpet\": [{\"colorbar\": {\"outlinewidth\": 0, \"ticks\": \"\"}, \"type\": \"contourcarpet\"}], \"heatmap\": [{\"colorbar\": {\"outlinewidth\": 0, \"ticks\": \"\"}, \"colorscale\": [[0.0, \"#0d0887\"], [0.1111111111111111, \"#46039f\"], [0.2222222222222222, \"#7201a8\"], [0.3333333333333333, \"#9c179e\"], [0.4444444444444444, \"#bd3786\"], [0.5555555555555556, \"#d8576b\"], [0.6666666666666666, \"#ed7953\"], [0.7777777777777778, \"#fb9f3a\"], [0.8888888888888888, \"#fdca26\"], [1.0, \"#f0f921\"]], \"type\": \"heatmap\"}], \"heatmapgl\": [{\"colorbar\": {\"outlinewidth\": 0, \"ticks\": \"\"}, \"colorscale\": [[0.0, \"#0d0887\"], [0.1111111111111111, \"#46039f\"], [0.2222222222222222, \"#7201a8\"], [0.3333333333333333, \"#9c179e\"], [0.4444444444444444, \"#bd3786\"], [0.5555555555555556, \"#d8576b\"], [0.6666666666666666, \"#ed7953\"], [0.7777777777777778, \"#fb9f3a\"], [0.8888888888888888, \"#fdca26\"], [1.0, \"#f0f921\"]], \"type\": \"heatmapgl\"}], \"histogram\": [{\"marker\": {\"colorbar\": {\"outlinewidth\": 0, \"ticks\": \"\"}}, \"type\": \"histogram\"}], \"histogram2d\": [{\"colorbar\": {\"outlinewidth\": 0, \"ticks\": \"\"}, \"colorscale\": [[0.0, \"#0d0887\"], [0.1111111111111111, \"#46039f\"], [0.2222222222222222, \"#7201a8\"], [0.3333333333333333, \"#9c179e\"], [0.4444444444444444, \"#bd3786\"], [0.5555555555555556, \"#d8576b\"], [0.6666666666666666, \"#ed7953\"], [0.7777777777777778, \"#fb9f3a\"], [0.8888888888888888, \"#fdca26\"], [1.0, \"#f0f921\"]], \"type\": \"histogram2d\"}], \"histogram2dcontour\": [{\"colorbar\": {\"outlinewidth\": 0, \"ticks\": \"\"}, \"colorscale\": [[0.0, \"#0d0887\"], [0.1111111111111111, \"#46039f\"], [0.2222222222222222, \"#7201a8\"], [0.3333333333333333, \"#9c179e\"], [0.4444444444444444, \"#bd3786\"], [0.5555555555555556, \"#d8576b\"], [0.6666666666666666, \"#ed7953\"], [0.7777777777777778, \"#fb9f3a\"], [0.8888888888888888, \"#fdca26\"], [1.0, \"#f0f921\"]], \"type\": \"histogram2dcontour\"}], \"mesh3d\": [{\"colorbar\": {\"outlinewidth\": 0, \"ticks\": \"\"}, \"type\": \"mesh3d\"}], \"parcoords\": [{\"line\": {\"colorbar\": {\"outlinewidth\": 0, \"ticks\": \"\"}}, \"type\": \"parcoords\"}], \"pie\": [{\"automargin\": true, \"type\": \"pie\"}], \"scatter\": [{\"marker\": {\"colorbar\": {\"outlinewidth\": 0, \"ticks\": \"\"}}, \"type\": \"scatter\"}], \"scatter3d\": [{\"line\": {\"colorbar\": {\"outlinewidth\": 0, \"ticks\": \"\"}}, \"marker\": {\"colorbar\": {\"outlinewidth\": 0, \"ticks\": \"\"}}, \"type\": \"scatter3d\"}], \"scattercarpet\": [{\"marker\": {\"colorbar\": {\"outlinewidth\": 0, \"ticks\": \"\"}}, \"type\": \"scattercarpet\"}], \"scattergeo\": [{\"marker\": {\"colorbar\": {\"outlinewidth\": 0, \"ticks\": \"\"}}, \"type\": \"scattergeo\"}], \"scattergl\": [{\"marker\": {\"colorbar\": {\"outlinewidth\": 0, \"ticks\": \"\"}}, \"type\": \"scattergl\"}], \"scattermapbox\": [{\"marker\": {\"colorbar\": {\"outlinewidth\": 0, \"ticks\": \"\"}}, \"type\": \"scattermapbox\"}], \"scatterpolar\": [{\"marker\": {\"colorbar\": {\"outlinewidth\": 0, \"ticks\": \"\"}}, \"type\": \"scatterpolar\"}], \"scatterpolargl\": [{\"marker\": {\"colorbar\": {\"outlinewidth\": 0, \"ticks\": \"\"}}, \"type\": \"scatterpolargl\"}], \"scatterternary\": [{\"marker\": {\"colorbar\": {\"outlinewidth\": 0, \"ticks\": \"\"}}, \"type\": \"scatterternary\"}], \"surface\": [{\"colorbar\": {\"outlinewidth\": 0, \"ticks\": \"\"}, \"colorscale\": [[0.0, \"#0d0887\"], [0.1111111111111111, \"#46039f\"], [0.2222222222222222, \"#7201a8\"], [0.3333333333333333, \"#9c179e\"], [0.4444444444444444, \"#bd3786\"], [0.5555555555555556, \"#d8576b\"], [0.6666666666666666, \"#ed7953\"], [0.7777777777777778, \"#fb9f3a\"], [0.8888888888888888, \"#fdca26\"], [1.0, \"#f0f921\"]], \"type\": \"surface\"}], \"table\": [{\"cells\": {\"fill\": {\"color\": \"#EBF0F8\"}, \"line\": {\"color\": \"white\"}}, \"header\": {\"fill\": {\"color\": \"#C8D4E3\"}, \"line\": {\"color\": \"white\"}}, \"type\": \"table\"}]}, \"layout\": {\"annotationdefaults\": {\"arrowcolor\": \"#2a3f5f\", \"arrowhead\": 0, \"arrowwidth\": 1}, \"coloraxis\": {\"colorbar\": {\"outlinewidth\": 0, \"ticks\": \"\"}}, \"colorscale\": {\"diverging\": [[0, \"#8e0152\"], [0.1, \"#c51b7d\"], [0.2, \"#de77ae\"], [0.3, \"#f1b6da\"], [0.4, \"#fde0ef\"], [0.5, \"#f7f7f7\"], [0.6, \"#e6f5d0\"], [0.7, \"#b8e186\"], [0.8, \"#7fbc41\"], [0.9, \"#4d9221\"], [1, \"#276419\"]], \"sequential\": [[0.0, \"#0d0887\"], [0.1111111111111111, \"#46039f\"], [0.2222222222222222, \"#7201a8\"], [0.3333333333333333, \"#9c179e\"], [0.4444444444444444, \"#bd3786\"], [0.5555555555555556, \"#d8576b\"], [0.6666666666666666, \"#ed7953\"], [0.7777777777777778, \"#fb9f3a\"], [0.8888888888888888, \"#fdca26\"], [1.0, \"#f0f921\"]], \"sequentialminus\": [[0.0, \"#0d0887\"], [0.1111111111111111, \"#46039f\"], [0.2222222222222222, \"#7201a8\"], [0.3333333333333333, \"#9c179e\"], [0.4444444444444444, \"#bd3786\"], [0.5555555555555556, \"#d8576b\"], [0.6666666666666666, \"#ed7953\"], [0.7777777777777778, \"#fb9f3a\"], [0.8888888888888888, \"#fdca26\"], [1.0, \"#f0f921\"]]}, \"colorway\": [\"#636efa\", \"#EF553B\", \"#00cc96\", \"#ab63fa\", \"#FFA15A\", \"#19d3f3\", \"#FF6692\", \"#B6E880\", \"#FF97FF\", \"#FECB52\"], \"font\": {\"color\": \"#2a3f5f\"}, \"geo\": {\"bgcolor\": \"white\", \"lakecolor\": \"white\", \"landcolor\": \"#E5ECF6\", \"showlakes\": true, \"showland\": true, \"subunitcolor\": \"white\"}, \"hoverlabel\": {\"align\": \"left\"}, \"hovermode\": \"closest\", \"mapbox\": {\"style\": \"light\"}, \"paper_bgcolor\": \"white\", \"plot_bgcolor\": \"#E5ECF6\", \"polar\": {\"angularaxis\": {\"gridcolor\": \"white\", \"linecolor\": \"white\", \"ticks\": \"\"}, \"bgcolor\": \"#E5ECF6\", \"radialaxis\": {\"gridcolor\": \"white\", \"linecolor\": \"white\", \"ticks\": \"\"}}, \"scene\": {\"xaxis\": {\"backgroundcolor\": \"#E5ECF6\", \"gridcolor\": \"white\", \"gridwidth\": 2, \"linecolor\": \"white\", \"showbackground\": true, \"ticks\": \"\", \"zerolinecolor\": \"white\"}, \"yaxis\": {\"backgroundcolor\": \"#E5ECF6\", \"gridcolor\": \"white\", \"gridwidth\": 2, \"linecolor\": \"white\", \"showbackground\": true, \"ticks\": \"\", \"zerolinecolor\": \"white\"}, \"zaxis\": {\"backgroundcolor\": \"#E5ECF6\", \"gridcolor\": \"white\", \"gridwidth\": 2, \"linecolor\": \"white\", \"showbackground\": true, \"ticks\": \"\", \"zerolinecolor\": \"white\"}}, \"shapedefaults\": {\"line\": {\"color\": \"#2a3f5f\"}}, \"ternary\": {\"aaxis\": {\"gridcolor\": \"white\", \"linecolor\": \"white\", \"ticks\": \"\"}, \"baxis\": {\"gridcolor\": \"white\", \"linecolor\": \"white\", \"ticks\": \"\"}, \"bgcolor\": \"#E5ECF6\", \"caxis\": {\"gridcolor\": \"white\", \"linecolor\": \"white\", \"ticks\": \"\"}}, \"title\": {\"x\": 0.05}, \"xaxis\": {\"automargin\": true, \"gridcolor\": \"white\", \"linecolor\": \"white\", \"ticks\": \"\", \"title\": {\"standoff\": 15}, \"zerolinecolor\": \"white\", \"zerolinewidth\": 2}, \"yaxis\": {\"automargin\": true, \"gridcolor\": \"white\", \"linecolor\": \"white\", \"ticks\": \"\", \"title\": {\"standoff\": 15}, \"zerolinecolor\": \"white\", \"zerolinewidth\": 2}}}, \"title\": {\"text\": \"custom tick labels\"}, \"xaxis\": {\"anchor\": \"y\", \"domain\": [0.0, 1.0], \"dtick\": \"M1\", \"linecolor\": \"black\", \"linewidth\": 1, \"mirror\": true, \"showline\": true, \"tickangle\": 45, \"tickfont\": {\"size\": 10}, \"tickformat\": \"%b\\n\", \"ticks\": \"outside\", \"tickwidth\": 0.8, \"title\": {\"text\": \"Month\"}}, \"yaxis\": {\"anchor\": \"x\", \"domain\": [0.0, 1.0], \"gridcolor\": \"rgba(238, 238, 238, 1)\", \"linecolor\": \"black\", \"linewidth\": 1, \"mirror\": true, \"range\": [0, 400], \"showline\": true, \"tickfont\": {\"size\": 10}, \"ticklen\": 5, \"ticks\": \"outside\", \"tickwidth\": 0.8, \"title\": {\"font\": {\"size\": 14}, \"text\": \"Kurs I fixng PLN/MWh\"}}},\n",
       "                        {\"responsive\": true}\n",
       "                    ).then(function(){\n",
       "                            \n",
       "var gd = document.getElementById('7ff698f8-7b29-4411-b528-ef42fbeb32f5');\n",
       "var x = new MutationObserver(function (mutations, observer) {{\n",
       "        var display = window.getComputedStyle(gd).display;\n",
       "        if (!display || display === 'none') {{\n",
       "            console.log([gd, 'removed!']);\n",
       "            Plotly.purge(gd);\n",
       "            observer.disconnect();\n",
       "        }}\n",
       "}});\n",
       "\n",
       "// Listen for the removal of the full notebook cells\n",
       "var notebookContainer = gd.closest('#notebook-container');\n",
       "if (notebookContainer) {{\n",
       "    x.observe(notebookContainer, {childList: true});\n",
       "}}\n",
       "\n",
       "// Listen for the clearing of the current output cell\n",
       "var outputEl = gd.closest('.output');\n",
       "if (outputEl) {{\n",
       "    x.observe(outputEl, {childList: true});\n",
       "}}\n",
       "\n",
       "                        })\n",
       "                };\n",
       "                });\n",
       "            </script>\n",
       "        </div>"
      ]
     },
     "metadata": {},
     "output_type": "display_data"
    }
   ],
   "source": [
    "fig = px.line(df_daily, x=\"date_normalize_x\", y=df_daily.columns,\n",
    "           #  hover_data={\"date_normalize_x\": \"%e. %b w\"},\n",
    "              title='custom tick labels')\n",
    "fig.update_xaxes(\n",
    "#    tick0 = 'M3',\n",
    "    dtick=\"M1\",\n",
    "    tickformat=\"%b\\n\",\n",
    "    ticks=\"outside\",\n",
    "        tickwidth=0.8,\n",
    "        tickangle=45,\n",
    "        tickfont_size=10,\n",
    ")\n",
    "\n",
    "\n",
    "fig.update_layout(\n",
    "      \n",
    "    yaxis=dict(\n",
    "        title='Kurs I fixng PLN/MWh',\n",
    "        titlefont_size=14,\n",
    "        tickfont_size=10,\n",
    "        ticklen=5,\n",
    "        ticks=\"outside\",\n",
    "        tickwidth=0.8,\n",
    "        \n",
    "        \n",
    "    ),\n",
    "    plot_bgcolor='white',\n",
    "    legend=dict(\n",
    "        x=0,\n",
    "        y=1.0,\n",
    "        bgcolor='rgba(255, 255, 255, 0)',\n",
    "        bordercolor='rgba(255, 255, 255, 0)',\n",
    "        title=''\n",
    "    ),\n",
    "    barmode='group',\n",
    "    bargap=0.15, # gap between bars of adjacent location coordinates.\n",
    "    bargroupgap=0.1, # gap between bars of the same location coordinate.\n",
    "    \n",
    "     \n",
    ")\n",
    "fig.update_yaxes(range=[0, 400], showline=True, linewidth=1, linecolor='black',\n",
    "                 mirror=True, gridcolor='rgba(238, 238, 238, 1)',\n",
    "                )\n",
    "fig.update_xaxes(showline=True, title='Month',\n",
    "                linewidth=1, linecolor='black', mirror=True)\n",
    "\n",
    "\n",
    "\n",
    "\n",
    "fig.show()"
   ]
  },
  {
   "cell_type": "code",
   "execution_count": null,
   "metadata": {},
   "outputs": [],
   "source": [
    "A[0] = 9  A[1] = 3  A[3] = 3  A[4] = 9 \n",
    "A[6] = 9  A[2] = 9  A[5] = 7"
   ]
  },
  {
   "cell_type": "code",
   "execution_count": 110,
   "metadata": {},
   "outputs": [],
   "source": [
    "lista = [9,9,3,9,3,7,9]\n",
    "\n",
    "tuples = tuple(lista)"
   ]
  },
  {
   "cell_type": "code",
   "execution_count": 119,
   "metadata": {},
   "outputs": [
    {
     "data": {
      "text/plain": [
       "1"
      ]
     },
     "execution_count": 119,
     "metadata": {},
     "output_type": "execute_result"
    }
   ],
   "source": [
    "tuples.count(3)"
   ]
  },
  {
   "cell_type": "code",
   "execution_count": 36,
   "metadata": {},
   "outputs": [],
   "source": [
    "tupl = tuple([9,9,3,9,3,7,9])\n",
    "tuples = sorted(tupl)"
   ]
  },
  {
   "cell_type": "code",
   "execution_count": 37,
   "metadata": {},
   "outputs": [
    {
     "data": {
      "text/plain": [
       "[3, 3, 7, 9, 9, 9, 9]"
      ]
     },
     "execution_count": 37,
     "metadata": {},
     "output_type": "execute_result"
    }
   ],
   "source": [
    "tuples"
   ]
  },
  {
   "cell_type": "code",
   "execution_count": 43,
   "metadata": {},
   "outputs": [],
   "source": [
    "lista = [9,9,3,9,3,7,9]\n",
    "solution(lista)"
   ]
  },
  {
   "cell_type": "code",
   "execution_count": 45,
   "metadata": {},
   "outputs": [],
   "source": [
    "tuples = [9,9,3,9,3,7,9]"
   ]
  },
  {
   "cell_type": "code",
   "execution_count": 48,
   "metadata": {},
   "outputs": [],
   "source": [
    "lista = [i for i in tuples if  tuples.count(i) % 2 == 1]"
   ]
  },
  {
   "cell_type": "code",
   "execution_count": 49,
   "metadata": {},
   "outputs": [
    {
     "data": {
      "text/plain": [
       "[7]"
      ]
     },
     "execution_count": 49,
     "metadata": {},
     "output_type": "execute_result"
    }
   ],
   "source": [
    "lista"
   ]
  },
  {
   "cell_type": "code",
   "execution_count": 66,
   "metadata": {},
   "outputs": [],
   "source": [
    "def solution(A):\n",
    "    if len(A) % 2 != 0 and len(A) > 1 and len(A) < 1_000_000_000:\n",
    "        my_gen = (i for i in A if i <=1_000_000 and A.count(i) % 2 == 1)\n",
    "    \n",
    "    for i in my_gen:\n",
    "        return i\n",
    "                \n",
    "    \n",
    "            \n",
    "    \n",
    "    \n",
    "    "
   ]
  },
  {
   "cell_type": "code",
   "execution_count": 69,
   "metadata": {},
   "outputs": [
    {
     "data": {
      "text/plain": [
       "5"
      ]
     },
     "execution_count": 69,
     "metadata": {},
     "output_type": "execute_result"
    }
   ],
   "source": [
    "lista = [9,9,3,9,3,7,9]\n",
    "solution(lista)"
   ]
  },
  {
   "cell_type": "code",
   "execution_count": 68,
   "metadata": {},
   "outputs": [],
   "source": [
    "def solution(A):\n",
    "    \"\"\"Finds the first covering prefix of a list of integers\n",
    " \n",
    "    Given a zero-indexed non-empty list A consisting of N integers, returns the\n",
    "    first covering prefix of A.\n",
    " \n",
    "    \"\"\"\n",
    " \n",
    "    input_set = set(A)\n",
    " \n",
    "    #Counter to keep track of index being processed\n",
    "    counter = 0\n",
    " \n",
    "    while input_set:\n",
    "        if A[counter] in input_set:\n",
    "            input_set.remove(A[counter])\n",
    " \n",
    "        counter += 1\n",
    " \n",
    "    return counter-1\n",
    "    "
   ]
  },
  {
   "cell_type": "code",
   "execution_count": null,
   "metadata": {},
   "outputs": [],
   "source": []
  },
  {
   "cell_type": "code",
   "execution_count": null,
   "metadata": {},
   "outputs": [],
   "source": [
    "if len(tuples) % 2 != 0 and len(tuples) > 1 and len(tuples) < 1_000_000_000:\n",
    "        if min(tuple) > 1 and max(tuple) < 1_000_000:"
   ]
  },
  {
   "cell_type": "code",
   "execution_count": 3,
   "metadata": {},
   "outputs": [
    {
     "ename": "IndexError",
     "evalue": "tuple index out of range",
     "output_type": "error",
     "traceback": [
      "\u001b[1;31m---------------------------------------------------------------------------\u001b[0m",
      "\u001b[1;31mIndexError\u001b[0m                                Traceback (most recent call last)",
      "\u001b[1;32m<ipython-input-3-755274b727dd>\u001b[0m in \u001b[0;36m<module>\u001b[1;34m\u001b[0m\n\u001b[1;32m----> 1\u001b[1;33m \u001b[0msolution\u001b[0m\u001b[1;33m(\u001b[0m\u001b[0mlista\u001b[0m\u001b[1;33m)\u001b[0m\u001b[1;33m\u001b[0m\u001b[1;33m\u001b[0m\u001b[0m\n\u001b[0m",
      "\u001b[1;32m<ipython-input-1-45758a3d90e2>\u001b[0m in \u001b[0;36msolution\u001b[1;34m(A)\u001b[0m\n\u001b[0;32m      6\u001b[0m \u001b[1;33m\u001b[0m\u001b[0m\n\u001b[0;32m      7\u001b[0m         \u001b[1;32mwhile\u001b[0m \u001b[1;32mTrue\u001b[0m\u001b[1;33m:\u001b[0m\u001b[1;33m\u001b[0m\u001b[1;33m\u001b[0m\u001b[0m\n\u001b[1;32m----> 8\u001b[1;33m             \u001b[1;32mif\u001b[0m \u001b[0mtuples\u001b[0m\u001b[1;33m[\u001b[0m\u001b[0mi\u001b[0m\u001b[1;33m]\u001b[0m \u001b[1;33m>\u001b[0m \u001b[1;36m0\u001b[0m \u001b[1;32mand\u001b[0m \u001b[0mtuples\u001b[0m\u001b[1;33m[\u001b[0m\u001b[0mi\u001b[0m\u001b[1;33m]\u001b[0m \u001b[1;33m<\u001b[0m \u001b[1;36m1_000_000_001\u001b[0m \u001b[1;32mand\u001b[0m \u001b[0mtuples\u001b[0m\u001b[1;33m.\u001b[0m\u001b[0mcount\u001b[0m\u001b[1;33m(\u001b[0m\u001b[0mi\u001b[0m\u001b[1;33m)\u001b[0m \u001b[1;33m%\u001b[0m \u001b[1;36m2\u001b[0m \u001b[1;33m==\u001b[0m \u001b[1;36m0\u001b[0m\u001b[1;33m:\u001b[0m\u001b[1;33m\u001b[0m\u001b[1;33m\u001b[0m\u001b[0m\n\u001b[0m\u001b[0;32m      9\u001b[0m                 \u001b[0mi\u001b[0m \u001b[1;33m+=\u001b[0m\u001b[1;36m1\u001b[0m\u001b[1;33m\u001b[0m\u001b[1;33m\u001b[0m\u001b[0m\n\u001b[0;32m     10\u001b[0m \u001b[1;33m\u001b[0m\u001b[0m\n",
      "\u001b[1;31mIndexError\u001b[0m: tuple index out of range"
     ]
    }
   ],
   "source": []
  },
  {
   "cell_type": "code",
   "execution_count": null,
   "metadata": {},
   "outputs": [],
   "source": [
    "lista = [9,9,3,9,3,7,9]"
   ]
  },
  {
   "cell_type": "code",
   "execution_count": 128,
   "metadata": {},
   "outputs": [
    {
     "data": {
      "text/plain": [
       "int"
      ]
     },
     "execution_count": 128,
     "metadata": {},
     "output_type": "execute_result"
    }
   ],
   "source": [
    "type(1_000_000_000)"
   ]
  },
  {
   "cell_type": "code",
   "execution_count": 29,
   "metadata": {},
   "outputs": [],
   "source": [
    "def solution(A):\n",
    "    \n",
    "    tuples = tuple(A)\n",
    "    i = 0\n",
    "    if len(tuples) % 2 != 0 and len(tuples) > 1 and len(tuples) < 1_000_000_000:\n",
    "        \n",
    "        while True:\n",
    "            if tuples.count(i) % 2 == 0:\n",
    "                i +=1\n",
    "            \n",
    "            else:\n",
    "                return i\n",
    "                "
   ]
  },
  {
   "cell_type": "code",
   "execution_count": 31,
   "metadata": {},
   "outputs": [],
   "source": [
    "lista = [9,9,3,9,3,7,9,8]\n",
    "solution(lista)"
   ]
  },
  {
   "cell_type": "code",
   "execution_count": null,
   "metadata": {},
   "outputs": [],
   "source": []
  }
 ],
 "metadata": {
  "kernelspec": {
   "display_name": "Python 3",
   "language": "python",
   "name": "python3"
  },
  "language_info": {
   "codemirror_mode": {
    "name": "ipython",
    "version": 3
   },
   "file_extension": ".py",
   "mimetype": "text/x-python",
   "name": "python",
   "nbconvert_exporter": "python",
   "pygments_lexer": "ipython3",
   "version": "3.7.3"
  }
 },
 "nbformat": 4,
 "nbformat_minor": 2
}
